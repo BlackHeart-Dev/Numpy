{
 "cells": [
  {
   "cell_type": "code",
   "execution_count": 2,
   "id": "79c37f70",
   "metadata": {},
   "outputs": [],
   "source": [
    "import numpy as np\n",
    "import matplotlib.pyplot as plt\n",
    "import seaborn as sns"
   ]
  },
  {
   "cell_type": "code",
   "execution_count": 2,
   "id": "75b2abef",
   "metadata": {},
   "outputs": [
    {
     "data": {
      "text/plain": [
       "array([0, 1, 2, 3, 4, 5])"
      ]
     },
     "execution_count": 2,
     "metadata": {},
     "output_type": "execute_result"
    }
   ],
   "source": [
    "arr = np.array([0, 1, 2, 3, 4, 5])\n",
    "print(arr)"
   ]
  },
  {
   "cell_type": "code",
   "execution_count": 3,
   "id": "e5b2e05e",
   "metadata": {},
   "outputs": [
    {
     "data": {
      "text/plain": [
       "'1.21.4'"
      ]
     },
     "execution_count": 3,
     "metadata": {},
     "output_type": "execute_result"
    }
   ],
   "source": [
    "print(np.__version__)"
   ]
  },
  {
   "cell_type": "code",
   "execution_count": 4,
   "id": "3411a46f",
   "metadata": {},
   "outputs": [
    {
     "name": "stdout",
     "output_type": "stream",
     "text": [
      "[0 1 2 3 4 5]\n",
      "<class 'numpy.ndarray'>\n"
     ]
    }
   ],
   "source": [
    "arr = np.array([0, 1, 2, 3, 4, 5])\n",
    "print(arr)\n",
    "print(type(arr))"
   ]
  },
  {
   "cell_type": "code",
   "execution_count": 5,
   "id": "076c4ed8",
   "metadata": {},
   "outputs": [
    {
     "name": "stdout",
     "output_type": "stream",
     "text": [
      "5\n"
     ]
    }
   ],
   "source": [
    "D_0 = np.array(5)\n",
    "print(D_0)"
   ]
  },
  {
   "cell_type": "code",
   "execution_count": 6,
   "id": "152353e2",
   "metadata": {},
   "outputs": [
    {
     "name": "stdout",
     "output_type": "stream",
     "text": [
      "[0 1 2 3 4 5]\n"
     ]
    }
   ],
   "source": [
    "D_1 = np.array([0, 1, 2, 3, 4, 5])\n",
    "print(D_1)"
   ]
  },
  {
   "cell_type": "code",
   "execution_count": 7,
   "id": "13a6d17f",
   "metadata": {},
   "outputs": [
    {
     "name": "stdout",
     "output_type": "stream",
     "text": [
      "[[0 1 2 3]\n",
      " [4 5 6 7]]\n"
     ]
    }
   ],
   "source": [
    "D_2 = np.array([[0, 1, 2, 3], [4, 5, 6, 7]])\n",
    "print(D_2)"
   ]
  },
  {
   "cell_type": "code",
   "execution_count": 8,
   "id": "9585f1c6",
   "metadata": {},
   "outputs": [
    {
     "name": "stdout",
     "output_type": "stream",
     "text": [
      "[[[0 1]\n",
      "  [2 3]]\n",
      "\n",
      " [[4 5]\n",
      "  [6 7]]]\n"
     ]
    }
   ],
   "source": [
    "D_3 = np.array([[[0, 1], [2, 3]], [[4, 5], [6, 7]]])\n",
    "print(D_3)"
   ]
  },
  {
   "cell_type": "code",
   "execution_count": 9,
   "id": "e7129fcd",
   "metadata": {},
   "outputs": [
    {
     "name": "stdout",
     "output_type": "stream",
     "text": [
      "0\n",
      "1\n",
      "2\n",
      "3\n"
     ]
    }
   ],
   "source": [
    "print(D_0.ndim)\n",
    "print(D_1.ndim)\n",
    "print(D_2.ndim)\n",
    "print(D_3.ndim)"
   ]
  },
  {
   "cell_type": "code",
   "execution_count": 10,
   "id": "9c63078a",
   "metadata": {},
   "outputs": [
    {
     "name": "stdout",
     "output_type": "stream",
     "text": [
      "[[[[[0 1 2 3 4 5]]]]]\n",
      "5\n"
     ]
    }
   ],
   "source": [
    "arr = np.array([0, 1, 2, 3, 4, 5], ndmin=5)\n",
    "print(arr)\n",
    "print(arr.ndim)"
   ]
  },
  {
   "cell_type": "code",
   "execution_count": 11,
   "id": "db8f5775",
   "metadata": {},
   "outputs": [
    {
     "name": "stdout",
     "output_type": "stream",
     "text": [
      "[0 1 2 3 4 5 6 7 8 9]\n"
     ]
    }
   ],
   "source": [
    "arr = np.array([0, 1, 2, 3, 4, 5, 6, 7, 8, 9])\n",
    "print(arr)"
   ]
  },
  {
   "cell_type": "code",
   "execution_count": 12,
   "id": "9e5750d2",
   "metadata": {},
   "outputs": [
    {
     "name": "stdout",
     "output_type": "stream",
     "text": [
      "0\n"
     ]
    }
   ],
   "source": [
    "print(arr[0])"
   ]
  },
  {
   "cell_type": "code",
   "execution_count": 13,
   "id": "014005c7",
   "metadata": {},
   "outputs": [
    {
     "name": "stdout",
     "output_type": "stream",
     "text": [
      "1\n"
     ]
    }
   ],
   "source": [
    "print(arr[1])"
   ]
  },
  {
   "cell_type": "code",
   "execution_count": 14,
   "id": "4f7a579c",
   "metadata": {},
   "outputs": [
    {
     "name": "stdout",
     "output_type": "stream",
     "text": [
      "2\n"
     ]
    }
   ],
   "source": [
    "print(arr[2])"
   ]
  },
  {
   "cell_type": "code",
   "execution_count": 15,
   "id": "07380281",
   "metadata": {},
   "outputs": [
    {
     "name": "stdout",
     "output_type": "stream",
     "text": [
      "3\n"
     ]
    }
   ],
   "source": [
    "print(arr[3])"
   ]
  },
  {
   "cell_type": "code",
   "execution_count": 16,
   "id": "8c61cad2",
   "metadata": {},
   "outputs": [
    {
     "name": "stdout",
     "output_type": "stream",
     "text": [
      "9\n"
     ]
    }
   ],
   "source": [
    "print(arr[-1])"
   ]
  },
  {
   "cell_type": "code",
   "execution_count": 17,
   "id": "e8806638",
   "metadata": {},
   "outputs": [
    {
     "name": "stdout",
     "output_type": "stream",
     "text": [
      "8\n"
     ]
    }
   ],
   "source": [
    "print(arr[-2])"
   ]
  },
  {
   "cell_type": "code",
   "execution_count": 18,
   "id": "ec83bdb7",
   "metadata": {},
   "outputs": [
    {
     "name": "stdout",
     "output_type": "stream",
     "text": [
      "7\n"
     ]
    }
   ],
   "source": [
    "print(arr[-3])"
   ]
  },
  {
   "cell_type": "code",
   "execution_count": 19,
   "id": "f11fdd0a",
   "metadata": {},
   "outputs": [
    {
     "name": "stdout",
     "output_type": "stream",
     "text": [
      "9\n"
     ]
    }
   ],
   "source": [
    "print(arr[3] + arr[6])"
   ]
  },
  {
   "cell_type": "code",
   "execution_count": 20,
   "id": "d17667b5",
   "metadata": {},
   "outputs": [
    {
     "name": "stdout",
     "output_type": "stream",
     "text": [
      "10\n"
     ]
    }
   ],
   "source": [
    "print(arr[-3] + arr[3])"
   ]
  },
  {
   "cell_type": "code",
   "execution_count": 21,
   "id": "14823de2",
   "metadata": {},
   "outputs": [
    {
     "name": "stdout",
     "output_type": "stream",
     "text": [
      "1\n"
     ]
    }
   ],
   "source": [
    "print(D_2[0, 1])"
   ]
  },
  {
   "cell_type": "code",
   "execution_count": 22,
   "id": "fc81376a",
   "metadata": {},
   "outputs": [
    {
     "name": "stdout",
     "output_type": "stream",
     "text": [
      "0\n"
     ]
    }
   ],
   "source": [
    "print(D_2[0, 0])"
   ]
  },
  {
   "cell_type": "code",
   "execution_count": 23,
   "id": "020fa111",
   "metadata": {},
   "outputs": [
    {
     "name": "stdout",
     "output_type": "stream",
     "text": [
      "3\n"
     ]
    }
   ],
   "source": [
    "print(D_2[0, -1])"
   ]
  },
  {
   "cell_type": "code",
   "execution_count": 24,
   "id": "04f14059",
   "metadata": {},
   "outputs": [
    {
     "name": "stdout",
     "output_type": "stream",
     "text": [
      "4\n"
     ]
    }
   ],
   "source": [
    "print(D_2[1, 0])"
   ]
  },
  {
   "cell_type": "code",
   "execution_count": 25,
   "id": "8fb006b4",
   "metadata": {},
   "outputs": [
    {
     "name": "stdout",
     "output_type": "stream",
     "text": [
      "7\n"
     ]
    }
   ],
   "source": [
    "print(D_2[1, 3])"
   ]
  },
  {
   "cell_type": "code",
   "execution_count": 26,
   "id": "dd22f312",
   "metadata": {},
   "outputs": [
    {
     "name": "stdout",
     "output_type": "stream",
     "text": [
      "7\n"
     ]
    }
   ],
   "source": [
    "print(D_2[-1, 3])"
   ]
  },
  {
   "cell_type": "code",
   "execution_count": 27,
   "id": "052c7a5d",
   "metadata": {},
   "outputs": [
    {
     "name": "stdout",
     "output_type": "stream",
     "text": [
      "7\n"
     ]
    }
   ],
   "source": [
    "print(D_2[-1, -1])"
   ]
  },
  {
   "cell_type": "code",
   "execution_count": 28,
   "id": "7c63104f",
   "metadata": {},
   "outputs": [
    {
     "name": "stdout",
     "output_type": "stream",
     "text": [
      "1\n"
     ]
    }
   ],
   "source": [
    "print(D_3[0, 0, 1])"
   ]
  },
  {
   "cell_type": "code",
   "execution_count": 29,
   "id": "bf250eed",
   "metadata": {},
   "outputs": [
    {
     "name": "stdout",
     "output_type": "stream",
     "text": [
      "0\n"
     ]
    }
   ],
   "source": [
    "print(D_3[0, 0, 0])"
   ]
  },
  {
   "cell_type": "code",
   "execution_count": 30,
   "id": "9cf896b3",
   "metadata": {},
   "outputs": [
    {
     "name": "stdout",
     "output_type": "stream",
     "text": [
      "7\n"
     ]
    }
   ],
   "source": [
    "print(D_3[-1, -1, -1])"
   ]
  },
  {
   "cell_type": "code",
   "execution_count": 31,
   "id": "7a6bb504",
   "metadata": {},
   "outputs": [
    {
     "name": "stdout",
     "output_type": "stream",
     "text": [
      "6\n"
     ]
    }
   ],
   "source": [
    "print(D_3[-1, -1, 0])"
   ]
  },
  {
   "cell_type": "code",
   "execution_count": 32,
   "id": "c16ae5a1",
   "metadata": {},
   "outputs": [
    {
     "name": "stdout",
     "output_type": "stream",
     "text": [
      "[0 1 2 3 4 5 6 7 8 9]\n"
     ]
    }
   ],
   "source": [
    "print(arr)"
   ]
  },
  {
   "cell_type": "code",
   "execution_count": 33,
   "id": "383e7e97",
   "metadata": {},
   "outputs": [
    {
     "name": "stdout",
     "output_type": "stream",
     "text": [
      "[2 3 4 5]\n"
     ]
    }
   ],
   "source": [
    "print(arr[2:6])"
   ]
  },
  {
   "cell_type": "code",
   "execution_count": 34,
   "id": "990393ea",
   "metadata": {},
   "outputs": [
    {
     "name": "stdout",
     "output_type": "stream",
     "text": [
      "[0 1 2 3 4 5]\n"
     ]
    }
   ],
   "source": [
    "print(arr[:6])"
   ]
  },
  {
   "cell_type": "code",
   "execution_count": 35,
   "id": "b26b1e9c",
   "metadata": {},
   "outputs": [
    {
     "name": "stdout",
     "output_type": "stream",
     "text": [
      "[2 3 4 5 6 7 8 9]\n"
     ]
    }
   ],
   "source": [
    "print(arr[2:])"
   ]
  },
  {
   "cell_type": "code",
   "execution_count": 36,
   "id": "2f709051",
   "metadata": {},
   "outputs": [
    {
     "name": "stdout",
     "output_type": "stream",
     "text": [
      "[0 2 4 6 8]\n"
     ]
    }
   ],
   "source": [
    "print(arr[::2])"
   ]
  },
  {
   "cell_type": "code",
   "execution_count": 37,
   "id": "04aa1ca9",
   "metadata": {},
   "outputs": [
    {
     "name": "stdout",
     "output_type": "stream",
     "text": [
      "[0 3 6 9]\n"
     ]
    }
   ],
   "source": [
    "print(arr[::3])"
   ]
  },
  {
   "cell_type": "code",
   "execution_count": 38,
   "id": "158fed6e",
   "metadata": {},
   "outputs": [
    {
     "name": "stdout",
     "output_type": "stream",
     "text": [
      "[4 5 6 7]\n"
     ]
    }
   ],
   "source": [
    "print(arr[-6:-2])"
   ]
  },
  {
   "cell_type": "code",
   "execution_count": 39,
   "id": "4e170579",
   "metadata": {},
   "outputs": [
    {
     "name": "stdout",
     "output_type": "stream",
     "text": [
      "[[0 1 2 3]\n",
      " [4 5 6 7]]\n"
     ]
    }
   ],
   "source": [
    "print(D_2)"
   ]
  },
  {
   "cell_type": "code",
   "execution_count": 40,
   "id": "1d1b3ad6",
   "metadata": {},
   "outputs": [
    {
     "name": "stdout",
     "output_type": "stream",
     "text": [
      "[1 2 3]\n"
     ]
    }
   ],
   "source": [
    "print(D_2[0, 1:])"
   ]
  },
  {
   "cell_type": "code",
   "execution_count": 41,
   "id": "f09159ff",
   "metadata": {},
   "outputs": [
    {
     "name": "stdout",
     "output_type": "stream",
     "text": [
      "[4 5 6 7]\n"
     ]
    }
   ],
   "source": [
    "print(D_2[1, :])"
   ]
  },
  {
   "cell_type": "code",
   "execution_count": 43,
   "id": "90bde055",
   "metadata": {},
   "outputs": [
    {
     "name": "stdout",
     "output_type": "stream",
     "text": [
      "[2 6]\n"
     ]
    }
   ],
   "source": [
    "print(D_2[:, 2])"
   ]
  },
  {
   "cell_type": "code",
   "execution_count": 44,
   "id": "22c6fda6",
   "metadata": {},
   "outputs": [
    {
     "name": "stdout",
     "output_type": "stream",
     "text": [
      "[[2 3]\n",
      " [6 7]]\n"
     ]
    }
   ],
   "source": [
    "print(D_2[:, 2:])"
   ]
  },
  {
   "cell_type": "code",
   "execution_count": 45,
   "id": "da6e1bcf",
   "metadata": {},
   "outputs": [
    {
     "name": "stdout",
     "output_type": "stream",
     "text": [
      "int64\n"
     ]
    }
   ],
   "source": [
    "arr = np.array([0, 1,2, 3, 4, 5])\n",
    "print(arr.dtype)"
   ]
  },
  {
   "cell_type": "code",
   "execution_count": 46,
   "id": "c4399787",
   "metadata": {},
   "outputs": [
    {
     "name": "stdout",
     "output_type": "stream",
     "text": [
      "<U1\n"
     ]
    }
   ],
   "source": [
    "arr = np.array(['A', 'B', 'C'])\n",
    "print(arr.dtype)"
   ]
  },
  {
   "cell_type": "code",
   "execution_count": 47,
   "id": "d321bbe6",
   "metadata": {},
   "outputs": [
    {
     "name": "stdout",
     "output_type": "stream",
     "text": [
      "|S1\n"
     ]
    }
   ],
   "source": [
    "arr = np.array([0, 1, 2, 3, 4, 5], dtype='S')\n",
    "print(arr.dtype)"
   ]
  },
  {
   "cell_type": "code",
   "execution_count": 49,
   "id": "8016917a",
   "metadata": {},
   "outputs": [
    {
     "name": "stdout",
     "output_type": "stream",
     "text": [
      "[0 1 2 3 4 5]\n",
      "int8\n"
     ]
    }
   ],
   "source": [
    "arr = np.array([0, 1, 2, 3, 4, 5])\n",
    "new_arr = arr.astype('b')\n",
    "print(new_arr)\n",
    "print(new_arr.dtype)"
   ]
  },
  {
   "cell_type": "code",
   "execution_count": 50,
   "id": "8e01ef5b",
   "metadata": {},
   "outputs": [
    {
     "name": "stdout",
     "output_type": "stream",
     "text": [
      "[False  True  True  True  True  True]\n",
      "bool\n"
     ]
    }
   ],
   "source": [
    "arr = np.array([0, 1, 2, 3, 4, 5])\n",
    "new_arr = arr.astype(bool)\n",
    "print(new_arr)\n",
    "print(new_arr.dtype)"
   ]
  },
  {
   "cell_type": "code",
   "execution_count": 51,
   "id": "5b92207b",
   "metadata": {},
   "outputs": [
    {
     "name": "stdout",
     "output_type": "stream",
     "text": [
      "[0 1 2 3 4 5]\n",
      "[0 1 2 3 4 5]\n",
      "[ 0 45  2  3  4  5]\n",
      "[12  1  2  3  4  5]\n"
     ]
    }
   ],
   "source": [
    "arr = np.array([0, 1, 2, 3, 4, 5])\n",
    "copy = arr.copy()\n",
    "print(arr)\n",
    "print(copy)\n",
    "copy[0] = 12\n",
    "arr[1] = 45\n",
    "print(arr)\n",
    "print(copy)"
   ]
  },
  {
   "cell_type": "code",
   "execution_count": 52,
   "id": "4fe8e4d8",
   "metadata": {},
   "outputs": [
    {
     "name": "stdout",
     "output_type": "stream",
     "text": [
      "[0 1 2 3 4 5]\n",
      "[0 1 2 3 4 5]\n",
      "[12 45  2  3  4  5]\n",
      "[12 45  2  3  4  5]\n"
     ]
    }
   ],
   "source": [
    "arr = np.array([0, 1, 2, 3, 4, 5])\n",
    "view = arr.view()\n",
    "print(view)\n",
    "print(arr)\n",
    "view[0] = 12\n",
    "arr[1] = 45\n",
    "print(view)\n",
    "print(arr)"
   ]
  },
  {
   "cell_type": "code",
   "execution_count": 53,
   "id": "4bf4c8d8",
   "metadata": {},
   "outputs": [
    {
     "name": "stdout",
     "output_type": "stream",
     "text": [
      "[12 45  2  3  4  5]\n",
      "None\n"
     ]
    }
   ],
   "source": [
    "print(view.base)\n",
    "print(copy.base)"
   ]
  },
  {
   "cell_type": "code",
   "execution_count": 54,
   "id": "f2bcf858",
   "metadata": {},
   "outputs": [
    {
     "name": "stdout",
     "output_type": "stream",
     "text": [
      "(6,)\n"
     ]
    }
   ],
   "source": [
    "arr = np.array([0, 1, 2, 3, 4, 5])\n",
    "print(arr.shape)"
   ]
  },
  {
   "cell_type": "code",
   "execution_count": 55,
   "id": "5b17a603",
   "metadata": {},
   "outputs": [
    {
     "name": "stdout",
     "output_type": "stream",
     "text": [
      "(2, 4)\n"
     ]
    }
   ],
   "source": [
    "arr = np.array([[0, 1, 2, 3], [5, 6, 7, 8]])\n",
    "print(arr.shape)"
   ]
  },
  {
   "cell_type": "code",
   "execution_count": 57,
   "id": "6992d904",
   "metadata": {},
   "outputs": [
    {
     "name": "stdout",
     "output_type": "stream",
     "text": [
      "[[[[[0 1 2]]]]]\n",
      "(1, 1, 1, 1, 3)\n"
     ]
    }
   ],
   "source": [
    "arr = np.array([0, 1, 2], ndmin=5)\n",
    "print(arr)\n",
    "print(arr.shape)"
   ]
  },
  {
   "cell_type": "code",
   "execution_count": 58,
   "id": "3daf0332",
   "metadata": {},
   "outputs": [],
   "source": [
    "arr = np.array([0, 1, 2, 3, 4, 5, 6, 7, 8, 9, 10, 11])"
   ]
  },
  {
   "cell_type": "code",
   "execution_count": 59,
   "id": "6a9bba47",
   "metadata": {},
   "outputs": [
    {
     "name": "stdout",
     "output_type": "stream",
     "text": [
      "[[ 0  1  2]\n",
      " [ 3  4  5]\n",
      " [ 6  7  8]\n",
      " [ 9 10 11]]\n"
     ]
    }
   ],
   "source": [
    "print(arr.reshape(4, 3))"
   ]
  },
  {
   "cell_type": "code",
   "execution_count": 60,
   "id": "d302c37c",
   "metadata": {},
   "outputs": [
    {
     "name": "stdout",
     "output_type": "stream",
     "text": [
      "[[ 0  1  2  3]\n",
      " [ 4  5  6  7]\n",
      " [ 8  9 10 11]]\n"
     ]
    }
   ],
   "source": [
    "print(arr.reshape(3, 4))"
   ]
  },
  {
   "cell_type": "code",
   "execution_count": 61,
   "id": "83112c30",
   "metadata": {},
   "outputs": [
    {
     "name": "stdout",
     "output_type": "stream",
     "text": [
      "[[[ 0  1]\n",
      "  [ 2  3]]\n",
      "\n",
      " [[ 4  5]\n",
      "  [ 6  7]]\n",
      "\n",
      " [[ 8  9]\n",
      "  [10 11]]]\n"
     ]
    }
   ],
   "source": [
    "print(arr.reshape(3, 2, 2))"
   ]
  },
  {
   "cell_type": "code",
   "execution_count": 63,
   "id": "75c80a4d",
   "metadata": {},
   "outputs": [
    {
     "name": "stdout",
     "output_type": "stream",
     "text": [
      "[[ 0  1  2  3  4  5]\n",
      " [ 6  7  8  9 10 11]]\n",
      "[ 0  1  2  3  4  5  6  7  8  9 10 11]\n"
     ]
    }
   ],
   "source": [
    "new_arr = arr.reshape(2, 6)\n",
    "print(new_arr)\n",
    "print(new_arr.base)"
   ]
  },
  {
   "cell_type": "code",
   "execution_count": 64,
   "id": "973c1320",
   "metadata": {},
   "outputs": [
    {
     "name": "stdout",
     "output_type": "stream",
     "text": [
      "[1 2 3 4 5 6 7 8]\n"
     ]
    }
   ],
   "source": [
    "arr = np.array([[1, 2, 3, 4,], [5, 6, 7, 8]])\n",
    "print(arr.reshape(-1))"
   ]
  },
  {
   "cell_type": "code",
   "execution_count": 65,
   "id": "5a4a2bfa",
   "metadata": {},
   "outputs": [],
   "source": [
    "arr = np.array([0, 1, 2, 3, 4, 5, 6, 7])"
   ]
  },
  {
   "cell_type": "code",
   "execution_count": 66,
   "id": "881ab3be",
   "metadata": {},
   "outputs": [
    {
     "name": "stdout",
     "output_type": "stream",
     "text": [
      "0\n",
      "1\n",
      "2\n",
      "3\n",
      "4\n",
      "5\n",
      "6\n",
      "7\n"
     ]
    }
   ],
   "source": [
    "for i in np.nditer(arr):\n",
    "    print(i)"
   ]
  },
  {
   "cell_type": "code",
   "execution_count": 67,
   "id": "89280538",
   "metadata": {},
   "outputs": [
    {
     "name": "stdout",
     "output_type": "stream",
     "text": [
      "b'0'\n",
      "b'1'\n",
      "b'2'\n",
      "b'3'\n",
      "b'4'\n",
      "b'5'\n",
      "b'6'\n",
      "b'7'\n"
     ]
    }
   ],
   "source": [
    "for i in np.nditer(arr, flags=['buffered'], op_dtypes=['S']):\n",
    "    print(i)"
   ]
  },
  {
   "cell_type": "code",
   "execution_count": 69,
   "id": "76b11bd3",
   "metadata": {},
   "outputs": [
    {
     "name": "stdout",
     "output_type": "stream",
     "text": [
      "0\n",
      "1\n",
      "2\n",
      "3\n",
      "4\n",
      "5\n",
      "6\n",
      "7\n"
     ]
    }
   ],
   "source": [
    "for i in np.nditer(arr, flags=['buffered'], op_dtypes=['O']):\n",
    "    print(i)"
   ]
  },
  {
   "cell_type": "code",
   "execution_count": 70,
   "id": "1162e35e",
   "metadata": {},
   "outputs": [],
   "source": [
    "arr = np.array([[[0, 1], [2, 3]], [[4, 5], [6, 7]]])"
   ]
  },
  {
   "cell_type": "code",
   "execution_count": 71,
   "id": "56351a63",
   "metadata": {},
   "outputs": [
    {
     "name": "stdout",
     "output_type": "stream",
     "text": [
      "0\n",
      "1\n",
      "2\n",
      "3\n",
      "4\n",
      "5\n",
      "6\n",
      "7\n"
     ]
    }
   ],
   "source": [
    "for i in np.nditer(arr):\n",
    "    print(i)"
   ]
  },
  {
   "cell_type": "code",
   "execution_count": 73,
   "id": "e10d2543",
   "metadata": {},
   "outputs": [
    {
     "name": "stdout",
     "output_type": "stream",
     "text": [
      "b'0'\n",
      "b'1'\n",
      "b'2'\n",
      "b'3'\n",
      "b'4'\n",
      "b'5'\n",
      "b'6'\n",
      "b'7'\n"
     ]
    }
   ],
   "source": [
    "for i in np.nditer(arr, flags=['buffered'], op_dtypes=['S']):\n",
    "    print(i)"
   ]
  },
  {
   "cell_type": "code",
   "execution_count": 74,
   "id": "14421f0a",
   "metadata": {},
   "outputs": [],
   "source": [
    "arr = np.array([0, 1, 2, 3, 4, 5, 6, 7])"
   ]
  },
  {
   "cell_type": "code",
   "execution_count": 76,
   "id": "52aac99e",
   "metadata": {},
   "outputs": [
    {
     "name": "stdout",
     "output_type": "stream",
     "text": [
      "((0,), 0)\n",
      "((1,), 1)\n",
      "((2,), 2)\n",
      "((3,), 3)\n",
      "((4,), 4)\n",
      "((5,), 5)\n",
      "((6,), 6)\n",
      "((7,), 7)\n"
     ]
    }
   ],
   "source": [
    "for i in np.ndenumerate(arr):\n",
    "    print(i)"
   ]
  },
  {
   "cell_type": "code",
   "execution_count": 77,
   "id": "0f87c26f",
   "metadata": {},
   "outputs": [],
   "source": [
    "arr = np.array([[[0, 1], [2, 3]], [[4, 5], [6, 7]]])"
   ]
  },
  {
   "cell_type": "code",
   "execution_count": 80,
   "id": "47a4b194",
   "metadata": {},
   "outputs": [
    {
     "name": "stdout",
     "output_type": "stream",
     "text": [
      "((0, 0, 0), 0)\n",
      "((0, 0, 1), 1)\n",
      "((0, 1, 0), 2)\n",
      "((0, 1, 1), 3)\n",
      "((1, 0, 0), 4)\n",
      "((1, 0, 1), 5)\n",
      "((1, 1, 0), 6)\n",
      "((1, 1, 1), 7)\n"
     ]
    }
   ],
   "source": [
    "for i in np.ndenumerate(arr):\n",
    "    print(i)"
   ]
  },
  {
   "cell_type": "code",
   "execution_count": 83,
   "id": "6331cbf0",
   "metadata": {},
   "outputs": [
    {
     "name": "stdout",
     "output_type": "stream",
     "text": [
      "[0 1 2 3 4 5 6 7]\n"
     ]
    }
   ],
   "source": [
    "a_1 = np.array([0, 1, 2, 3])\n",
    "a_2 = np.array([4, 5, 6, 7])\n",
    "print(np.concatenate((a_1, a_2)))"
   ]
  },
  {
   "cell_type": "code",
   "execution_count": 85,
   "id": "05d12e98",
   "metadata": {},
   "outputs": [],
   "source": [
    "a_1 = np.array([[0, 1, 2], \n",
    "                [3, 4, 5]])\n",
    "\n",
    "a_2 = np.array([[6, 7, 8], \n",
    "                [9, 10, 11]])"
   ]
  },
  {
   "cell_type": "code",
   "execution_count": 88,
   "id": "f28b1784",
   "metadata": {
    "scrolled": true
   },
   "outputs": [
    {
     "name": "stdout",
     "output_type": "stream",
     "text": [
      "[[ 0  1  2]\n",
      " [ 3  4  5]\n",
      " [ 6  7  8]\n",
      " [ 9 10 11]]\n"
     ]
    }
   ],
   "source": [
    "print(np.concatenate((a_1, a_2), axis=0))"
   ]
  },
  {
   "cell_type": "code",
   "execution_count": 89,
   "id": "3ef28bd6",
   "metadata": {},
   "outputs": [
    {
     "name": "stdout",
     "output_type": "stream",
     "text": [
      "[[ 0  1  2  6  7  8]\n",
      " [ 3  4  5  9 10 11]]\n"
     ]
    }
   ],
   "source": [
    "print(np.concatenate((a_1, a_2), axis=1))"
   ]
  },
  {
   "cell_type": "code",
   "execution_count": 90,
   "id": "647c56fb",
   "metadata": {},
   "outputs": [],
   "source": [
    "a_1 = np.array([0, 1, 2, 3])\n",
    "a_2 = np.array([4, 5, 6, 7])"
   ]
  },
  {
   "cell_type": "code",
   "execution_count": 91,
   "id": "b834fdff",
   "metadata": {},
   "outputs": [
    {
     "name": "stdout",
     "output_type": "stream",
     "text": [
      "[[0 1 2 3]\n",
      " [4 5 6 7]]\n"
     ]
    }
   ],
   "source": [
    "print(np.stack((a_1, a_2)))"
   ]
  },
  {
   "cell_type": "code",
   "execution_count": 92,
   "id": "329457dc",
   "metadata": {},
   "outputs": [
    {
     "name": "stdout",
     "output_type": "stream",
     "text": [
      "[[0 4]\n",
      " [1 5]\n",
      " [2 6]\n",
      " [3 7]]\n"
     ]
    }
   ],
   "source": [
    "print(np.stack((a_1, a_2), axis=1))"
   ]
  },
  {
   "cell_type": "code",
   "execution_count": 93,
   "id": "29105ca7",
   "metadata": {},
   "outputs": [],
   "source": [
    "a_1 = np.array([[0, 1, 2],\n",
    "                [3, 4, 5]])\n",
    "a_2 = np.array([[6, 7, 8], \n",
    "                [9, 10, 11]])"
   ]
  },
  {
   "cell_type": "code",
   "execution_count": 94,
   "id": "2efa4d8b",
   "metadata": {},
   "outputs": [
    {
     "name": "stdout",
     "output_type": "stream",
     "text": [
      "[[[ 0  1  2]\n",
      "  [ 3  4  5]]\n",
      "\n",
      " [[ 6  7  8]\n",
      "  [ 9 10 11]]]\n"
     ]
    }
   ],
   "source": [
    "print(np.stack((a_1, a_2), axis=0))"
   ]
  },
  {
   "cell_type": "code",
   "execution_count": 95,
   "id": "5485e1de",
   "metadata": {},
   "outputs": [
    {
     "name": "stdout",
     "output_type": "stream",
     "text": [
      "[[[ 0  1  2]\n",
      "  [ 6  7  8]]\n",
      "\n",
      " [[ 3  4  5]\n",
      "  [ 9 10 11]]]\n"
     ]
    }
   ],
   "source": [
    "print(np.stack((a_1, a_2), axis=1))"
   ]
  },
  {
   "cell_type": "code",
   "execution_count": 96,
   "id": "9c58961f",
   "metadata": {},
   "outputs": [
    {
     "name": "stdout",
     "output_type": "stream",
     "text": [
      "[[ 0  1  2  6  7  8]\n",
      " [ 3  4  5  9 10 11]]\n"
     ]
    }
   ],
   "source": [
    "print(np.hstack((a_1, a_2)))"
   ]
  },
  {
   "cell_type": "code",
   "execution_count": 97,
   "id": "a047741b",
   "metadata": {},
   "outputs": [
    {
     "name": "stdout",
     "output_type": "stream",
     "text": [
      "[[ 0  1  2]\n",
      " [ 3  4  5]\n",
      " [ 6  7  8]\n",
      " [ 9 10 11]]\n"
     ]
    }
   ],
   "source": [
    "print(np.vstack((a_1, a_2)))"
   ]
  },
  {
   "cell_type": "code",
   "execution_count": 99,
   "id": "db72036d",
   "metadata": {},
   "outputs": [
    {
     "name": "stdout",
     "output_type": "stream",
     "text": [
      "[[[ 0  6]\n",
      "  [ 1  7]\n",
      "  [ 2  8]]\n",
      "\n",
      " [[ 3  9]\n",
      "  [ 4 10]\n",
      "  [ 5 11]]]\n"
     ]
    }
   ],
   "source": [
    "print(np.dstack((a_1, a_2)))"
   ]
  },
  {
   "cell_type": "code",
   "execution_count": 100,
   "id": "570c513c",
   "metadata": {},
   "outputs": [],
   "source": [
    "arr = np.array([0, 1, 2, 3, 4, 5, 6, 7, 8, 9, 10, 11, 12, 13, 14, 15])"
   ]
  },
  {
   "cell_type": "code",
   "execution_count": 101,
   "id": "0838d65f",
   "metadata": {},
   "outputs": [
    {
     "name": "stdout",
     "output_type": "stream",
     "text": [
      "[array([0, 1, 2, 3]), array([4, 5, 6, 7]), array([ 8,  9, 10, 11]), array([12, 13, 14, 15])]\n"
     ]
    }
   ],
   "source": [
    "print(np.array_split(arr, 4))"
   ]
  },
  {
   "cell_type": "code",
   "execution_count": 102,
   "id": "8f096050",
   "metadata": {},
   "outputs": [
    {
     "name": "stdout",
     "output_type": "stream",
     "text": [
      "[array([0, 1, 2, 3, 4, 5]), array([ 6,  7,  8,  9, 10]), array([11, 12, 13, 14, 15])]\n"
     ]
    }
   ],
   "source": [
    "print(np.array_split(arr, 3))"
   ]
  },
  {
   "cell_type": "code",
   "execution_count": 104,
   "id": "21ea6a6e",
   "metadata": {},
   "outputs": [
    {
     "name": "stdout",
     "output_type": "stream",
     "text": [
      "[array([0, 1]), array([2, 3]), array([4, 5]), array([6, 7]), array([8]), array([9]), array([10]), array([11]), array([12]), array([13]), array([14]), array([15])]\n"
     ]
    }
   ],
   "source": [
    "print(np.array_split(arr, 12))"
   ]
  },
  {
   "cell_type": "code",
   "execution_count": 109,
   "id": "44c7d29c",
   "metadata": {},
   "outputs": [
    {
     "name": "stdout",
     "output_type": "stream",
     "text": [
      "[array([[ 1],\n",
      "       [ 4],\n",
      "       [ 7],\n",
      "       [10],\n",
      "       [13],\n",
      "       [16]]), array([[ 2],\n",
      "       [ 5],\n",
      "       [ 8],\n",
      "       [11],\n",
      "       [14],\n",
      "       [17]]), array([[ 3],\n",
      "       [ 6],\n",
      "       [ 9],\n",
      "       [12],\n",
      "       [15],\n",
      "       [18]])]\n"
     ]
    }
   ],
   "source": [
    "arr = np.array([[1, 2, 3], \n",
    "                [4, 5, 6], \n",
    "                [7, 8, 9], \n",
    "                [10, 11, 12], \n",
    "                [13, 14, 15], \n",
    "                [16, 17, 18]])\n",
    "\n",
    "print(np.array_split(arr, 3, axis=1))"
   ]
  },
  {
   "cell_type": "code",
   "execution_count": 110,
   "id": "92d41a65",
   "metadata": {},
   "outputs": [],
   "source": [
    "arr = np.array([[1, 2, 3], [4, 5, 6], [7, 8, 9], [10, 11, 12], [13, 14, 15], [16, 17, 18]])"
   ]
  },
  {
   "cell_type": "code",
   "execution_count": 114,
   "id": "3b12d957",
   "metadata": {},
   "outputs": [
    {
     "name": "stdout",
     "output_type": "stream",
     "text": [
      "[array([[ 1],\n",
      "       [ 4],\n",
      "       [ 7],\n",
      "       [10],\n",
      "       [13],\n",
      "       [16]]), array([[ 2],\n",
      "       [ 5],\n",
      "       [ 8],\n",
      "       [11],\n",
      "       [14],\n",
      "       [17]]), array([[ 3],\n",
      "       [ 6],\n",
      "       [ 9],\n",
      "       [12],\n",
      "       [15],\n",
      "       [18]])]\n"
     ]
    }
   ],
   "source": [
    "print(np.hsplit(arr, 3))"
   ]
  },
  {
   "cell_type": "code",
   "execution_count": 115,
   "id": "ff447dfb",
   "metadata": {},
   "outputs": [
    {
     "name": "stdout",
     "output_type": "stream",
     "text": [
      "[array([[1, 2, 3],\n",
      "       [4, 5, 6]]), array([[ 7,  8,  9],\n",
      "       [10, 11, 12]]), array([[13, 14, 15],\n",
      "       [16, 17, 18]])]\n"
     ]
    }
   ],
   "source": [
    "print(np.vsplit(arr, 3))"
   ]
  },
  {
   "cell_type": "code",
   "execution_count": 119,
   "id": "7c2c43bb",
   "metadata": {},
   "outputs": [],
   "source": [
    "arr = np.array([[1, 2, 3], [4, 5, 6], [7, 8, 9], [10, 11, 12], [13, 14, 15], [16, 17, 18]])"
   ]
  },
  {
   "cell_type": "code",
   "execution_count": 121,
   "id": "26fad194",
   "metadata": {},
   "outputs": [
    {
     "name": "stdout",
     "output_type": "stream",
     "text": [
      "(array([1]), array([0]))\n"
     ]
    }
   ],
   "source": [
    "print(np.where(arr == 4))"
   ]
  },
  {
   "cell_type": "code",
   "execution_count": 122,
   "id": "24f3e307",
   "metadata": {},
   "outputs": [
    {
     "name": "stdout",
     "output_type": "stream",
     "text": [
      "(array([0, 1, 1, 2, 3, 3, 4, 5, 5]), array([1, 0, 2, 1, 0, 2, 1, 0, 2]))\n"
     ]
    }
   ],
   "source": [
    "print(np.where(arr % 2 == 0))"
   ]
  },
  {
   "cell_type": "code",
   "execution_count": 123,
   "id": "d10e4718",
   "metadata": {},
   "outputs": [
    {
     "name": "stdout",
     "output_type": "stream",
     "text": [
      "(array([0, 0, 1, 2, 2, 3, 4, 4, 5]), array([0, 2, 1, 0, 2, 1, 0, 2, 1]))\n"
     ]
    }
   ],
   "source": [
    "print(np.where(arr % 2 != 0))"
   ]
  },
  {
   "cell_type": "code",
   "execution_count": 131,
   "id": "3122b698",
   "metadata": {},
   "outputs": [
    {
     "name": "stdout",
     "output_type": "stream",
     "text": [
      "[0 1 2 3]\n"
     ]
    }
   ],
   "source": [
    "arr = np.array([3, 2, 0, 1])\n",
    "\n",
    "print(np.sort(arr))"
   ]
  },
  {
   "cell_type": "code",
   "execution_count": 132,
   "id": "a79212cb",
   "metadata": {},
   "outputs": [
    {
     "name": "stdout",
     "output_type": "stream",
     "text": [
      "['apple' 'banana' 'cherry']\n"
     ]
    }
   ],
   "source": [
    "arr = np.array(['banana', 'cherry', 'apple'])\n",
    "\n",
    "print(np.sort(arr))"
   ]
  },
  {
   "cell_type": "code",
   "execution_count": 133,
   "id": "651bc788",
   "metadata": {},
   "outputs": [
    {
     "name": "stdout",
     "output_type": "stream",
     "text": [
      "[False  True  True]\n"
     ]
    }
   ],
   "source": [
    "arr = np.array([True, False, True])\n",
    "\n",
    "print(np.sort(arr))"
   ]
  },
  {
   "cell_type": "code",
   "execution_count": 134,
   "id": "d0402d0e",
   "metadata": {},
   "outputs": [
    {
     "name": "stdout",
     "output_type": "stream",
     "text": [
      "[[2 3 4]\n",
      " [0 1 5]]\n"
     ]
    }
   ],
   "source": [
    "arr = np.array([[3, 2, 4], [5, 0, 1]])\n",
    "\n",
    "print(np.sort(arr))"
   ]
  },
  {
   "cell_type": "code",
   "execution_count": 135,
   "id": "d4a7d8d9",
   "metadata": {},
   "outputs": [],
   "source": [
    "arr = np.array([0, 1, 2, 3, 4, 5, 6, 7, 8, 9, 10, 11, 12, 13, 14, 15])"
   ]
  },
  {
   "cell_type": "code",
   "execution_count": 136,
   "id": "ad8f2501",
   "metadata": {},
   "outputs": [
    {
     "name": "stdout",
     "output_type": "stream",
     "text": [
      "[ 0  2  4  6  8 10 12 14]\n"
     ]
    }
   ],
   "source": [
    "print(arr[arr % 2 == 0])"
   ]
  },
  {
   "cell_type": "code",
   "execution_count": 137,
   "id": "5e700247",
   "metadata": {},
   "outputs": [
    {
     "name": "stdout",
     "output_type": "stream",
     "text": [
      "[ 1  3  5  7  9 11 13 15]\n"
     ]
    }
   ],
   "source": [
    "print(arr[arr % 2 != 0])"
   ]
  },
  {
   "cell_type": "code",
   "execution_count": 138,
   "id": "2f93009b",
   "metadata": {},
   "outputs": [
    {
     "name": "stdout",
     "output_type": "stream",
     "text": [
      "[11 12 13 14 15]\n"
     ]
    }
   ],
   "source": [
    "print(arr[arr > 10])"
   ]
  },
  {
   "cell_type": "code",
   "execution_count": 5,
   "id": "2f95c0d0",
   "metadata": {},
   "outputs": [
    {
     "name": "stdout",
     "output_type": "stream",
     "text": [
      "0.1677690669267976\n"
     ]
    }
   ],
   "source": [
    "num = np.random.rand()\n",
    "print(num)"
   ]
  },
  {
   "cell_type": "code",
   "execution_count": 6,
   "id": "f67d8f41",
   "metadata": {},
   "outputs": [
    {
     "name": "stdout",
     "output_type": "stream",
     "text": [
      "5\n"
     ]
    }
   ],
   "source": [
    "num = np.random.randint(10)\n",
    "print(num)"
   ]
  },
  {
   "cell_type": "code",
   "execution_count": 9,
   "id": "58fb591f",
   "metadata": {},
   "outputs": [
    {
     "name": "stdout",
     "output_type": "stream",
     "text": [
      "3\n"
     ]
    }
   ],
   "source": [
    "num = np.random.choice([0, 1, 2, 3, 4, 5])\n",
    "print(num)"
   ]
  },
  {
   "cell_type": "code",
   "execution_count": 15,
   "id": "39584638",
   "metadata": {},
   "outputs": [
    {
     "name": "stdout",
     "output_type": "stream",
     "text": [
      "[[0.31768958 0.15344376 0.95776936 0.46043875 0.52841931]\n",
      " [0.29171567 0.7059829  0.21030157 0.93875135 0.59331422]\n",
      " [0.15767308 0.73069593 0.11916496 0.9355976  0.73858736]]\n",
      "[0.94100625 0.80258355 0.92154232 0.99650546 0.1703376 ]\n"
     ]
    }
   ],
   "source": [
    "arr = np.random.rand(3, 5)\n",
    "print(arr)\n",
    "arr = np.random.rand(5)\n",
    "print(arr)"
   ]
  },
  {
   "cell_type": "code",
   "execution_count": 11,
   "id": "5672d168",
   "metadata": {},
   "outputs": [
    {
     "name": "stdout",
     "output_type": "stream",
     "text": [
      "[9 9 4 5 3]\n"
     ]
    }
   ],
   "source": [
    "arr = np.random.randint(10, size=5)\n",
    "print(arr)"
   ]
  },
  {
   "cell_type": "code",
   "execution_count": 12,
   "id": "3e2c3fbe",
   "metadata": {},
   "outputs": [
    {
     "name": "stdout",
     "output_type": "stream",
     "text": [
      "[[84 51 42 51 62]\n",
      " [30 41 57 90 82]\n",
      " [58 28 90 27 43]]\n"
     ]
    }
   ],
   "source": [
    "arr = np.random.randint(100, size=(3, 5))\n",
    "print(arr)"
   ]
  },
  {
   "cell_type": "code",
   "execution_count": 17,
   "id": "c9a1897f",
   "metadata": {},
   "outputs": [
    {
     "name": "stdout",
     "output_type": "stream",
     "text": [
      "[8 0 6 7 6]\n"
     ]
    }
   ],
   "source": [
    "arr = np.random.choice([0, 1, 2, 3, 4, 5, 6, 7, 8, 9], size=5)\n",
    "print(arr)"
   ]
  },
  {
   "cell_type": "code",
   "execution_count": 19,
   "id": "0f02a2b4",
   "metadata": {},
   "outputs": [
    {
     "name": "stdout",
     "output_type": "stream",
     "text": [
      "[[743 979 215  79 102]\n",
      " [323  79 716 254 858]\n",
      " [ 38 718 207 147 434]\n",
      " [ 38 977 766 669 885]\n",
      " [265 746 885  16 595]\n",
      " [ 75 602 602 208 383]\n",
      " [352 933 604 948 443]\n",
      " [948 743  66 828 133]\n",
      " [225 669  38  38 979]\n",
      " [215 387 599 391 782]]\n"
     ]
    }
   ],
   "source": [
    "arr = np.random.choice(np.random.randint(1000, size=100), size=(10, 5))\n",
    "print(arr)"
   ]
  },
  {
   "cell_type": "code",
   "execution_count": 20,
   "id": "13be0793",
   "metadata": {},
   "outputs": [
    {
     "name": "stdout",
     "output_type": "stream",
     "text": [
      "[5 5 5 2 5 4 5 5 2 5 2 2 1 4 1 2 2 5 5 4 5 4 1 2 5 5 5 5 5 1 1 2 1 4 5 5 2\n",
      " 5 5 5 5 5 2 5 5 5 5 5 5 5 1 4 2 1 5 2 5 1 5 1 5 4 4 5 1 4 5 5 5 5 5 4 2 1\n",
      " 2 1 4 1 5 5 5 5 5 1 4 1 5 5 5 2 4 5 5 5 1 4 1 5 4 1]\n"
     ]
    }
   ],
   "source": [
    "arr = np.random.choice([1, 2, 3, 4, 5], p=[0.2, 0.2, 0.0, 0.1, 0.5], size=(100))\n",
    "print(arr)"
   ]
  },
  {
   "cell_type": "code",
   "execution_count": 24,
   "id": "10802642",
   "metadata": {},
   "outputs": [
    {
     "name": "stdout",
     "output_type": "stream",
     "text": [
      "[[1 5 2 5 4 5 5 4 1 2]\n",
      " [1 5 5 2 5 2 5 4 5 1]\n",
      " [5 4 2 4 5 5 4 1 1 4]\n",
      " [2 5 5 5 5 1 1 5 5 2]\n",
      " [4 2 5 5 5 1 5 5 5 5]\n",
      " [5 5 1 5 5 4 5 5 5 5]\n",
      " [1 2 5 5 1 5 1 5 5 5]\n",
      " [1 2 5 5 5 2 5 5 5 5]\n",
      " [2 5 2 5 5 2 1 2 2 1]\n",
      " [4 5 4 5 5 1 1 2 4 5]\n",
      " [1 1 2 1 5 5 5 5 4 1]\n",
      " [5 4 2 5 5 5 2 2 5 5]\n",
      " [5 2 2 5 5 5 5 5 1 2]\n",
      " [2 2 5 4 1 5 1 1 4 5]\n",
      " [2 5 2 5 2 5 1 2 5 1]\n",
      " [4 5 1 1 5 5 1 5 1 5]\n",
      " [5 5 5 2 2 2 1 1 5 2]\n",
      " [4 1 5 2 5 5 5 5 4 1]\n",
      " [1 5 5 1 5 5 4 5 1 1]\n",
      " [5 5 5 5 5 5 2 4 5 5]\n",
      " [5 5 5 5 1 4 5 5 1 2]\n",
      " [5 5 5 4 5 5 2 2 4 2]\n",
      " [5 5 2 5 5 1 5 5 5 1]\n",
      " [5 5 5 1 5 2 2 2 5 5]\n",
      " [5 4 5 1 2 4 5 2 2 5]\n",
      " [5 1 2 5 4 5 4 5 5 1]\n",
      " [5 1 1 5 2 4 5 5 4 5]\n",
      " [5 2 5 5 1 1 2 5 5 5]\n",
      " [2 5 5 4 5 2 5 2 5 5]\n",
      " [1 5 2 2 2 4 1 1 5 5]\n",
      " [5 5 5 1 2 5 2 5 1 5]\n",
      " [4 2 1 5 5 2 5 5 5 1]\n",
      " [5 5 5 1 5 5 5 2 5 5]\n",
      " [5 5 5 4 5 1 1 5 2 2]\n",
      " [5 5 1 5 5 5 1 5 5 2]\n",
      " [5 1 2 5 2 4 5 4 4 4]\n",
      " [2 5 2 1 5 4 2 5 5 5]\n",
      " [5 5 5 5 2 2 5 5 5 5]\n",
      " [2 5 5 4 5 5 5 1 4 2]\n",
      " [2 5 1 5 1 2 2 1 5 5]\n",
      " [1 5 1 5 1 5 5 1 2 1]\n",
      " [5 1 5 1 5 2 4 5 5 5]\n",
      " [2 5 5 2 5 5 1 2 1 1]\n",
      " [1 1 5 1 5 5 5 2 5 2]\n",
      " [2 2 4 5 5 5 5 4 1 5]\n",
      " [1 1 2 5 5 5 5 5 2 5]\n",
      " [4 5 1 5 2 5 2 5 5 5]\n",
      " [1 5 5 5 2 4 5 4 2 2]\n",
      " [5 5 1 5 5 5 5 5 5 1]\n",
      " [2 5 5 1 1 5 2 5 2 5]]\n"
     ]
    }
   ],
   "source": [
    "arr = np.random.choice([1, 2, 3, 4, 5], p=[0.2, 0.2, 0.0, 0.1, 0.5], size=(50, 10))\n",
    "print(arr)"
   ]
  },
  {
   "cell_type": "code",
   "execution_count": 29,
   "id": "1e17beee",
   "metadata": {},
   "outputs": [
    {
     "name": "stdout",
     "output_type": "stream",
     "text": [
      "None\n",
      "[5 3 1 2 4 0]\n"
     ]
    }
   ],
   "source": [
    "arr = np.array([0, 1, 2, 3, 4, 5])\n",
    "print(np.random.shuffle(arr))\n",
    "print(arr)"
   ]
  },
  {
   "cell_type": "code",
   "execution_count": 34,
   "id": "7036fdc8",
   "metadata": {},
   "outputs": [
    {
     "name": "stdout",
     "output_type": "stream",
     "text": [
      "[0 3 5 1 2 4]\n",
      "[0 1 2 3 4 5]\n"
     ]
    }
   ],
   "source": [
    "arr = np.array([0, 1, 2, 3, 4, 5])\n",
    "print(np.random.permutation(arr))\n",
    "print(arr)"
   ]
  },
  {
   "cell_type": "code",
   "execution_count": 35,
   "id": "4316b449",
   "metadata": {},
   "outputs": [
    {
     "name": "stdout",
     "output_type": "stream",
     "text": [
      "[-0.14626806  0.89531657 -1.25833492  0.7909949   1.25069661  2.27717494\n",
      "  0.91771025 -0.80258936 -0.81181184  0.06010495 -0.45271025  0.68711042\n",
      "  0.16021009 -0.5329853   0.16903539  1.41382972 -2.67537846  1.43273456\n",
      "  0.44594548 -0.15875669  0.09095925 -0.7765367  -0.35644639  0.01313019\n",
      "  1.07224512 -0.32610791 -2.46244158  0.16119478 -0.34245888  0.481994\n",
      "  0.85313016  1.26606217 -0.17372333  0.11015331  0.01320514 -1.07185904\n",
      " -0.38753487  0.10496709  1.19629252 -0.58810173 -0.28644387  1.36206345\n",
      "  0.00468197 -0.74492724  0.13381974  0.02683274  0.81933065  0.37524001\n",
      "  0.2873474   1.31149234 -0.9698406  -0.60245041  0.06115191  0.98096453\n",
      "  0.36775806 -0.57241473  2.04627295  0.2268456   1.2100547   1.49859377\n",
      "  0.61826104  0.14038975  0.39917983  1.5011516   1.19108484  0.19526132\n",
      " -0.87172804 -2.81180898 -0.7297969   0.9777507   1.26528004  0.88601093\n",
      "  0.15718258 -0.36401382  0.36034736  0.6943454   0.3336545   0.91215558\n",
      " -0.82196175  0.06247669 -0.95242781 -1.82693623 -0.16773303 -0.08568962\n",
      "  1.12325339 -1.62267034 -1.43359902  1.51683387 -0.37657028  1.26556414\n",
      " -0.1255421  -0.85289128  0.00412836 -1.53141817  0.20150848 -2.08693951\n",
      "  1.02071804 -1.14958931  1.98061406 -0.8387763 ]\n"
     ]
    }
   ],
   "source": [
    "arr = np.random.normal(loc=0, scale=1, size=100)\n",
    "print(arr)"
   ]
  },
  {
   "cell_type": "code",
   "execution_count": 43,
   "id": "6114eec4",
   "metadata": {},
   "outputs": [
    {
     "name": "stdout",
     "output_type": "stream",
     "text": [
      "[-1.89158449e+00 -4.30059339e-01  4.15406029e-01 -1.10702427e+00\n",
      "  1.71873564e+00 -3.60390922e-01 -2.11059903e+00  1.89943247e+00\n",
      "  1.65589796e+00  7.38230849e-01  1.57478750e+00  4.55573664e-01\n",
      "  8.88761767e-01  6.93843698e-01  1.88961041e+00  1.91445976e+00\n",
      "  1.41575332e+00 -2.25959152e+00 -4.86115730e-01 -8.05202418e-02\n",
      "  1.29573871e-01 -1.76392828e+00 -1.01744669e+00 -4.50681695e-01\n",
      " -1.24141595e+00  2.03358266e-02  9.93999023e-01 -6.13017610e-01\n",
      "  6.16921447e-01 -7.47119996e-02 -6.52100851e-01 -6.81040079e-01\n",
      " -1.25833146e+00 -1.07702593e+00  1.28187782e+00 -1.55927979e-01\n",
      " -1.96713646e+00 -1.20124492e+00 -4.16461063e-01 -4.64341171e-01\n",
      " -8.53447502e-01 -5.25710880e-01 -9.16510148e-01 -1.40888150e+00\n",
      "  5.70135711e-01 -3.11719493e-01 -2.03452578e+00  3.66980722e-01\n",
      " -7.24271906e-01  2.53483085e-01 -1.83702055e-01 -2.82125091e-02\n",
      " -8.81404662e-01  1.58488464e+00  2.07663852e+00 -6.72902107e-02\n",
      " -2.19883684e-01 -1.44729740e+00 -6.72327292e-03  1.26572305e+00\n",
      " -2.17532824e-01 -1.63206728e-01 -5.16400460e-01 -4.01612843e-01\n",
      "  4.42834608e-01  4.88137763e-01 -4.15686570e-01 -1.44164223e-01\n",
      "  7.02021695e-01  5.85225966e-02 -3.57046561e+00 -2.22017896e-01\n",
      "  1.48797670e-01 -1.56410178e-01 -1.64693737e+00 -9.72543475e-01\n",
      " -5.71879726e-01 -9.10314501e-01 -3.05543898e-01 -5.06123872e-01\n",
      " -2.13944259e-01  1.46301632e+00  1.15810698e+00  1.17909954e+00\n",
      " -1.93125901e-01 -1.82802228e-01  2.48673638e+00  9.00957155e-02\n",
      " -4.46389468e-01  8.80243543e-01 -8.16027099e-02  1.21636777e+00\n",
      " -1.81122138e-01  5.20716167e-01 -9.17555199e-01 -1.53781594e-02\n",
      "  9.17129411e-01  4.94880090e-01 -5.29623791e-01  2.02204642e+00\n",
      "  2.37026934e-02 -7.19507130e-01 -6.40373181e-02 -2.19645187e-02\n",
      " -5.73156779e-01 -1.32861479e+00 -1.19224256e+00 -5.65025711e-01\n",
      "  8.20915739e-01 -1.87157660e+00 -2.32404410e+00 -5.86521386e-01\n",
      " -2.90105062e-01 -1.06752075e+00  1.27718201e+00  5.36732259e-01\n",
      " -8.46674433e-01 -4.23339955e-01 -1.45553081e+00 -1.70284290e+00\n",
      "  1.51993921e+00 -5.01351309e-01  9.25774216e-01 -1.55521954e+00\n",
      "  7.00836011e-01 -7.20192932e-01  1.18813083e+00 -3.52242576e-01\n",
      "  3.00994398e-01 -1.58465530e-01  5.15910356e-01 -3.39799059e-01\n",
      "  6.39803310e-01 -6.61496490e-01 -5.21525161e-01  1.31787108e-01\n",
      "  7.60947592e-02  4.95255350e-01  4.35829038e-01 -1.11372668e+00\n",
      "  1.02002741e+00  7.23035473e-01 -4.02971546e-01  6.89161397e-01\n",
      "  5.84551366e-01 -6.19036408e-01  1.50302635e+00 -3.03700438e-01\n",
      " -5.74346170e-01 -1.04800917e-01  3.25292442e-01 -2.45782081e-01\n",
      " -1.35165760e+00 -9.81608038e-01 -2.73052281e-02  1.18307940e+00\n",
      "  4.75070742e-01  1.20029573e+00  1.12243484e+00 -3.77857701e-01\n",
      "  2.22836987e-01 -6.41601191e-02  7.50541190e-02  1.85750358e+00\n",
      "  1.59204722e-01 -3.85202648e-01  8.26514982e-01  5.77708502e-01\n",
      " -1.55306980e+00  1.56509873e+00 -1.72960341e+00 -5.81339528e-02\n",
      " -1.09818436e-01  8.28333279e-01  2.32331634e-01  6.98381251e-01\n",
      "  8.59772607e-01  8.81619888e-01  7.95981917e-02 -3.80131861e-02\n",
      "  1.03914025e+00 -4.68785965e-01  8.19650498e-01 -1.26064949e-01\n",
      "  3.18297640e-02  2.00468888e-01  1.23676397e-01 -4.32398152e-01\n",
      " -1.28951586e+00 -5.42787652e-01  2.72953327e-01 -1.13361632e+00\n",
      " -4.88767955e-01  1.01745270e+00 -2.50450547e+00  4.64422485e-01\n",
      " -5.78877918e-01 -2.84844612e-01  1.34456216e-01  1.69360002e-01\n",
      "  1.94669255e-01  1.07228328e+00  1.15822015e+00 -9.22860559e-01\n",
      " -1.21742486e+00  5.35420574e-01 -1.74158019e+00 -9.70645107e-01\n",
      "  6.47883839e-01  2.24657445e-01 -3.63233478e-01  1.12465203e+00\n",
      " -6.94446023e-01 -2.12598006e-03 -1.90915561e-01 -8.27951502e-01\n",
      " -4.04553940e-01 -2.20995583e-01 -1.24043543e+00 -6.27286779e-01\n",
      "  4.82259820e-01  1.45598847e+00 -8.31090162e-03  1.47561270e-01\n",
      "  1.81218651e+00 -3.58690143e-01 -1.35440855e+00  1.24358199e+00\n",
      " -8.09067870e-01  6.02373412e-02 -3.75685582e-01 -1.59041820e+00\n",
      " -2.24012733e+00  3.38514078e-01 -2.54389122e+00 -5.05099298e-01\n",
      " -7.95463188e-01 -4.27990223e-03  1.53338110e-01 -1.16964902e+00\n",
      "  1.99429037e+00 -2.95935032e-01 -2.05887207e+00 -1.05835917e+00\n",
      "  6.55177017e-01 -5.79212997e-01  5.00879543e-01 -2.39169085e-01\n",
      " -1.11527297e-02  1.60031300e+00  6.91376144e-01  2.21938512e-01\n",
      " -1.09625193e+00 -4.89250026e-01 -1.22772690e+00  1.90904646e+00\n",
      " -1.46800663e-01  1.89360411e+00  5.62746718e-01 -3.10050315e-01\n",
      "  1.98607986e-01 -1.02845245e+00  1.03538212e+00 -1.35133314e+00\n",
      "  7.85792637e-01 -1.87805840e-01 -7.11276568e-01  5.39658290e-01\n",
      " -5.77010221e-01  6.07773695e-01 -1.15002507e+00 -6.00119751e-01\n",
      "  7.49371722e-01  2.26380257e-01 -1.31026936e+00 -6.60469169e-01\n",
      " -1.30898145e+00  2.92683039e-02 -1.56850127e+00  2.68692826e-02\n",
      "  4.55967400e-03  1.19252608e+00 -9.85149598e-02 -3.20823079e-01\n",
      " -1.25589020e+00 -1.36119621e+00 -1.90609722e+00  3.75769158e-02\n",
      " -7.51240220e-01  3.52286861e-02  9.51922237e-01  1.15917794e-01\n",
      " -1.47565063e+00  2.13010373e-01  2.28932942e-01 -1.93952194e-01\n",
      " -7.30562056e-01 -4.90613344e-01 -3.75600564e-01  1.13931916e+00\n",
      " -2.10964976e+00  2.83385887e-01 -1.33477179e+00  3.07231188e-01\n",
      "  2.22473509e+00 -1.25462082e+00 -1.04639916e+00 -4.99944512e-01\n",
      "  5.56775470e-01 -1.24379968e+00  1.93608533e+00  7.10286185e-02\n",
      " -1.46462056e+00  9.46147532e-01  1.40376091e-01 -9.93385653e-01\n",
      "  3.81117945e-01 -1.98324794e-01  1.31867275e+00 -7.04460130e-01\n",
      " -1.54305672e+00  1.21562592e+00 -2.96087809e-01 -1.71176546e+00\n",
      " -1.19190829e-01 -5.56324902e-01  1.22870208e+00  8.35858880e-01\n",
      "  3.74183666e-02 -4.06923067e-01 -1.56114678e+00 -7.45973153e-01\n",
      " -2.04181839e-02 -6.87045020e-02 -5.45035683e-01 -1.55084605e+00\n",
      " -5.76391131e-01 -4.73471914e-01  8.07411924e-01 -6.81389270e-01\n",
      "  1.50909459e-01  1.19026898e+00  5.30139345e-01  1.22320704e+00\n",
      " -6.64744608e-01 -1.08566364e+00 -4.57654413e-01  1.40361172e+00\n",
      " -6.07092816e-01  1.25081505e+00 -6.09103206e-01 -2.30511801e-01\n",
      "  6.52415224e-01  4.01000954e-02  1.42170918e+00  1.53456744e+00\n",
      " -1.27136911e+00  1.51165563e+00 -1.46728952e+00 -2.54062458e-02\n",
      "  1.26376807e+00  1.53002142e+00 -1.26102282e+00  4.62691147e-01\n",
      " -5.38032667e-01  1.13936210e+00 -1.50016182e-01  8.04535541e-01\n",
      "  7.53726598e-01  7.02662599e-01 -7.37841256e-01 -1.47490860e-01\n",
      " -2.43338313e+00  1.09521905e-01 -2.10446785e-01  6.52004212e-01\n",
      " -8.10198195e-01  7.66872543e-01 -7.47080799e-02 -1.91987198e+00\n",
      "  5.21856583e-01 -2.00783753e-01  1.10912925e-01  2.05281007e-01\n",
      "  2.38471211e-01  1.85648099e+00 -4.33473553e-01  5.00939427e-01\n",
      "  1.57614102e-01 -3.08292728e-01 -1.06582047e+00 -5.98966921e-01\n",
      " -1.45547145e+00  1.41162230e+00  2.81434609e-01  9.58062463e-02\n",
      "  9.89514540e-01  6.68673388e-02 -1.44378500e-01 -9.95782477e-01\n",
      " -8.18617202e-01  8.56593645e-01 -6.64723456e-01 -1.16428063e+00\n",
      "  5.28190008e-01 -9.47641274e-01 -7.77562749e-01 -4.07514834e-01\n",
      "  5.27842830e-01  2.78105518e-01 -1.17666389e+00  8.22646290e-01\n",
      " -1.06483989e+00  3.35701711e-01  8.39443546e-01 -1.96185388e+00\n",
      " -1.78411309e+00 -6.78644531e-02  4.44495475e-01 -8.00249798e-01\n",
      " -7.30784805e-01 -9.80650406e-01 -1.33719432e+00 -1.01306187e+00\n",
      " -2.78395128e-01  1.14728550e+00  2.64909771e-01 -7.03918394e-01\n",
      " -1.61707861e+00 -2.49975875e-01  3.24958309e-02  3.72742660e-01\n",
      " -1.34632566e-01  1.86853586e+00 -6.55402702e-02 -1.16402566e+00\n",
      "  1.65410105e-01 -3.15348071e-02 -2.22830723e-01  3.29064670e-01\n",
      " -1.00636562e+00 -1.38704423e+00 -7.41806604e-01 -8.54771493e-02\n",
      " -1.74300580e+00 -2.26543772e-01  6.29772383e-01  9.66639200e-01\n",
      "  4.03681209e-01  3.49847012e-01 -4.98347413e-01  6.70237844e-01\n",
      " -7.16407152e-01 -7.53484147e-01 -1.49047536e+00 -1.40270800e+00\n",
      " -1.09068647e+00  5.79522624e-01 -6.07895060e-01  1.44569682e+00\n",
      " -4.95819953e-01 -3.86099410e-01  2.40801940e-01  1.41868572e+00\n",
      "  2.01980229e+00  2.01672632e-01  1.82675843e+00  7.03445429e-01\n",
      " -1.19641512e+00 -9.08362118e-01  2.17993463e-01 -1.07436379e+00\n",
      "  9.08952954e-01 -5.12996912e-01  3.80155662e-01 -2.78211606e+00\n",
      " -6.02647140e-01 -2.95611030e-01  1.00007428e+00  9.54635460e-01\n",
      "  5.69686084e-01 -1.78464110e+00 -1.11391310e+00  2.05801798e-01\n",
      " -5.73785608e-02 -1.58289572e+00  6.19048720e-01 -5.84868135e-01\n",
      " -8.29356659e-02 -2.64877437e-01 -9.59501023e-01 -2.90871541e-01\n",
      "  5.46941860e-01  8.48860291e-01  7.65495793e-01 -1.55587788e+00\n",
      " -4.95859849e-01  1.47604673e+00  1.24836545e-01 -2.57515825e-01\n",
      " -1.48943425e-01  1.07642259e+00  5.79905629e-02 -7.27792875e-01\n",
      " -1.35884582e+00 -6.00436681e-01 -4.90897689e-01 -1.20706953e+00\n",
      " -1.80480056e+00  2.32867413e+00 -1.71081140e+00 -6.68283771e-01\n",
      " -7.55316598e-02  2.71849438e-01 -7.00564699e-01 -1.28831884e+00\n",
      "  6.80300810e-02  9.63708751e-01 -5.69020378e-02  1.15995786e+00\n",
      "  9.69363539e-01 -1.83423516e+00  3.05290418e-01 -2.15938233e-01\n",
      " -5.93389161e-02 -1.31874699e+00 -6.17645875e-01  4.68395561e-01\n",
      " -4.69936691e-01  1.49112058e-01  1.05588190e-01 -3.72689464e-01\n",
      "  3.43630611e-01  3.15371904e-01 -5.06663774e-01 -6.04162590e-02\n",
      " -5.51243252e-03  7.92551723e-01  6.16568523e-01 -8.51965189e-01\n",
      " -8.20927476e-01 -1.59885888e+00  4.12085892e-01  1.21400612e+00\n",
      " -3.23656163e-01  1.37779416e-01  1.64306784e+00  3.32405006e-01\n",
      "  7.39848384e-01  4.13176435e-01 -1.42424093e-02 -6.71497884e-01\n",
      " -1.28372764e+00  1.06723925e+00 -1.23354900e+00 -8.47585828e-01\n",
      " -2.96195829e-01  8.98333008e-01 -1.01657121e-01 -7.78889320e-01\n",
      " -7.72890800e-01  7.65122023e-02 -1.41470316e-01 -4.82259764e-01\n",
      " -1.23355495e-01  1.53485717e+00  1.29810699e+00  2.43684180e+00\n",
      "  1.83053989e+00  2.00144917e-02  9.76176230e-01  6.62547901e-01\n",
      " -8.78881916e-01  1.25569221e+00 -3.20622396e-01  6.29522948e-01\n",
      "  5.78234585e-01  3.24812877e-01 -5.64871459e-01 -6.89536365e-01\n",
      "  7.78782749e-01 -1.29986648e-01 -4.81115475e-01 -1.42905376e+00\n",
      " -1.75610525e+00  1.29140592e+00 -1.33742503e+00  1.82510564e+00\n",
      " -4.26117019e-01 -1.38999610e+00 -1.77596907e+00  2.87306769e-01\n",
      " -7.94479882e-01 -1.28388013e+00 -2.98400502e-01 -1.44884782e+00\n",
      " -1.40032408e-01  1.59944048e+00 -7.67989957e-01  7.94814949e-01\n",
      " -9.61835012e-01 -1.26947492e+00  8.58603306e-01  1.84606116e+00\n",
      "  7.74157471e-01 -1.75768826e+00  1.50381753e+00 -2.93956588e-01\n",
      "  1.12586669e+00 -8.96190733e-01  1.58099217e+00 -1.62653767e+00\n",
      " -5.19715942e-01  1.22902783e+00  1.81611015e-01  1.82377727e+00\n",
      " -1.37552797e-01 -1.49870427e+00  1.84935967e+00  8.04464393e-01\n",
      " -1.03320748e+00  5.45643957e-01 -1.06260456e+00  5.30096143e-02\n",
      " -7.60490847e-01  1.48144041e+00 -1.00127185e-01  7.83757946e-01\n",
      " -7.27414537e-01 -3.30469825e-01 -1.31072321e+00 -9.90092853e-01\n",
      " -7.34633785e-01  1.38798837e+00 -1.34632870e+00  9.71731054e-02\n",
      "  1.33440239e+00  8.13903906e-01  9.53027933e-01  1.39612211e-01\n",
      " -4.35014384e-01 -8.29452642e-01  7.38909216e-01  1.15894180e+00\n",
      "  9.26368229e-01 -7.44224195e-01  7.57893670e-01 -1.37046918e+00\n",
      " -6.88302571e-01  8.45084029e-01 -2.51581080e+00 -1.53511185e-01\n",
      "  7.32303282e-01 -1.56001279e+00  3.68456827e-01  1.16172000e+00\n",
      "  1.48861277e+00 -1.64724283e+00  1.75860256e-01 -5.31807693e-01\n",
      " -2.02179406e+00 -2.60812405e+00  4.78698966e-02  4.30856523e-01\n",
      " -3.94082646e-01  6.43329636e-01 -1.60943276e-01  6.12492387e-01\n",
      "  4.13799848e-01  9.36478317e-02  2.31182035e-01  2.75734676e+00\n",
      "  3.84050150e-01  1.55878119e+00  9.77775476e-01 -1.54888051e+00\n",
      " -5.08154989e-02  8.51383106e-01  8.27947813e-01  3.54531553e-01\n",
      "  8.12446378e-01 -5.39874849e-01  7.21789076e-02  2.02179195e-01\n",
      "  1.07412116e-01  3.11970531e-01 -8.44564526e-01 -8.69301422e-01\n",
      " -2.33722514e-01  2.08157575e+00 -1.14276161e-01  1.15959761e+00\n",
      "  4.60663059e-01 -2.22355503e+00 -2.03670203e+00 -9.38161327e-01\n",
      " -2.63997281e-01  2.01457366e-01 -1.17948453e-01  1.21737024e+00\n",
      "  1.50796381e+00 -4.22672023e-01  8.06028876e-01 -2.55550816e-01\n",
      " -2.38920866e+00  2.30760110e-01 -7.57808534e-01  4.38624367e-02\n",
      "  4.37568706e-01 -4.50255021e-01  3.56424554e-01 -1.07126271e+00\n",
      "  1.78301002e+00  6.98072563e-02  6.59314995e-01 -1.61342508e+00\n",
      " -4.56411076e-01  4.09631926e-01  2.31057884e-01 -5.87640037e-01\n",
      "  1.43827700e+00  1.45349614e+00 -1.03505453e-01 -2.25577546e+00\n",
      " -1.18138929e+00 -1.21884273e+00  2.13808019e-01 -3.61259419e-01\n",
      "  3.29942041e-01 -5.26533511e-01  4.91350543e-01  7.09709756e-01\n",
      " -1.50930628e+00  5.42827211e-01 -9.01760701e-01  6.62904353e-03\n",
      "  1.33125900e+00 -2.11808595e-01  1.71512721e+00 -8.91609677e-01\n",
      "  1.34975795e-01 -2.71959277e-01 -2.08882583e-01 -3.66294600e-01\n",
      " -1.19097940e-02 -1.20692409e+00 -1.13077459e+00  1.55674180e+00\n",
      "  2.96078985e-01 -4.38975597e-01  1.25168064e-02 -4.69834789e-01\n",
      "  9.32708745e-01  6.91855287e-01  4.47645364e-01 -1.09788368e+00\n",
      "  1.72969570e+00  7.02878334e-02 -2.81081759e-01 -4.06428764e-01\n",
      " -3.89597170e-01  3.71954415e-01 -8.50985441e-01 -4.76704568e-01\n",
      "  3.20069161e-02  1.40247759e+00  7.43371701e-01 -2.21989884e-01\n",
      "  8.59354681e-01 -1.19854334e+00  7.29674450e-01 -3.55673230e-01\n",
      "  5.66036548e-01 -2.64620981e-01 -1.20763764e+00  2.94492141e+00\n",
      "  6.13180522e-01  5.69484947e-01 -2.93363077e-01  1.81999513e+00\n",
      "  1.32715415e-01  1.00457684e+00  1.10394225e-01 -6.94935802e-01\n",
      "  2.12231404e-01 -5.66591252e-02 -3.54367210e-01 -3.34522956e-01\n",
      "  1.25074319e+00  1.77216517e+00 -1.81495935e-01 -6.48307549e-01\n",
      "  1.13453401e+00 -4.56119294e-01  3.43378523e-01 -2.66273903e-01\n",
      "  5.33474233e-01 -1.59744883e-01  8.12608873e-01  1.25159283e+00\n",
      "  6.71425427e-01  2.91702823e-01 -2.30278702e-01 -5.14887010e-01\n",
      "  1.31823507e+00 -1.50450513e+00 -5.34579208e-01  2.35525739e-02\n",
      " -6.42547998e-02 -2.33934280e-01 -8.16689584e-01 -3.78499482e-01\n",
      " -1.71333553e-01 -9.29381478e-02  9.50543492e-01  1.76079140e+00\n",
      " -1.25405764e+00 -4.09758895e-01  6.56883383e-01  7.22107928e-01\n",
      " -1.02342071e+00  7.31291444e-01 -1.18168465e+00  2.19333028e-01\n",
      " -9.07027265e-01  4.65962961e-01 -4.55535578e-01  4.71265171e-01\n",
      "  6.38708080e-01  8.03391910e-01  1.62394320e+00  1.24758846e+00\n",
      "  5.11489065e-01 -3.14164445e-01  8.93026608e-01 -6.03475683e-01\n",
      " -3.84988743e-01 -1.12421043e+00 -1.53999918e+00 -3.61724916e-01\n",
      " -3.08370699e-01 -1.34848645e+00 -5.68670211e-01  4.70812327e-01\n",
      " -1.39670621e+00 -1.50521139e+00  3.97307562e-02  1.12174374e+00\n",
      "  6.10515042e-01  6.52281129e-01  3.31206749e-01  9.19635619e-01\n",
      "  2.32625654e-01  7.99863446e-01  6.59587831e-01  1.36516899e+00\n",
      "  1.30130686e+00  4.34880398e-01  6.04496754e-01 -5.47789772e-01\n",
      "  8.97797018e-01  5.80373781e-01 -2.14203691e-01 -1.24199162e+00\n",
      " -9.41463131e-01  4.72113608e-01 -7.31409217e-02  1.95580567e+00\n",
      "  9.48876451e-01  6.28482306e-01  1.00734975e-02 -2.45971198e-01\n",
      " -6.05953473e-01 -1.63433506e-02  1.22811591e+00  7.36032342e-01\n",
      " -1.69987090e-01 -1.27618814e+00  1.18088526e+00  2.71666587e-01\n",
      " -1.31101979e+00 -8.63361625e-01  1.39179328e+00  1.19000529e-01\n",
      " -4.04278621e-01  3.45337363e-01  2.11272027e-01 -1.19694562e+00\n",
      " -3.53476961e-02 -5.45597495e-01 -8.04615656e-01 -6.32529698e-01\n",
      "  6.33093652e-01 -7.76909302e-01 -4.92623865e-01 -1.19662818e+00\n",
      " -2.57820946e+00  7.16502426e-01  1.99187324e+00  3.37408497e-01\n",
      " -1.38916830e-01  8.39526472e-01 -3.69623817e-01  1.22575198e+00\n",
      "  1.79425121e+00 -1.82112344e-01  4.44994292e-01  9.43509052e-01\n",
      " -7.66948028e-01  6.84752913e-01  1.08502057e-01  8.94924163e-01\n",
      "  2.44748849e-01  2.04969254e-02  5.44500427e-01  4.74922246e-01\n",
      "  7.16524657e-01  4.19594253e-01  8.15879499e-01  1.96965683e+00\n",
      "  2.13827412e-01 -2.46247214e-01 -8.72662428e-01  1.84723812e+00\n",
      "  7.68225546e-01 -2.07381641e-01  1.02998049e-01  7.27571805e-01\n",
      " -8.91999431e-01  7.38489725e-01  7.59073614e-01 -1.15324649e+00\n",
      " -6.41644412e-01  2.31641921e-01  4.45694349e-01 -4.56420168e-02\n",
      "  4.28522904e-01 -1.05189262e+00  6.88092545e-01  1.62014550e+00\n",
      " -5.88428945e-01  1.13751769e+00  5.55508274e-01  1.38269488e-01\n",
      " -1.36527679e+00  1.49709401e+00 -1.25841380e+00  1.00404803e+00\n",
      " -1.16701633e-01 -6.25259660e-01  1.02052919e+00  1.02109280e+00\n",
      "  1.38076440e+00  9.71398267e-02 -2.74992294e-01  1.20069978e+00\n",
      "  4.85951505e-01  3.23291353e-01 -1.07404734e+00  1.13121869e-02\n",
      "  2.31811954e+00 -9.89497203e-02 -1.65396597e+00 -9.69457285e-01\n",
      " -8.69953966e-01  1.63512626e-01 -2.69032365e+00  4.36731882e-01\n",
      "  4.75785051e-01  3.10489457e-01  7.50668031e-01  1.00528727e+00\n",
      " -6.64489374e-01  7.53031736e-01  1.44907122e-01  2.90223917e-01\n",
      "  6.71385353e-01  9.78207720e-03  4.09722854e-02 -7.64517677e-01\n",
      "  3.44463668e-01 -1.99390033e+00 -3.09652075e-02  4.62709446e-01\n",
      "  1.71784203e+00 -9.05488338e-01  9.35048120e-01  1.64503766e+00\n",
      "  7.98208958e-01  7.51097208e-01 -3.27433105e-01 -1.94419508e+00\n",
      " -1.10413858e+00 -1.52012387e+00  2.36015267e-01  3.47486332e-02\n",
      " -1.23796954e+00  4.66649427e-01  6.89221464e-01  1.89636773e-01]\n"
     ]
    },
    {
     "name": "stderr",
     "output_type": "stream",
     "text": [
      "/home/blackheart/.local/lib/python3.10/site-packages/seaborn/distributions.py:2619: FutureWarning: `distplot` is a deprecated function and will be removed in a future version. Please adapt your code to use either `displot` (a figure-level function with similar flexibility) or `kdeplot` (an axes-level function for kernel density plots).\n",
      "  warnings.warn(msg, FutureWarning)\n"
     ]
    },
    {
     "data": {
      "image/png": "[encoded data removed]",
      "text/plain": [
       "<Figure size 432x288 with 1 Axes>"
      ]
     },
     "metadata": {
      "needs_background": "light"
     },
     "output_type": "display_data"
    }
   ],
   "source": [
    "arr = np.random.normal(size=1000)\n",
    "print(arr)\n",
    "\n",
    "sns.distplot(arr, hist=False)\n",
    "plt.show()"
   ]
  },
  {
   "cell_type": "code",
   "execution_count": 6,
   "id": "957ceb47",
   "metadata": {},
   "outputs": [
    {
     "name": "stdout",
     "output_type": "stream",
     "text": [
      "[49 46 45 42 52 58 60 50 48 40 51 49 46 52 62 50 46 53 47 46 44 53 48 54\n",
      " 46 58 60 55 45 59 44 59 56 53 49 49 51 52 56 50 58 49 41 52 56 48 57 46\n",
      " 49 54 54 46 43 46 49 52 51 56 47 43 47 50 45 57 47 43 47 52 47 47 40 44\n",
      " 43 56 48 54 41 46 47 50 54 46 49 48 47 52 47 51 54 40 36 48 46 44 45 43\n",
      " 52 54 45 45]\n"
     ]
    }
   ],
   "source": [
    "arr = np.random.binomial(n=100, p=0.5, size=100)\n",
    "print(arr)"
   ]
  },
  {
   "cell_type": "code",
   "execution_count": 7,
   "id": "96292f35",
   "metadata": {},
   "outputs": [
    {
     "name": "stderr",
     "output_type": "stream",
     "text": [
      "/home/blackheart/.local/lib/python3.10/site-packages/seaborn/distributions.py:2619: FutureWarning: `distplot` is a deprecated function and will be removed in a future version. Please adapt your code to use either `displot` (a figure-level function with similar flexibility) or `kdeplot` (an axes-level function for kernel density plots).\n",
      "  warnings.warn(msg, FutureWarning)\n"
     ]
    },
    {
     "data": {
      "image/png": "[encoded data removed]",
      "text/plain": [
       "<Figure size 432x288 with 1 Axes>"
      ]
     },
     "metadata": {
      "needs_background": "light"
     },
     "output_type": "display_data"
    }
   ],
   "source": [
    "arr = np.random.binomial(n=1000, p=0.5, size=1000)\n",
    "\n",
    "sns.distplot(arr, hist=False)\n",
    "plt.show()"
   ]
  },
  {
   "cell_type": "code",
   "execution_count": 18,
   "id": "89f85c29",
   "metadata": {},
   "outputs": [
    {
     "name": "stdout",
     "output_type": "stream",
     "text": [
      "[1 1 3 2 2 2 2 1 2 3 1 6 4 4 4 1 0 4 1 1 2 2 3 3 3 0 5 3 2 2 8 3 3 2 5 2 4\n",
      " 2 3 2 3 3 3 3 3 2 4 5 5 3 3 6 5 2 4 4 3 5 4 1 4 2 1 4 4 3 5 0 3 3 5 5 3 3\n",
      " 1 0 7 2 5 2 2 2 5 3 2 4 5 4 3 5 1 2 3 4 2 3 3 3 3 2]\n"
     ]
    }
   ],
   "source": [
    "arr = np.random.poisson(lam=3, size=100)\n",
    "print(arr)"
   ]
  },
  {
   "cell_type": "code",
   "execution_count": 19,
   "id": "9167cc3f",
   "metadata": {},
   "outputs": [
    {
     "name": "stderr",
     "output_type": "stream",
     "text": [
      "/home/blackheart/.local/lib/python3.10/site-packages/seaborn/distributions.py:2619: FutureWarning: `distplot` is a deprecated function and will be removed in a future version. Please adapt your code to use either `displot` (a figure-level function with similar flexibility) or `kdeplot` (an axes-level function for kernel density plots).\n",
      "  warnings.warn(msg, FutureWarning)\n"
     ]
    },
    {
     "data": {
      "image/png": "[encoded data removed]",
      "text/plain": [
       "<Figure size 432x288 with 1 Axes>"
      ]
     },
     "metadata": {
      "needs_background": "light"
     },
     "output_type": "display_data"
    }
   ],
   "source": [
    "arr = np.random.poisson(lam=3, size=1000)\n",
    "\n",
    "sns.distplot(arr, hist=False)\n",
    "plt.show()"
   ]
  },
  {
   "cell_type": "code",
   "execution_count": 21,
   "id": "21ab1efc",
   "metadata": {},
   "outputs": [
    {
     "name": "stdout",
     "output_type": "stream",
     "text": [
      "[75.99075909 28.26453989 19.06109652 83.381923   96.38566036 23.66928542\n",
      " 73.86278596 30.94863409 41.33814053  1.95914105 35.4369598   2.67907867\n",
      " 18.27325198 63.29814652 38.31716179 68.3926102  95.23429021 55.8686571\n",
      " 54.43107753 21.42469881 12.93320784 16.59187109 74.22109929 82.06831509\n",
      " 68.42600135 88.21962873 66.75529558 92.48990787 97.87379567 62.2427482\n",
      "  4.85890249 81.70276925 74.41172362 86.335061   18.86421264 70.37365449\n",
      "  1.27057477 68.59857233 49.83795705 53.27084361 90.29114983 67.70014577\n",
      " 35.74365366  9.72253006 78.35643878 37.76444321  0.35544304 98.46138294\n",
      " 35.70877048 92.55893434 42.96003277 14.8631423  55.52257042 24.08296382\n",
      " 74.67344747 54.25859007 69.23217947 76.88126327 30.91583645 45.59487831\n",
      " 97.58932087 60.53880264 11.19928173 61.64235344 89.85859992 54.5427113\n",
      "  3.95875445 18.14064311 63.04671492 99.88371088 72.62524867 68.33544691\n",
      " 40.20658163 41.52120071 79.79263131 75.10682757 94.96507455 95.40815486\n",
      " 69.48673619  8.06764893 81.55814495  3.03339077 52.49872735 74.31832015\n",
      " 16.41970204 33.38724378 30.80193288 39.85378606  1.60563516 80.93710139\n",
      " 57.32515455 82.24106308 22.01678668 37.22364529 72.6433057  92.98825611\n",
      " 53.87506993 74.79653223 58.20398668 86.81805359]\n"
     ]
    }
   ],
   "source": [
    "arr = np.random.uniform(low=0, high=100, size=100)\n",
    "print(arr)"
   ]
  },
  {
   "cell_type": "code",
   "execution_count": 23,
   "id": "b393723f",
   "metadata": {},
   "outputs": [
    {
     "name": "stderr",
     "output_type": "stream",
     "text": [
      "/home/blackheart/.local/lib/python3.10/site-packages/seaborn/distributions.py:2619: FutureWarning: `distplot` is a deprecated function and will be removed in a future version. Please adapt your code to use either `displot` (a figure-level function with similar flexibility) or `kdeplot` (an axes-level function for kernel density plots).\n",
      "  warnings.warn(msg, FutureWarning)\n"
     ]
    },
    {
     "data": {
      "image/png": "[encoded data removed]",
      "text/plain": [
       "<Figure size 432x288 with 1 Axes>"
      ]
     },
     "metadata": {
      "needs_background": "light"
     },
     "output_type": "display_data"
    }
   ],
   "source": [
    "arr = np.random.uniform(size=1000)\n",
    "\n",
    "sns.distplot(arr, hist=False)\n",
    "plt.show()"
   ]
  },
  {
   "cell_type": "code",
   "execution_count": 3,
   "id": "d99be7df",
   "metadata": {},
   "outputs": [
    {
     "name": "stdout",
     "output_type": "stream",
     "text": [
      "[ -75.94647273 -170.56893966  -31.38557702   -2.66212027  123.48870023\n",
      "   56.20140414  279.75586905 -166.49298781  324.84334837 -123.95143865\n",
      "    7.83439389   94.40388753  118.59621872   84.93319395  -12.58885864\n",
      "  183.1209973  -325.52733541 -100.4630528   -91.7541154   -71.51007009\n",
      "   26.55216822 -220.10759925 -275.32499657   84.30079813  -74.05041898\n",
      "  109.45450891 -158.70344624  204.76507893 -148.34731852 -103.19051878\n",
      "  -40.96450796 -135.15381997  -82.54226643 -239.21154674 -203.66043547\n",
      "    7.26364968 -150.29218711  288.80885625 -285.23482139 -104.35111027\n",
      "  109.73783442  -31.79538974   -1.98773731 -215.65894275   18.25602414\n",
      "  -54.06976779  102.59897053   27.15692496  -16.27742819 -504.26824069\n",
      "   57.51240886   71.79873787  162.9141502    53.45512192   75.63957573\n",
      "  165.11520213  118.523316    277.28604595  255.26810137 -159.48262299\n",
      " -241.62452373  129.80545067   72.21903413 -151.47823263  130.74370218\n",
      "   94.37033158 -206.45213366  221.27723311  -70.76442807  105.523681\n",
      "  -53.53620311  -35.88673901  -66.19088807  270.77664272   67.55198127\n",
      " -245.91963162 -168.76954848  274.44856451  -54.75194993   27.95886193\n",
      "  -58.75782145   57.50435532  -18.26234278  140.21810122 -161.35609906\n",
      "   32.53006021  242.49356411 -184.06003916   14.48994867  -98.29438914\n",
      "  280.85977606 -129.42180242 -239.14118464  -53.25835094  -43.78976378\n",
      "   22.78421847  207.03108765 -242.85290528   58.73894002    6.37574134]\n"
     ]
    }
   ],
   "source": [
    "arr = np.random.logistic(loc=0, scale=100, size=100)\n",
    "print(arr)"
   ]
  },
  {
   "cell_type": "code",
   "execution_count": 4,
   "id": "3699e039",
   "metadata": {},
   "outputs": [
    {
     "name": "stderr",
     "output_type": "stream",
     "text": [
      "/home/blackheart/.local/lib/python3.10/site-packages/seaborn/distributions.py:2619: FutureWarning: `distplot` is a deprecated function and will be removed in a future version. Please adapt your code to use either `displot` (a figure-level function with similar flexibility) or `kdeplot` (an axes-level function for kernel density plots).\n",
      "  warnings.warn(msg, FutureWarning)\n"
     ]
    },
    {
     "data": {
      "image/png": "[encoded data removed]",
      "text/plain": [
       "<Figure size 432x288 with 1 Axes>"
      ]
     },
     "metadata": {
      "needs_background": "light"
     },
     "output_type": "display_data"
    }
   ],
   "source": [
    "arr = np.random.logistic(size=1000)\n",
    "\n",
    "sns.distplot(arr, hist=False)\n",
    "plt.show()"
   ]
  },
  {
   "cell_type": "code",
   "execution_count": 5,
   "id": "bfafeb19",
   "metadata": {},
   "outputs": [
    {
     "name": "stdout",
     "output_type": "stream",
     "text": [
      "[[1 0 1 1 2]\n",
      " [1 2 0 1 1]\n",
      " [1 0 3 0 1]\n",
      " [1 3 1 0 0]\n",
      " [1 0 2 2 0]\n",
      " [0 1 1 3 0]\n",
      " [0 1 1 2 1]\n",
      " [0 1 0 3 1]\n",
      " [0 1 1 1 2]\n",
      " [0 0 2 1 2]\n",
      " [1 2 1 1 0]\n",
      " [1 1 1 2 0]\n",
      " [2 0 2 1 0]\n",
      " [1 3 0 0 1]\n",
      " [3 1 0 0 1]\n",
      " [1 2 0 0 2]\n",
      " [2 2 0 0 1]\n",
      " [0 1 1 2 1]\n",
      " [0 2 1 0 2]\n",
      " [0 2 1 0 2]\n",
      " [1 0 2 1 1]\n",
      " [1 0 1 2 1]\n",
      " [1 1 2 1 0]\n",
      " [0 0 2 2 1]\n",
      " [0 2 2 0 1]\n",
      " [0 0 2 1 2]\n",
      " [0 1 1 2 1]\n",
      " [0 2 0 1 2]\n",
      " [3 1 0 1 0]\n",
      " [2 0 1 1 1]\n",
      " [0 4 0 0 1]\n",
      " [0 2 1 1 1]\n",
      " [2 1 1 0 1]\n",
      " [1 1 1 1 1]\n",
      " [1 2 0 1 1]\n",
      " [1 2 0 0 2]\n",
      " [1 2 1 1 0]\n",
      " [2 1 2 0 0]\n",
      " [0 0 1 1 3]\n",
      " [1 2 2 0 0]\n",
      " [3 0 1 1 0]\n",
      " [0 2 1 0 2]\n",
      " [0 1 1 2 1]\n",
      " [2 0 1 2 0]\n",
      " [2 1 1 1 0]\n",
      " [1 0 1 2 1]\n",
      " [3 0 0 1 1]\n",
      " [1 1 0 3 0]\n",
      " [1 1 1 2 0]\n",
      " [3 0 0 0 2]\n",
      " [0 1 0 3 1]\n",
      " [2 0 2 1 0]\n",
      " [1 1 1 1 1]\n",
      " [0 3 0 1 1]\n",
      " [0 0 2 2 1]\n",
      " [1 2 2 0 0]\n",
      " [0 0 2 2 1]\n",
      " [2 1 0 2 0]\n",
      " [2 2 1 0 0]\n",
      " [2 1 0 2 0]\n",
      " [1 1 0 2 1]\n",
      " [0 1 2 2 0]\n",
      " [1 1 1 2 0]\n",
      " [1 2 0 0 2]\n",
      " [2 0 0 2 1]\n",
      " [0 0 3 1 1]\n",
      " [0 0 2 2 1]\n",
      " [2 0 1 2 0]\n",
      " [1 0 1 1 2]\n",
      " [1 0 1 2 1]\n",
      " [1 0 1 2 1]\n",
      " [1 1 2 0 1]\n",
      " [2 2 1 0 0]\n",
      " [2 1 1 0 1]\n",
      " [2 0 2 1 0]\n",
      " [0 2 1 1 1]\n",
      " [1 2 1 0 1]\n",
      " [2 3 0 0 0]\n",
      " [1 3 0 0 1]\n",
      " [3 1 0 1 0]\n",
      " [1 0 2 0 2]\n",
      " [0 0 1 3 1]\n",
      " [1 1 3 0 0]\n",
      " [2 1 1 0 1]\n",
      " [1 3 1 0 0]\n",
      " [2 2 0 0 1]\n",
      " [0 1 1 3 0]\n",
      " [1 1 2 1 0]\n",
      " [0 0 1 1 3]\n",
      " [0 1 0 1 3]\n",
      " [1 2 1 1 0]\n",
      " [0 2 1 0 2]\n",
      " [1 1 1 2 0]\n",
      " [2 0 0 2 1]\n",
      " [0 3 0 1 1]\n",
      " [2 0 1 1 1]\n",
      " [2 0 2 1 0]\n",
      " [1 1 1 1 1]\n",
      " [3 0 2 0 0]\n",
      " [1 1 0 2 1]]\n"
     ]
    }
   ],
   "source": [
    "arr = np.random.multinomial(n=5, pvals=[1/5, 1/5, 1/5, 1/5, 1/5], size=100)\n",
    "print(arr)"
   ]
  },
  {
   "cell_type": "code",
   "execution_count": 6,
   "id": "3d0bea10",
   "metadata": {},
   "outputs": [
    {
     "name": "stderr",
     "output_type": "stream",
     "text": [
      "/home/blackheart/.local/lib/python3.10/site-packages/seaborn/distributions.py:2619: FutureWarning: `distplot` is a deprecated function and will be removed in a future version. Please adapt your code to use either `displot` (a figure-level function with similar flexibility) or `kdeplot` (an axes-level function for kernel density plots).\n",
      "  warnings.warn(msg, FutureWarning)\n"
     ]
    },
    {
     "data": {
      "image/png": "[encoded data removed]",
      "text/plain": [
       "<Figure size 432x288 with 1 Axes>"
      ]
     },
     "metadata": {
      "needs_background": "light"
     },
     "output_type": "display_data"
    }
   ],
   "source": [
    "arr = np.random.multinomial(n=5, pvals=[1/5, 1/5, 1/5, 1/5, 1/5], size=100)\n",
    "\n",
    "sns.distplot(arr, hist=False)\n",
    "plt.show()"
   ]
  },
  {
   "cell_type": "code",
   "execution_count": 7,
   "id": "4d3d0407",
   "metadata": {},
   "outputs": [
    {
     "name": "stdout",
     "output_type": "stream",
     "text": [
      "[ 0.56118725  0.89924397  2.04617939  4.70048782  0.36632385  3.65201242\n",
      "  2.92082147  3.53249689  8.16250233  1.19295976  0.03921462  0.05485466\n",
      "  0.44818335  0.80455762  1.02232877  1.71603341  0.60262371  4.90913907\n",
      "  3.67918404  0.1159723   0.03315237  1.70296356  0.41676117  0.13111624\n",
      "  7.52358496  3.15708689  1.03562915  1.95366958  0.01923427  2.88898194\n",
      "  3.45314465  2.90512056  1.29485332  7.16848702  6.943462    2.35273907\n",
      "  0.50686188  2.98857747  0.66297693  3.14041587  0.23665467  6.93290825\n",
      "  0.02573003  4.15283653  0.67990564  2.92783695  0.58588429  1.34468123\n",
      "  1.68668228  0.15918972  0.33340081  0.08213959  2.38798909  1.05337775\n",
      "  2.64919577  2.62820782  3.32735162  0.57259272  0.83130315  0.05785042\n",
      "  1.67095174  1.67636067  2.01942063  0.0884803   4.35323517  2.7165685\n",
      "  0.47845498  0.26226584  1.11782075  4.30490988  6.43380319  0.85331889\n",
      "  1.1658763   0.74278041  0.60553166  2.01754615  2.75740358  0.35221314\n",
      "  0.15047284  0.02077736  0.60860703  1.16296165  0.45628313  1.78843627\n",
      "  0.87809091  0.46176744 11.98952223  1.00925378  1.44672511  1.02656607\n",
      "  0.66155589  4.79940372  0.75474835  2.36023283  0.13819424  6.32058074\n",
      "  1.39787676  4.10420375  5.90782439  3.11393429]\n"
     ]
    }
   ],
   "source": [
    "arr = np.random.exponential(scale=2, size=100)\n",
    "print(arr)"
   ]
  },
  {
   "cell_type": "code",
   "execution_count": 10,
   "id": "a6a6a442",
   "metadata": {},
   "outputs": [
    {
     "name": "stderr",
     "output_type": "stream",
     "text": [
      "/home/blackheart/.local/lib/python3.10/site-packages/seaborn/distributions.py:2619: FutureWarning: `distplot` is a deprecated function and will be removed in a future version. Please adapt your code to use either `displot` (a figure-level function with similar flexibility) or `kdeplot` (an axes-level function for kernel density plots).\n",
      "  warnings.warn(msg, FutureWarning)\n"
     ]
    },
    {
     "data": {
      "image/png": "[encoded data removed]",
      "text/plain": [
       "<Figure size 432x288 with 1 Axes>"
      ]
     },
     "metadata": {
      "needs_background": "light"
     },
     "output_type": "display_data"
    }
   ],
   "source": [
    "arr = np.random.exponential(size=1000)\n",
    "\n",
    "sns.distplot(arr, hist=False)\n",
    "plt.show()"
   ]
  },
  {
   "cell_type": "code",
   "execution_count": 11,
   "id": "7582b8c0",
   "metadata": {},
   "outputs": [
    {
     "name": "stdout",
     "output_type": "stream",
     "text": [
      "[ 2.92624147  5.22706975  2.2436647  10.59226619  1.42164012  4.70314677\n",
      "  2.01208056  9.40926542 11.36390761  9.94751023  4.42116258  2.96227585\n",
      "  2.09637428  2.74893221  4.59574394  2.33836267  3.90360756  3.53056346\n",
      "  3.36826393  5.139997    2.48592478 10.39891768  4.62389127  4.64892172\n",
      "  4.61421961  3.92092403  2.86818239  3.34662992  8.2904366   9.7557416\n",
      "  4.5433765   3.1781156   3.60968253  4.04868015  4.71448172  3.84840299\n",
      "  1.76049437  3.81793839  4.30224968  3.47194618  4.22327505  6.63978146\n",
      "  2.92324907 17.95687956  7.45290957  6.76645727  6.73007682  5.99487671\n",
      "  3.95047598 17.48448097  9.31845155  5.73364184  3.72450234  4.40944459\n",
      "  5.63062625  6.87306914  3.06917534  2.6534875   3.87179899  1.81098942\n",
      "  1.08123566  5.27628942 13.65468092  2.80069537  8.5058932   0.84864502\n",
      "  5.00327084  2.75434762  4.53162694  1.27665554  3.07549742  3.11691213\n",
      "  7.51282412  1.33511265  0.78390208  5.63123208  2.4216036   3.73903442\n",
      " 10.22308468  3.66889632  2.15297239  1.187286   11.01475028 11.42558065\n",
      "  3.07576586  4.94540265  8.58396354 11.03926364  1.74644938  1.69436488\n",
      "  2.47535105  1.79498503  3.63624621  4.5463745   4.86900668  2.28898023\n",
      "  4.37392941  8.34636297  9.2976406   7.13378739]\n"
     ]
    }
   ],
   "source": [
    "arr = np.random.chisquare(df=5, size=100)\n",
    "print(arr)"
   ]
  },
  {
   "cell_type": "code",
   "execution_count": 12,
   "id": "42f66287",
   "metadata": {},
   "outputs": [
    {
     "name": "stderr",
     "output_type": "stream",
     "text": [
      "/home/blackheart/.local/lib/python3.10/site-packages/seaborn/distributions.py:2619: FutureWarning: `distplot` is a deprecated function and will be removed in a future version. Please adapt your code to use either `displot` (a figure-level function with similar flexibility) or `kdeplot` (an axes-level function for kernel density plots).\n",
      "  warnings.warn(msg, FutureWarning)\n"
     ]
    },
    {
     "data": {
      "image/png": "[encoded data removed]",
      "text/plain": [
       "<Figure size 432x288 with 1 Axes>"
      ]
     },
     "metadata": {
      "needs_background": "light"
     },
     "output_type": "display_data"
    }
   ],
   "source": [
    "arr = np.random.chisquare(df=2, size=1000)\n",
    "\n",
    "sns.distplot(arr, hist=False)\n",
    "plt.show()"
   ]
  },
  {
   "cell_type": "code",
   "execution_count": 13,
   "id": "09a47b33",
   "metadata": {},
   "outputs": [
    {
     "name": "stdout",
     "output_type": "stream",
     "text": [
      "[1.2988551  1.42740049 1.7277115  0.99615097 1.91592269 0.18365858\n",
      " 0.8805234  1.20865539 0.75131051 2.63223267 1.48196719 1.88376864\n",
      " 1.42003492 1.17319504 0.38893332 0.96310732 2.43471517 0.71077703\n",
      " 1.38513141 0.06443811 1.1063782  0.86207039 2.36688823 0.71924323\n",
      " 2.37993267 2.27374475 0.87782472 0.58380103 0.06989939 0.71483528\n",
      " 0.76850322 1.20644957 0.65331973 0.32033663 0.93488214 0.64396863\n",
      " 0.86941708 0.92517048 0.47213701 2.43142977 0.35928749 1.04623593\n",
      " 0.70122793 0.95309598 0.23177054 1.6447581  0.63507011 1.62865838\n",
      " 1.47933945 0.79056746 0.27678157 2.93912811 1.3849423  2.72602362\n",
      " 0.73545631 1.81584837 0.55663194 1.27673751 0.59922576 0.86142732\n",
      " 0.57885733 0.8524818  0.76644694 2.46697674 1.66100511 1.19077998\n",
      " 1.20057534 0.72252255 1.02010134 1.51084084 1.93964217 0.82699116\n",
      " 1.43406025 0.32185932 0.79139155 0.44082731 2.35525177 2.35597598\n",
      " 1.27054852 1.84434326 1.7739765  2.06036544 0.95351629 0.80952288\n",
      " 1.92144744 0.99690741 1.83497769 1.80441464 1.2916451  2.267652\n",
      " 1.22662151 1.61757634 0.51367274 2.10649805 0.22223313 1.37378338\n",
      " 0.27192791 0.77801356 1.49858108 1.00471128]\n"
     ]
    }
   ],
   "source": [
    "arr = np.random.rayleigh(scale=1, size=100)\n",
    "print(arr)"
   ]
  },
  {
   "cell_type": "code",
   "execution_count": 14,
   "id": "7fe886cf",
   "metadata": {},
   "outputs": [
    {
     "name": "stderr",
     "output_type": "stream",
     "text": [
      "/home/blackheart/.local/lib/python3.10/site-packages/seaborn/distributions.py:2619: FutureWarning: `distplot` is a deprecated function and will be removed in a future version. Please adapt your code to use either `displot` (a figure-level function with similar flexibility) or `kdeplot` (an axes-level function for kernel density plots).\n",
      "  warnings.warn(msg, FutureWarning)\n"
     ]
    },
    {
     "data": {
      "image/png": "[encoded data removed]",
      "text/plain": [
       "<Figure size 432x288 with 1 Axes>"
      ]
     },
     "metadata": {
      "needs_background": "light"
     },
     "output_type": "display_data"
    }
   ],
   "source": [
    "arr = np.random.rayleigh(size=1000)\n",
    "\n",
    "sns.distplot(arr, hist=False)\n",
    "plt.show()"
   ]
  },
  {
   "cell_type": "code",
   "execution_count": 15,
   "id": "b349331a",
   "metadata": {},
   "outputs": [
    {
     "name": "stdout",
     "output_type": "stream",
     "text": [
      "[8.53494736e-02 4.37998615e-01 4.47019018e-01 1.09683220e-01\n",
      " 4.32559276e-01 5.60593902e-02 4.70446948e-01 8.51234966e-01\n",
      " 6.24859499e-03 2.26560980e-01 1.63906683e-01 1.32514788e+00\n",
      " 1.31344326e-03 7.09427420e-01 8.66184805e-02 7.96245737e-01\n",
      " 1.62574110e-01 1.67888481e+00 2.05304020e-01 3.53941155e-01\n",
      " 1.87517735e-01 6.99140977e-01 3.16303730e-02 7.43496715e-01\n",
      " 7.05001753e-02 1.62336683e+00 1.21707767e+00 1.86169168e-01\n",
      " 2.22957930e-01 8.49796539e-01 8.73720901e-01 8.49531324e-01\n",
      " 7.78823015e-02 2.01356435e-02 1.38705784e-01 2.66261833e+00\n",
      " 6.40788387e+00 3.83897740e-01 1.43500837e-01 2.88901828e+00\n",
      " 2.30432446e+00 1.39180936e-01 5.69375230e-01 4.18255270e-01\n",
      " 8.14196449e-01 8.55108230e-01 5.11052456e+00 1.00821388e+00\n",
      " 2.18428030e-01 2.05519371e-02 6.69471179e+00 7.20698587e-02\n",
      " 1.63410265e+00 4.06350822e-01 4.45412794e-02 9.37744105e-01\n",
      " 4.00564757e-01 6.27405537e-02 3.54040812e-01 3.49375534e+00\n",
      " 8.92529300e-02 1.80987859e-02 2.93655443e-01 3.68004093e-01\n",
      " 6.22181495e-02 7.22587477e-01 8.30689073e-02 2.98337238e+00\n",
      " 9.06062731e-01 1.32661186e+00 6.69400361e-01 1.71805009e+00\n",
      " 3.93085413e-01 1.00232300e-01 1.66920387e-01 1.09323375e-01\n",
      " 5.23956555e-01 2.74228223e+00 2.39069010e+00 3.21645834e-01\n",
      " 1.93555615e-01 1.76696454e-01 4.14154467e-01 1.68195266e-01\n",
      " 1.02662484e-01 5.29854727e-01 1.32122722e+00 4.84792862e-02\n",
      " 6.03784843e-01 1.11180320e-01 1.08540314e-01 8.96348124e-01\n",
      " 2.01079891e-01 2.84341263e+00 3.02367849e+00 3.51529972e-01\n",
      " 4.46940919e-01 1.03924585e+00 6.30903458e+00 8.82944095e-02]\n"
     ]
    }
   ],
   "source": [
    "arr = np.random.pareto(a=2, size=100)\n",
    "print(arr)"
   ]
  },
  {
   "cell_type": "code",
   "execution_count": 17,
   "id": "0bb05e3a",
   "metadata": {},
   "outputs": [
    {
     "name": "stderr",
     "output_type": "stream",
     "text": [
      "/home/blackheart/.local/lib/python3.10/site-packages/seaborn/distributions.py:2619: FutureWarning: `distplot` is a deprecated function and will be removed in a future version. Please adapt your code to use either `displot` (a figure-level function with similar flexibility) or `kdeplot` (an axes-level function for kernel density plots).\n",
      "  warnings.warn(msg, FutureWarning)\n"
     ]
    },
    {
     "data": {
      "image/png": "[encoded data removed]",
      "text/plain": [
       "<Figure size 432x288 with 1 Axes>"
      ]
     },
     "metadata": {
      "needs_background": "light"
     },
     "output_type": "display_data"
    }
   ],
   "source": [
    "arr = np.random.pareto(a=2, size=1000)\n",
    "\n",
    "sns.distplot(arr, hist=False)\n",
    "plt.show()"
   ]
  },
  {
   "cell_type": "code",
   "execution_count": 19,
   "id": "8d2bd7a5",
   "metadata": {},
   "outputs": [
    {
     "name": "stdout",
     "output_type": "stream",
     "text": [
      "[1 1 1 1 2 1 1 1 1 1 1 1 1 1 1 1 1 1 1 1 1 1 1 1 2 1 1 1 1 1 1 1 1 1 1 1 1\n",
      " 1 1 1 1 1 1 1 1 2 1 1 1 1 2 1 1 1 1 1 1 1 1 1 1 1 1 1 1 1 1 1 1 1 5 1 1 1\n",
      " 1 1 2 1 1 1 1 1 1 1 1 1 1 1 1 1 1 1 1 1 1 1 1 1 1 1]\n"
     ]
    }
   ],
   "source": [
    "arr = np.random.zipf(a=5, size=100)\n",
    "print(arr)"
   ]
  },
  {
   "cell_type": "code",
   "execution_count": 21,
   "id": "bf7333fa",
   "metadata": {},
   "outputs": [
    {
     "name": "stderr",
     "output_type": "stream",
     "text": [
      "/home/blackheart/.local/lib/python3.10/site-packages/seaborn/distributions.py:2619: FutureWarning: `distplot` is a deprecated function and will be removed in a future version. Please adapt your code to use either `displot` (a figure-level function with similar flexibility) or `kdeplot` (an axes-level function for kernel density plots).\n",
      "  warnings.warn(msg, FutureWarning)\n"
     ]
    },
    {
     "data": {
      "image/png": "[encoded data removed]",
      "text/plain": [
       "<Figure size 432x288 with 1 Axes>"
      ]
     },
     "metadata": {
      "needs_background": "light"
     },
     "output_type": "display_data"
    }
   ],
   "source": [
    "arr = np.random.zipf(a=2, size=1000)\n",
    "\n",
    "sns.distplot(arr, hist=False)\n",
    "plt.show()"
   ]
  },
  {
   "cell_type": "code",
   "execution_count": null,
   "id": "e23c4c38",
   "metadata": {},
   "outputs": [],
   "source": []
  }
 ],
 "metadata": {
  "kernelspec": {
   "display_name": "Python 3 (ipykernel)",
   "language": "python",
   "name": "python3"
  },
  "language_info": {
   "codemirror_mode": {
    "name": "ipython",
    "version": 3
   },
   "file_extension": ".py",
   "mimetype": "text/x-python",
   "name": "python",
   "nbconvert_exporter": "python",
   "pygments_lexer": "ipython3",
   "version": "3.10.0"
  }
 },
 "nbformat": 4,
 "nbformat_minor": 5
}
