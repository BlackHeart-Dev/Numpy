{
 "cells": [
  {
   "cell_type": "markdown",
   "id": "932d90af",
   "metadata": {},
   "source": [
    "# Numpy Review"
   ]
  },
  {
   "cell_type": "markdown",
   "id": "d147fd2b",
   "metadata": {},
   "source": [
    "# 1- Basic Introduction"
   ]
  },
  {
   "cell_type": "code",
   "execution_count": 1,
   "id": "db4f77ad",
   "metadata": {},
   "outputs": [],
   "source": [
    "import numpy as np\n",
    "import matplotlib.pyplot as plt\n",
    "import seaborn as sns"
   ]
  },
  {
   "cell_type": "code",
   "execution_count": 2,
   "id": "98593d5f",
   "metadata": {},
   "outputs": [
    {
     "name": "stdout",
     "output_type": "stream",
     "text": [
      "1.21.4\n"
     ]
    }
   ],
   "source": [
    "print(np.__version__)"
   ]
  },
  {
   "cell_type": "markdown",
   "id": "932f3032",
   "metadata": {},
   "source": [
    "## NumPy Creating Arrays"
   ]
  },
  {
   "cell_type": "code",
   "execution_count": 4,
   "id": "49b562ce",
   "metadata": {},
   "outputs": [
    {
     "name": "stdout",
     "output_type": "stream",
     "text": [
      "[0 1 2 3 4 5]\n",
      "<class 'numpy.ndarray'>\n"
     ]
    }
   ],
   "source": [
    "# Creat Object array in numpy (ndarray)\n",
    "arr = np.array([0, 1, 2, 3, 4, 5])\n",
    "\n",
    "print(arr)\n",
    "print(type(arr))"
   ]
  },
  {
   "cell_type": "code",
   "execution_count": 5,
   "id": "ad8d5df0",
   "metadata": {},
   "outputs": [
    {
     "name": "stdout",
     "output_type": "stream",
     "text": [
      "5\n",
      "0\n"
     ]
    }
   ],
   "source": [
    "# 0-D Arrays\n",
    "arr = np.array(5)\n",
    "\n",
    "print(arr)\n",
    "print(arr.ndim)"
   ]
  },
  {
   "cell_type": "code",
   "execution_count": 7,
   "id": "b85991ec",
   "metadata": {},
   "outputs": [
    {
     "name": "stdout",
     "output_type": "stream",
     "text": [
      "[0 1 2 3 4 5]\n",
      "1\n"
     ]
    }
   ],
   "source": [
    "# 1-D Arrays\n",
    "arr = np.array([0, 1, 2, 3, 4, 5])\n",
    "\n",
    "print(arr)\n",
    "print(arr.ndim)"
   ]
  },
  {
   "cell_type": "code",
   "execution_count": 8,
   "id": "387af619",
   "metadata": {},
   "outputs": [
    {
     "name": "stdout",
     "output_type": "stream",
     "text": [
      "[[0 1 2 3]\n",
      " [4 5 6 7]]\n",
      "2\n"
     ]
    }
   ],
   "source": [
    "# 2-D Arrays\n",
    "arr = np.array([[0, 1, 2, 3], [4, 5, 6, 7]])\n",
    "\n",
    "print(arr)\n",
    "print(arr.ndim)"
   ]
  },
  {
   "cell_type": "code",
   "execution_count": 9,
   "id": "9a4902b7",
   "metadata": {},
   "outputs": [
    {
     "name": "stdout",
     "output_type": "stream",
     "text": [
      "[[[ 0  1  2]\n",
      "  [ 3  4  5]]\n",
      "\n",
      " [[ 6  7  8]\n",
      "  [ 9 10 11]]]\n",
      "3\n"
     ]
    }
   ],
   "source": [
    "# 3-D Arrays\n",
    "arr = np.array([[[0, 1, 2], [3, 4, 5]], [[6, 7, 8], [9, 10, 11]]])\n",
    "\n",
    "print(arr)\n",
    "print(arr.ndim)"
   ]
  },
  {
   "cell_type": "code",
   "execution_count": 10,
   "id": "edd4fed0",
   "metadata": {},
   "outputs": [
    {
     "name": "stdout",
     "output_type": "stream",
     "text": [
      "[[[[[0 1 2 3 4 5]]]]]\n",
      "5\n"
     ]
    }
   ],
   "source": [
    "# Higher Dimensional Arrays\n",
    "arr = np.array([0, 1, 2, 3, 4, 5], ndmin=5)\n",
    "\n",
    "print(arr)\n",
    "print(arr.ndim)"
   ]
  },
  {
   "cell_type": "markdown",
   "id": "a094c59a",
   "metadata": {},
   "source": [
    "## NumPy Array Indexing"
   ]
  },
  {
   "cell_type": "code",
   "execution_count": 11,
   "id": "96dd5b3a",
   "metadata": {},
   "outputs": [
    {
     "name": "stdout",
     "output_type": "stream",
     "text": [
      "[ 0  1  2  3  4  5  6  7  8  9 10 11 12 13 14 15]\n"
     ]
    }
   ],
   "source": [
    "arr = np.array([0, 1, 2, 3, 4, 5, 6,7, 8, 9, 10, 11, 12, 13, 14, 15])\n",
    "print(arr)"
   ]
  },
  {
   "cell_type": "code",
   "execution_count": 13,
   "id": "15eda8ff",
   "metadata": {},
   "outputs": [
    {
     "name": "stdout",
     "output_type": "stream",
     "text": [
      "0\n",
      "1\n",
      "2\n",
      "3\n",
      "4\n",
      "15\n",
      "14\n",
      "13\n",
      "12\n",
      "11\n"
     ]
    }
   ],
   "source": [
    "# Accessing the elements of 1-D Arrays using a positive index\n",
    "print(arr[0])\n",
    "print(arr[1])\n",
    "print(arr[2])\n",
    "print(arr[3])\n",
    "print(arr[4])\n",
    "\n",
    "# Accessing the elements of 1-D matrices using the negative index\n",
    "print(arr[-1])\n",
    "print(arr[-2])\n",
    "print(arr[-3])\n",
    "print(arr[-4])\n",
    "print(arr[-5])"
   ]
  },
  {
   "cell_type": "code",
   "execution_count": 16,
   "id": "89b9c766",
   "metadata": {},
   "outputs": [
    {
     "name": "stdout",
     "output_type": "stream",
     "text": [
      "[[ 0  1  2  3  4]\n",
      " [ 5  6  7  8  9]\n",
      " [10 11 12 13 14]]\n"
     ]
    }
   ],
   "source": [
    "arr = np.array([[0, 1, 2, 3, 4], [5, 6, 7, 8, 9], [10, 11, 12, 13, 14]])\n",
    "print(arr)"
   ]
  },
  {
   "cell_type": "code",
   "execution_count": 17,
   "id": "46dc14e9",
   "metadata": {},
   "outputs": [
    {
     "name": "stdout",
     "output_type": "stream",
     "text": [
      "0\n",
      "1\n",
      "2\n",
      "5\n",
      "6\n",
      "7\n",
      "10\n",
      "11\n",
      "12\n",
      "14\n",
      "13\n",
      "12\n",
      "9\n",
      "8\n",
      "7\n",
      "4\n",
      "3\n",
      "2\n",
      "9\n",
      "8\n",
      "7\n",
      "5\n",
      "6\n",
      "7\n",
      "0\n",
      "13\n",
      "2\n"
     ]
    }
   ],
   "source": [
    "# Accessing the elements of 2-D Arrays using a positive index\n",
    "print(arr[0, 0])\n",
    "print(arr[0, 1])\n",
    "print(arr[0, 2])\n",
    "\n",
    "print(arr[1, 0])\n",
    "print(arr[1, 1])\n",
    "print(arr[1, 2])\n",
    "\n",
    "print(arr[2, 0])\n",
    "print(arr[2, 1])\n",
    "print(arr[2, 2])\n",
    "\n",
    "# Accessing the elements of 1-D matrices using the negative index\n",
    "print(arr[-1, -1])\n",
    "print(arr[-1, -2])\n",
    "print(arr[-1, -3])\n",
    "\n",
    "print(arr[-2, -1])\n",
    "print(arr[-2, -2])\n",
    "print(arr[-2, -3])\n",
    "\n",
    "print(arr[-3, -1])\n",
    "print(arr[-3, -2])\n",
    "print(arr[-3, -3])\n",
    "\n",
    "# Accessing the elements of 1-D matrices using the negative and positive index\n",
    "print(arr[1, -1])\n",
    "print(arr[1, -2])\n",
    "print(arr[1, -3])\n",
    "\n",
    "print(arr[-2, 0])\n",
    "print(arr[-2, 1])\n",
    "print(arr[-2, 2])\n",
    "\n",
    "print(arr[-3, 0])\n",
    "print(arr[2, -2])\n",
    "print(arr[-3, 2])"
   ]
  },
  {
   "cell_type": "code",
   "execution_count": 24,
   "id": "19ede3ec",
   "metadata": {},
   "outputs": [
    {
     "name": "stdout",
     "output_type": "stream",
     "text": [
      "[[[ 0  1  2  3  4]\n",
      "  [ 5  6  7  8  9]]\n",
      "\n",
      " [[10 11 12 13 14]\n",
      "  [15 16 17 18 19]]]\n"
     ]
    }
   ],
   "source": [
    "arr = np.array([[[0, 1, 2, 3, 4], [5, 6, 7, 8, 9]], [[10, 11, 12, 13, 14], [15, 16, 17, 18, 19]]])\n",
    "print(arr)"
   ]
  },
  {
   "cell_type": "code",
   "execution_count": 26,
   "id": "9b369f6c",
   "metadata": {},
   "outputs": [
    {
     "name": "stdout",
     "output_type": "stream",
     "text": [
      "0\n",
      "6\n",
      "17\n",
      "10\n",
      "16\n",
      "13\n",
      "19\n",
      "12\n",
      "18\n",
      "9\n",
      "2\n",
      "6\n",
      "15\n",
      "12\n",
      "17\n",
      "0\n",
      "8\n",
      "8\n"
     ]
    }
   ],
   "source": [
    "# Accessing the elements of 3-D Arrays using a positive index\n",
    "print(arr[0, 0, 0])\n",
    "print(arr[0, 1, 1])\n",
    "print(arr[1, 1, 2])\n",
    "\n",
    "print(arr[1, 0, 0])\n",
    "print(arr[1, 1, 1])\n",
    "print(arr[1, 0, 3])\n",
    "\n",
    "# Accessing the elements of 3-D matrices using the negative index\n",
    "print(arr[-1, -1, -1])\n",
    "print(arr[-1, -2, -3])\n",
    "print(arr[-1, -1, -2])\n",
    "\n",
    "print(arr[-2, -1, -1])\n",
    "print(arr[-2, -2, -3])\n",
    "print(arr[-2, --1, -4])\n",
    "\n",
    "# Accessing the elements of 3-D matrices using the negative and positive index\n",
    "print(arr[1, -1, 0])\n",
    "print(arr[1, -2, -3])\n",
    "print(arr[1, -1, 2])\n",
    "\n",
    "print(arr[-2, 0, 0])\n",
    "print(arr[-2, 1, -2])\n",
    "print(arr[-2, 1, 3])"
   ]
  },
  {
   "cell_type": "markdown",
   "id": "07d16f40",
   "metadata": {},
   "source": [
    "## NumPy Array Slicing"
   ]
  },
  {
   "cell_type": "code",
   "execution_count": 27,
   "id": "f4445c1a",
   "metadata": {},
   "outputs": [
    {
     "name": "stdout",
     "output_type": "stream",
     "text": [
      "[ 0  1  2  3  4  5  6  7  8  9 10 11 12 13 14 15]\n"
     ]
    }
   ],
   "source": [
    "arr = np.array([0, 1, 2, 3, 4, 5, 6,7, 8, 9, 10, 11, 12, 13, 14, 15])\n",
    "print(arr)"
   ]
  },
  {
   "cell_type": "code",
   "execution_count": 31,
   "id": "07f32bd9",
   "metadata": {},
   "outputs": [
    {
     "name": "stdout",
     "output_type": "stream",
     "text": [
      "[[ 5  6  7  8  9]\n",
      " [10 11 12 13 14]]\n",
      "[[10 11 12 13 14]]\n",
      "[[ 0  1  2  3  4]\n",
      " [ 5  6  7  8  9]\n",
      " [10 11 12 13 14]]\n",
      "[]\n",
      "[[ 0  1  2  3  4]\n",
      " [ 5  6  7  8  9]\n",
      " [10 11 12 13 14]]\n",
      "[[0 1 2 3 4]]\n",
      "[]\n",
      "[[0 1 2 3 4]]\n"
     ]
    }
   ],
   "source": [
    "print(arr[1:10])\n",
    "print(arr[2:13])\n",
    "\n",
    "print(arr[:10])\n",
    "print(arr[5:])\n",
    "print(arr[:])\n",
    "\n",
    "print(arr[-10:-2])\n",
    "print(arr[-14:-8])\n",
    "\n",
    "print(arr[::3])"
   ]
  },
  {
   "cell_type": "code",
   "execution_count": 29,
   "id": "77cda7a6",
   "metadata": {},
   "outputs": [
    {
     "name": "stdout",
     "output_type": "stream",
     "text": [
      "[[ 0  1  2  3  4]\n",
      " [ 5  6  7  8  9]\n",
      " [10 11 12 13 14]]\n"
     ]
    }
   ],
   "source": [
    "arr = np.array([[0, 1, 2, 3, 4], [5, 6, 7, 8, 9], [10, 11, 12, 13, 14]])\n",
    "print(arr)"
   ]
  },
  {
   "cell_type": "code",
   "execution_count": 30,
   "id": "68b45646",
   "metadata": {},
   "outputs": [
    {
     "name": "stdout",
     "output_type": "stream",
     "text": [
      "[2 3]\n",
      "[5 6 7]\n",
      "[12 13]\n",
      "[5 6 7]\n",
      "[1 2 3]\n",
      "[5 6 7 8]\n",
      "[ 2  7 12]\n",
      "[2]\n",
      "[[ 5  6  7  8  9]\n",
      " [10 11 12 13 14]]\n"
     ]
    }
   ],
   "source": [
    "print(arr[0, 2:4])\n",
    "print(arr[1, 0:3])\n",
    "\n",
    "print(arr[-1, 2:4])\n",
    "print(arr[-2, 0:3])\n",
    "\n",
    "print(arr[0, -4:-1])\n",
    "print(arr[-2, :-1])\n",
    "\n",
    "print(arr[:, -3])\n",
    "print(arr[:1, 2])\n",
    "print(arr[-2:, :])"
   ]
  },
  {
   "cell_type": "markdown",
   "id": "5c530a20",
   "metadata": {},
   "source": [
    "## NumPy Data Types"
   ]
  },
  {
   "cell_type": "code",
   "execution_count": 32,
   "id": "f7328c27",
   "metadata": {},
   "outputs": [],
   "source": [
    "# i - integer\n",
    "# b - boolean\n",
    "# u - unsigned integer\n",
    "# f - float\n",
    "# c - complex float\n",
    "# m - timedelta\n",
    "# M - datetime\n",
    "# O - object\n",
    "# S - string\n",
    "# U - unicode string\n",
    "# V - fixed chunk of memory for other type ( void )"
   ]
  },
  {
   "cell_type": "code",
   "execution_count": 33,
   "id": "414b2f66",
   "metadata": {
    "scrolled": true
   },
   "outputs": [
    {
     "name": "stdout",
     "output_type": "stream",
     "text": [
      "[0 1 2 3 4 5]\n",
      "int64\n"
     ]
    }
   ],
   "source": [
    "arr = np.array([0, 1, 2, 3, 4, 5])\n",
    "\n",
    "print(arr)\n",
    "print(arr.dtype)"
   ]
  },
  {
   "cell_type": "code",
   "execution_count": 35,
   "id": "bb02c68e",
   "metadata": {},
   "outputs": [
    {
     "name": "stdout",
     "output_type": "stream",
     "text": [
      "['A' 'B' 'C']\n",
      "<U1\n"
     ]
    }
   ],
   "source": [
    "arr = np.array(['A', 'B', 'C'])\n",
    "\n",
    "print(arr)\n",
    "print(arr.dtype)"
   ]
  },
  {
   "cell_type": "code",
   "execution_count": 36,
   "id": "f39a18c1",
   "metadata": {},
   "outputs": [
    {
     "name": "stdout",
     "output_type": "stream",
     "text": [
      "[b'0' b'1' b'2' b'3' b'4']\n",
      "|S1\n"
     ]
    }
   ],
   "source": [
    "arr = np.array([0, 1, 2, 3, 4], dtype='S')\n",
    "\n",
    "print(arr)\n",
    "print(arr.dtype)"
   ]
  },
  {
   "cell_type": "code",
   "execution_count": 37,
   "id": "0ebe8d72",
   "metadata": {},
   "outputs": [
    {
     "name": "stdout",
     "output_type": "stream",
     "text": [
      "[False  True  True  True]\n",
      "bool\n"
     ]
    }
   ],
   "source": [
    "arr = np.array(['', 'A', 'B', 'C'], dtype=bool)\n",
    "\n",
    "print(arr)\n",
    "print(arr.dtype)"
   ]
  },
  {
   "cell_type": "code",
   "execution_count": 46,
   "id": "f760eca4",
   "metadata": {},
   "outputs": [
    {
     "name": "stdout",
     "output_type": "stream",
     "text": [
      "arr: [0 1 2 3 4 5] type array: int64\n",
      "arr_S: [b'0' b'1' b'2' b'3' b'4' b'5'] type array: |S21\n",
      "arr_bool: [False  True  True  True  True  True] type array: bool\n"
     ]
    }
   ],
   "source": [
    "arr = np.array([0, 1, 2, 3, 4, 5])\n",
    "\n",
    "arr_S = arr.astype('S')\n",
    "arr_bool = arr.astype(bool)\n",
    "\n",
    "print(f\"arr: {arr} type array: {arr.dtype}\")\n",
    "print(f\"arr_S: {arr_S} type array: {arr_S.dtype}\")\n",
    "print(f\"arr_bool: {arr_bool} type array: {arr_bool.dtype}\")"
   ]
  },
  {
   "cell_type": "markdown",
   "id": "616d8f9b",
   "metadata": {},
   "source": [
    "## NumPy Array Copy vs View"
   ]
  },
  {
   "cell_type": "code",
   "execution_count": 40,
   "id": "252d43cd",
   "metadata": {},
   "outputs": [
    {
     "name": "stdout",
     "output_type": "stream",
     "text": [
      "[0 1 2 3 4 5]\n",
      "[10  1  2  3  4  5]\n",
      "[ 0 20  2  3  4  5]\n"
     ]
    }
   ],
   "source": [
    "# Copy\n",
    "arr = np.array([0, 1, 2, 3, 4, 5])\n",
    "print(arr)\n",
    "\n",
    "copy = arr.copy()\n",
    "arr[0] = 10\n",
    "copy[1] = 20\n",
    "\n",
    "print(arr)\n",
    "print(copy)"
   ]
  },
  {
   "cell_type": "code",
   "execution_count": 44,
   "id": "b44cd5eb",
   "metadata": {},
   "outputs": [
    {
     "name": "stdout",
     "output_type": "stream",
     "text": [
      "[0 1 2 3 4 5]\n",
      "[10 20  2  3  4  5]\n",
      "[10 20  2  3  4  5]\n"
     ]
    }
   ],
   "source": [
    "# View\n",
    "arr = np.array([0, 1, 2, 3, 4, 5])\n",
    "print(arr)\n",
    "\n",
    "view = arr.view()\n",
    "arr[0] = 10\n",
    "view[1] = 20\n",
    "\n",
    "print(arr)\n",
    "print(view)"
   ]
  },
  {
   "cell_type": "code",
   "execution_count": 45,
   "id": "bb6278ff",
   "metadata": {},
   "outputs": [
    {
     "name": "stdout",
     "output_type": "stream",
     "text": [
      "[10 20  2  3  4  5]\n",
      "None\n"
     ]
    }
   ],
   "source": [
    "# Copy VS View\n",
    "print(view.base)\n",
    "print(copy.base)"
   ]
  },
  {
   "cell_type": "markdown",
   "id": "50861e87",
   "metadata": {},
   "source": [
    "## NumPy Array Shape"
   ]
  },
  {
   "cell_type": "code",
   "execution_count": 47,
   "id": "c1ed3ef8",
   "metadata": {},
   "outputs": [
    {
     "name": "stdout",
     "output_type": "stream",
     "text": [
      "(5,)\n"
     ]
    }
   ],
   "source": [
    "arr = np.array([1, 2, 3, 4, 5])\n",
    "print(arr.shape)"
   ]
  },
  {
   "cell_type": "code",
   "execution_count": 48,
   "id": "2c638fc0",
   "metadata": {},
   "outputs": [
    {
     "name": "stdout",
     "output_type": "stream",
     "text": [
      "(3, 5)\n"
     ]
    }
   ],
   "source": [
    "arr = np.array([[1, 2, 3, 4, 5], [6, 7, 8, 9, 10], [11, 12, 13, 14, 15]])\n",
    "print(arr.shape)"
   ]
  },
  {
   "cell_type": "code",
   "execution_count": 49,
   "id": "29bc197b",
   "metadata": {},
   "outputs": [
    {
     "name": "stdout",
     "output_type": "stream",
     "text": [
      "(3, 2, 3)\n"
     ]
    }
   ],
   "source": [
    "arr = np.array([[[1, 2, 3], [4, 5, 6]], [[7, 8, 9], [10, 11, 12]], [[1, 2, 3], [4, 5, 6]]])\n",
    "print(arr.shape)"
   ]
  },
  {
   "cell_type": "code",
   "execution_count": 50,
   "id": "319818a7",
   "metadata": {},
   "outputs": [
    {
     "name": "stdout",
     "output_type": "stream",
     "text": [
      "(1, 1, 1, 1, 1, 1, 1, 1, 1, 5)\n"
     ]
    }
   ],
   "source": [
    "arr = np.array([1, 2, 3, 4, 5], ndmin=10)\n",
    "print(arr.shape)"
   ]
  },
  {
   "cell_type": "markdown",
   "id": "932c0f33",
   "metadata": {},
   "source": [
    "## NumPy Array Reshaping"
   ]
  },
  {
   "cell_type": "code",
   "execution_count": 51,
   "id": "533d4e1a",
   "metadata": {},
   "outputs": [
    {
     "name": "stdout",
     "output_type": "stream",
     "text": [
      "Array: [ 1  2  3  4  5  6  7  8  9 10 11 12 13 14 15 16 17 18 19 20]\n"
     ]
    }
   ],
   "source": [
    "arr = np.array([1, 2, 3, 4, 5, 6, 7, 8, 9, 10, 11, 12, 13, 14, 15, 16, 17, 18, 19, 20])\n",
    "print(f\"Array: {arr}\")"
   ]
  },
  {
   "cell_type": "code",
   "execution_count": 52,
   "id": "9f65030b",
   "metadata": {},
   "outputs": [],
   "source": [
    "# ERROR 4 * 6 != 20\n",
    "# re = arr.reshape(4, 6)\n",
    "# print(f\"Array: {re}\")"
   ]
  },
  {
   "cell_type": "code",
   "execution_count": 54,
   "id": "59ba08db",
   "metadata": {},
   "outputs": [
    {
     "name": "stdout",
     "output_type": "stream",
     "text": [
      "1- Array: [[ 1  2  3  4  5]\n",
      " [ 6  7  8  9 10]\n",
      " [11 12 13 14 15]\n",
      " [16 17 18 19 20]]\n",
      "2- Array: [[ 1  2  3  4]\n",
      " [ 5  6  7  8]\n",
      " [ 9 10 11 12]\n",
      " [13 14 15 16]\n",
      " [17 18 19 20]]\n",
      "3- Array: [[[[ 1]\n",
      "   [ 2]\n",
      "   [ 3]\n",
      "   [ 4]\n",
      "   [ 5]]\n",
      "\n",
      "  [[ 6]\n",
      "   [ 7]\n",
      "   [ 8]\n",
      "   [ 9]\n",
      "   [10]]]\n",
      "\n",
      "\n",
      " [[[11]\n",
      "   [12]\n",
      "   [13]\n",
      "   [14]\n",
      "   [15]]\n",
      "\n",
      "  [[16]\n",
      "   [17]\n",
      "   [18]\n",
      "   [19]\n",
      "   [20]]]]\n",
      "4- Array: [[[ 1  2  3  4  5]\n",
      "  [ 6  7  8  9 10]]\n",
      "\n",
      " [[11 12 13 14 15]\n",
      "  [16 17 18 19 20]]]\n",
      "5- Array: [[ 1  2  3  4  5]\n",
      " [ 6  7  8  9 10]\n",
      " [11 12 13 14 15]\n",
      " [16 17 18 19 20]]\n",
      "6- Array: [ 1  2  3  4  5  6  7  8  9 10 11 12 13 14 15 16 17 18 19 20]\n",
      "7- Copy OR View: [[ 1  2  3  4  5]\n",
      " [ 6  7  8  9 10]\n",
      " [11 12 13 14 15]\n",
      " [16 17 18 19 20]] Hmmmm (-_-) 'View'!!!\n"
     ]
    }
   ],
   "source": [
    "re = arr.reshape(4, 5)\n",
    "print(f\"1- Array: {re}\")\n",
    "\n",
    "re = arr.reshape(5, 4)\n",
    "print(f\"2- Array: {re}\")\n",
    "\n",
    "re = arr.reshape(2, 2, 5, 1)\n",
    "print(f\"3- Array: {re}\")\n",
    "\n",
    "re = arr.reshape(2, 2, -1)\n",
    "print(f\"4- Array: {re}\")\n",
    "\n",
    "arr = np.array([[1, 2, 3, 4, 5], [6, 7, 8, 9, 10], [11, 12, 13, 14, 15], [16, 17, 18, 19, 20]])\n",
    "print(f\"5- Array: {arr}\")\n",
    "\n",
    "re = arr.reshape(-1)\n",
    "print(f\"6- Array: {re}\")\n",
    "\n",
    "print(f\"7- Copy OR View: {re.base} Hmmmm (-_-) 'View'!!!\")\n"
   ]
  },
  {
   "cell_type": "markdown",
   "id": "b2f93417",
   "metadata": {},
   "source": [
    "## NumPy Array Iterating"
   ]
  },
  {
   "cell_type": "code",
   "execution_count": 55,
   "id": "15b0d873",
   "metadata": {},
   "outputs": [
    {
     "name": "stdout",
     "output_type": "stream",
     "text": [
      "1\n",
      "2\n",
      "3\n",
      "4\n",
      "5\n",
      "6\n",
      "7\n",
      "8\n",
      "9\n",
      "10\n",
      "Lterating Other Data Type:\n",
      "b'1'\n",
      "b'2'\n",
      "b'3'\n",
      "b'4'\n",
      "b'5'\n",
      "b'6'\n",
      "b'7'\n",
      "b'8'\n",
      "b'9'\n",
      "b'10'\n"
     ]
    }
   ],
   "source": [
    "arr = np.array([1, 2, 3, 4, 5, 6, 7, 8, 9, 10])\n",
    "\n",
    "for i in np.nditer(arr):\n",
    "    print(i)\n",
    "\n",
    "print(\"Lterating Other Data Type:\")\n",
    "\n",
    "for i in np.nditer(arr, flags=['buffered'], op_dtypes=['S']):\n",
    "    print(i)"
   ]
  },
  {
   "cell_type": "code",
   "execution_count": 57,
   "id": "f2fb9114",
   "metadata": {},
   "outputs": [
    {
     "name": "stdout",
     "output_type": "stream",
     "text": [
      "1\n",
      "2\n",
      "3\n",
      "4\n",
      "5\n",
      "6\n",
      "7\n",
      "8\n",
      "9\n",
      "10\n",
      "11\n",
      "12\n",
      "13\n",
      "14\n",
      "15\n",
      "Lterating Other Data Type:\n",
      "b'1'\n",
      "b'2'\n",
      "b'3'\n",
      "b'4'\n",
      "b'5'\n",
      "b'6'\n",
      "b'7'\n",
      "b'8'\n",
      "b'9'\n",
      "b'10'\n",
      "b'11'\n",
      "b'12'\n",
      "b'13'\n",
      "b'14'\n",
      "b'15'\n"
     ]
    }
   ],
   "source": [
    "arr = np.array([[1, 2, 3, 4, 5], [6, 7, 8, 9, 10], [11, 12, 13, 14, 15]])\n",
    "\n",
    "for i in np.nditer(arr):\n",
    "    print(i)\n",
    "\n",
    "print(\"Lterating Other Data Type:\")\n",
    "\n",
    "for i in np.nditer(arr, flags=['buffered'], op_dtypes=['S']):\n",
    "    print(i)"
   ]
  },
  {
   "cell_type": "code",
   "execution_count": 58,
   "id": "ed49a7b7",
   "metadata": {},
   "outputs": [
    {
     "name": "stdout",
     "output_type": "stream",
     "text": [
      "1\n",
      "2\n",
      "3\n",
      "4\n",
      "5\n",
      "6\n",
      "7\n",
      "8\n",
      "9\n",
      "10\n",
      "11\n",
      "12\n",
      "13\n",
      "14\n",
      "15\n",
      "16\n",
      "17\n",
      "18\n",
      "19\n",
      "20\n",
      "Lterating Other Data Type:\n",
      "b'1'\n",
      "b'2'\n",
      "b'3'\n",
      "b'4'\n",
      "b'5'\n",
      "b'6'\n",
      "b'7'\n",
      "b'8'\n",
      "b'9'\n",
      "b'10'\n",
      "b'11'\n",
      "b'12'\n",
      "b'13'\n",
      "b'14'\n",
      "b'15'\n",
      "b'16'\n",
      "b'17'\n",
      "b'18'\n",
      "b'19'\n",
      "b'20'\n"
     ]
    }
   ],
   "source": [
    "arr = np.array([[[1, 2, 3, 4, 5], [6, 7, 8, 9, 10]], [[11, 12, 13, 14, 15], [16, 17, 18, 19, 20]]])\n",
    "\n",
    "for i in np.nditer(arr):\n",
    "    print(i)\n",
    "\n",
    "print(\"Lterating Other Data Type:\")\n",
    "\n",
    "for i in np.nditer(arr, flags=['buffered'], op_dtypes=['S']):\n",
    "    print(i)"
   ]
  },
  {
   "cell_type": "code",
   "execution_count": 2,
   "id": "719dda55",
   "metadata": {},
   "outputs": [
    {
     "name": "stdout",
     "output_type": "stream",
     "text": [
      "index: (0,), eleme: 1\n",
      "index: (1,), eleme: 2\n",
      "index: (2,), eleme: 3\n",
      "index: (3,), eleme: 4\n",
      "index: (4,), eleme: 5\n",
      "index: (5,), eleme: 6\n",
      "index: (6,), eleme: 7\n",
      "index: (7,), eleme: 8\n",
      "index: (8,), eleme: 9\n",
      "index: (9,), eleme: 10\n"
     ]
    }
   ],
   "source": [
    "arr = np.array([1, 2, 3, 4, 5, 6, 7, 8, 9, 10])\n",
    "for i, j in np.ndenumerate(arr):\n",
    "    print(f\"index: {i}, eleme: {j}\")"
   ]
  },
  {
   "cell_type": "code",
   "execution_count": 3,
   "id": "598118f3",
   "metadata": {},
   "outputs": [
    {
     "name": "stdout",
     "output_type": "stream",
     "text": [
      "index: (0, 0), eleme: 1\n",
      "index: (0, 1), eleme: 2\n",
      "index: (0, 2), eleme: 3\n",
      "index: (0, 3), eleme: 4\n",
      "index: (0, 4), eleme: 5\n",
      "index: (1, 0), eleme: 6\n",
      "index: (1, 1), eleme: 7\n",
      "index: (1, 2), eleme: 8\n",
      "index: (1, 3), eleme: 9\n",
      "index: (1, 4), eleme: 10\n",
      "index: (2, 0), eleme: 11\n",
      "index: (2, 1), eleme: 12\n",
      "index: (2, 2), eleme: 13\n",
      "index: (2, 3), eleme: 14\n",
      "index: (2, 4), eleme: 15\n"
     ]
    }
   ],
   "source": [
    "arr = np.array([[1, 2, 3, 4, 5], [6, 7, 8, 9, 10], [11, 12, 13, 14, 15]])\n",
    "for i, j in np.ndenumerate(arr):\n",
    "    print(f\"index: {i}, eleme: {j}\")"
   ]
  },
  {
   "cell_type": "code",
   "execution_count": 4,
   "id": "94962edf",
   "metadata": {},
   "outputs": [
    {
     "name": "stdout",
     "output_type": "stream",
     "text": [
      "index: (0, 0, 0), eleme: 1\n",
      "index: (0, 0, 1), eleme: 2\n",
      "index: (0, 0, 2), eleme: 3\n",
      "index: (0, 0, 3), eleme: 4\n",
      "index: (0, 0, 4), eleme: 5\n",
      "index: (0, 1, 0), eleme: 6\n",
      "index: (0, 1, 1), eleme: 7\n",
      "index: (0, 1, 2), eleme: 8\n",
      "index: (0, 1, 3), eleme: 9\n",
      "index: (0, 1, 4), eleme: 10\n",
      "index: (1, 0, 0), eleme: 11\n",
      "index: (1, 0, 1), eleme: 12\n",
      "index: (1, 0, 2), eleme: 13\n",
      "index: (1, 0, 3), eleme: 14\n",
      "index: (1, 0, 4), eleme: 15\n",
      "index: (1, 1, 0), eleme: 16\n",
      "index: (1, 1, 1), eleme: 17\n",
      "index: (1, 1, 2), eleme: 18\n",
      "index: (1, 1, 3), eleme: 19\n",
      "index: (1, 1, 4), eleme: 20\n"
     ]
    }
   ],
   "source": [
    "arr = np.array([[[1, 2, 3, 4, 5], [6, 7, 8, 9, 10]], [[11, 12, 13, 14, 15], [16, 17, 18, 19, 20]]])\n",
    "for i, j in np.ndenumerate(arr):\n",
    "    print(f\"index: {i}, eleme: {j}\")"
   ]
  },
  {
   "cell_type": "markdown",
   "id": "f773e27c",
   "metadata": {},
   "source": [
    "## NumPy Joining Array"
   ]
  },
  {
   "cell_type": "code",
   "execution_count": 4,
   "id": "3b90efa3",
   "metadata": {},
   "outputs": [
    {
     "name": "stdout",
     "output_type": "stream",
     "text": [
      "1- Array: \n",
      "[1 2 3 4 5 6 7 8]\n"
     ]
    }
   ],
   "source": [
    "# Joining Arrays Using concatenate Functions\n",
    "a = np.array([1, 2, 3, 4])\n",
    "b = np.array([5, 6, 7, 8])\n",
    "\n",
    "c = np.concatenate((a, b)) # a and b they have 1 dimansion beyt default axis=0\n",
    "print(f\"1- Array: \\n{c}\")"
   ]
  },
  {
   "cell_type": "code",
   "execution_count": 5,
   "id": "26ed4785",
   "metadata": {},
   "outputs": [
    {
     "name": "stdout",
     "output_type": "stream",
     "text": [
      "2 A- Array: \n",
      "[[ 1  2  3  4]\n",
      " [ 5  6  7  8]\n",
      " [ 9 10 11 12]\n",
      " [13 14 15 16]]\n",
      "2 B- Array: \n",
      "[[ 1  2  3  4]\n",
      " [ 5  6  7  8]\n",
      " [ 9 10 11 12]\n",
      " [13 14 15 16]]\n",
      "3- Array: \n",
      "[[ 1  2  3  4  9 10 11 12]\n",
      " [ 5  6  7  8 13 14 15 16]]\n"
     ]
    }
   ],
   "source": [
    "a = np.array([[1, 2, 3, 4], \n",
    "              [5, 6, 7, 8]])\n",
    "\n",
    "b = np.array([[9, 10, 11, 12], \n",
    "              [13, 14, 15, 16]])\n",
    "\n",
    "c = np.concatenate((a, b)) # defauld axis = 0 = -1\n",
    "print(f\"2 A- Array: \\n{c}\")\n",
    "\n",
    "c = np.concatenate((a, b), axis=0) # defauld axis = 0 = -1\n",
    "print(f\"2 B- Array: \\n{c}\")\n",
    "\n",
    "c = np.concatenate((a, b), axis=1) # axis = 1 = -1\n",
    "print(f\"3- Array: \\n{c}\")"
   ]
  },
  {
   "cell_type": "code",
   "execution_count": 6,
   "id": "f4778239",
   "metadata": {},
   "outputs": [
    {
     "name": "stdout",
     "output_type": "stream",
     "text": [
      "4- Array: \n",
      "[[[ 1  2  3  4  5]\n",
      "  [ 6  7  8  9 10]]\n",
      "\n",
      " [[11 12 13 14 15]\n",
      "  [16 17 18 19 20]]\n",
      "\n",
      " [[21 22 23 24 25]\n",
      "  [26 27 28 29 30]]\n",
      "\n",
      " [[31 32 33 34 35]\n",
      "  [36 37 38 39 40]]]\n",
      "5- Array: \n",
      "[[[ 1  2  3  4  5]\n",
      "  [ 6  7  8  9 10]\n",
      "  [21 22 23 24 25]\n",
      "  [26 27 28 29 30]]\n",
      "\n",
      " [[11 12 13 14 15]\n",
      "  [16 17 18 19 20]\n",
      "  [31 32 33 34 35]\n",
      "  [36 37 38 39 40]]]\n"
     ]
    }
   ],
   "source": [
    "a = np.array([[[1, 2, 3, 4, 5], \n",
    "               [6, 7, 8, 9, 10]],\n",
    "\n",
    "              [[11, 12, 13, 14, 15], \n",
    "               [16, 17, 18, 19, 20]]])\n",
    "\n",
    "b = np.array([[[21, 22, 23, 24, 25], \n",
    "               [26, 27, 28, 29, 30]], \n",
    "\n",
    "              [[31, 32, 33, 34, 35], \n",
    "               [36, 37, 38, 39, 40]]])\n",
    "\n",
    "c = np.concatenate((a, b), axis=0) # defauld axis = 0 = -1\n",
    "print(f\"4- Array: \\n{c}\")\n",
    "\n",
    "c = np.concatenate((a, b), axis=1) # axis 1 = -2\n",
    "print(f\"5- Array: \\n{c}\")"
   ]
  },
  {
   "cell_type": "code",
   "execution_count": 9,
   "id": "86be2ce7",
   "metadata": {},
   "outputs": [
    {
     "name": "stdout",
     "output_type": "stream",
     "text": [
      "6- Array: \n",
      "[[1 2 3 4]\n",
      " [5 6 7 8]]\n",
      "7- Array: \n",
      "[[1 5]\n",
      " [2 6]\n",
      " [3 7]\n",
      " [4 8]]\n"
     ]
    }
   ],
   "source": [
    "# Joining Arrays Using stack Functions\n",
    "a = np.array([1, 2, 3, 4])\n",
    "b = np.array([5, 6, 7, 8])\n",
    "\n",
    "c = np.stack((a, b)) # a and b they have 2 dimansion beyt default axis=0 = -1\n",
    "print(f\"6- Array: \\n{c}\")\n",
    "\n",
    "c = np.stack((a, b), axis=1) # axis =1 = -2\n",
    "print(f\"7- Array: \\n{c}\")"
   ]
  },
  {
   "cell_type": "code",
   "execution_count": 10,
   "id": "7167527e",
   "metadata": {},
   "outputs": [
    {
     "name": "stdout",
     "output_type": "stream",
     "text": [
      "8- Array: \n",
      "[[[ 1  2  3  4]\n",
      "  [ 5  6  7  8]]\n",
      "\n",
      " [[ 9 10 11 12]\n",
      "  [13 14 15 16]]]\n",
      "9- Array: \n",
      "[[[ 1  2  3  4]\n",
      "  [ 9 10 11 12]]\n",
      "\n",
      " [[ 5  6  7  8]\n",
      "  [13 14 15 16]]]\n"
     ]
    }
   ],
   "source": [
    "a = np.array([[1, 2, 3, 4], \n",
    "              [5, 6, 7, 8]])\n",
    "\n",
    "b = np.array([[9, 10, 11, 12], \n",
    "              [13, 14, 15, 16]])\n",
    "\n",
    "c = np.stack((a, b), axis=0)\n",
    "print(f\"8- Array: \\n{c}\")\n",
    "\n",
    "c = np.stack((a, b), axis=1)\n",
    "print(f\"9- Array: \\n{c}\")"
   ]
  },
  {
   "cell_type": "code",
   "execution_count": 12,
   "id": "ea6dac1d",
   "metadata": {},
   "outputs": [
    {
     "name": "stdout",
     "output_type": "stream",
     "text": [
      "10- Array: \n",
      "[[[[ 1  2  3  4  5]\n",
      "   [ 6  7  8  9 10]]\n",
      "\n",
      "  [[11 12 13 14 15]\n",
      "   [16 17 18 19 20]]]\n",
      "\n",
      "\n",
      " [[[21 22 23 24 25]\n",
      "   [26 27 28 29 30]]\n",
      "\n",
      "  [[31 32 33 34 35]\n",
      "   [36 37 38 39 40]]]]\n",
      "11- Array: \n",
      "[[[[ 1  2  3  4  5]\n",
      "   [ 6  7  8  9 10]]\n",
      "\n",
      "  [[21 22 23 24 25]\n",
      "   [26 27 28 29 30]]]\n",
      "\n",
      "\n",
      " [[[11 12 13 14 15]\n",
      "   [16 17 18 19 20]]\n",
      "\n",
      "  [[31 32 33 34 35]\n",
      "   [36 37 38 39 40]]]]\n"
     ]
    }
   ],
   "source": [
    "a = np.array([[[1, 2, 3, 4, 5], \n",
    "               [6, 7, 8, 9, 10]],\n",
    "\n",
    "              [[11, 12, 13, 14, 15], \n",
    "               [16, 17, 18, 19, 20]]])\n",
    "\n",
    "b = np.array([[[21, 22, 23, 24, 25], \n",
    "               [26, 27, 28, 29, 30]], \n",
    "\n",
    "              [[31, 32, 33, 34, 35], \n",
    "               [36, 37, 38, 39, 40]]])\n",
    "\n",
    "c = np.stack((a, b), axis=0)\n",
    "print(f\"10- Array: \\n{c}\")\n",
    "\n",
    "c = np.stack((a, b), axis=1)\n",
    "print(f\"11- Array: \\n{c}\")"
   ]
  },
  {
   "cell_type": "code",
   "execution_count": 14,
   "id": "c764a61b",
   "metadata": {},
   "outputs": [
    {
     "name": "stdout",
     "output_type": "stream",
     "text": [
      "12- Array: \n",
      "[[[ 1  2  3  4  5]\n",
      "  [ 6  7  8  9 10]\n",
      "  [21 22 23 24 25]\n",
      "  [26 27 28 29 30]]\n",
      "\n",
      " [[11 12 13 14 15]\n",
      "  [16 17 18 19 20]\n",
      "  [31 32 33 34 35]\n",
      "  [36 37 38 39 40]]]\n",
      "13- Array: \n",
      "[[[ 1  2  3  4  5]\n",
      "  [ 6  7  8  9 10]]\n",
      "\n",
      " [[11 12 13 14 15]\n",
      "  [16 17 18 19 20]]\n",
      "\n",
      " [[21 22 23 24 25]\n",
      "  [26 27 28 29 30]]\n",
      "\n",
      " [[31 32 33 34 35]\n",
      "  [36 37 38 39 40]]]\n",
      "14- Array: \n",
      "[[[ 1  2  3  4  5 21 22 23 24 25]\n",
      "  [ 6  7  8  9 10 26 27 28 29 30]]\n",
      "\n",
      " [[11 12 13 14 15 31 32 33 34 35]\n",
      "  [16 17 18 19 20 36 37 38 39 40]]]\n",
      "15- Array: \n",
      "[1 2 3 4 5 6 7 8]\n",
      "16- Array: \n",
      "[[1 2 3 4]\n",
      " [5 6 7 8]]\n",
      "17- Array: \n",
      "[[[1 5]\n",
      "  [2 6]\n",
      "  [3 7]\n",
      "  [4 8]]]\n"
     ]
    }
   ],
   "source": [
    "# Joining Arrays Using hstack - vstack - dstack Functions\n",
    "a = np.array([[[1, 2, 3, 4, 5], \n",
    "               [6, 7, 8, 9, 10]],\n",
    "\n",
    "              [[11, 12, 13, 14, 15], \n",
    "               [16, 17, 18, 19, 20]]])\n",
    "\n",
    "b = np.array([[[21, 22, 23, 24, 25], \n",
    "               [26, 27, 28, 29, 30]], \n",
    "\n",
    "              [[31, 32, 33, 34, 35], \n",
    "               [36, 37, 38, 39, 40]]])\n",
    "\n",
    "c = np.hstack((a, b)) # hstack == concatenate with axis=1\n",
    "print(f\"12- Array: \\n{c}\")\n",
    "\n",
    "c = np.vstack((a, b)) # hstack == concatenate with axis=0\n",
    "print(f\"13- Array: \\n{c}\")\n",
    "\n",
    "c = np.dstack((a, b))\n",
    "print(f\"14- Array: \\n{c}\")\n",
    "\n",
    "\n",
    "a = np.array([1, 2, 3, 4])\n",
    "b = np.array([5, 6, 7, 8])\n",
    "\n",
    "c = np.hstack((a, b)) # hstack == concatenate with axis=1\n",
    "print(f\"15- Array: \\n{c}\")\n",
    "\n",
    "c = np.vstack((a, b)) # hstack == concatenate with axis=0\n",
    "print(f\"16- Array: \\n{c}\")\n",
    "\n",
    "c = np.dstack((a, b))\n",
    "print(f\"17- Array: \\n{c}\")"
   ]
  },
  {
   "cell_type": "markdown",
   "id": "bffd553d",
   "metadata": {},
   "source": [
    "## NumPy Splitting Array"
   ]
  },
  {
   "cell_type": "code",
   "execution_count": 24,
   "id": "300f575d",
   "metadata": {},
   "outputs": [
    {
     "name": "stdout",
     "output_type": "stream",
     "text": [
      "Array: \n",
      "[ 1  2  3  4  5  6  7  8  9 10 11 12 13 14 15]\n",
      "1- Array: [array([1, 2, 3]), array([4, 5, 6]), array([7, 8, 9]), array([10, 11, 12]), array([13, 14, 15])]\n",
      "2- Array: [array([1, 2, 3, 4, 5]), array([ 6,  7,  8,  9, 10]), array([11, 12, 13, 14, 15])]\n",
      "3- Array: [array([1, 2, 3, 4]), array([5, 6, 7, 8]), array([ 9, 10, 11, 12]), array([13, 14, 15])]\n",
      "4- Array: [array([1, 2, 3, 4, 5, 6, 7, 8]), array([ 9, 10, 11, 12, 13, 14, 15])]\n",
      "5- Array: [array([1, 2, 3]), array([4, 5, 6]), array([7, 8, 9]), array([10, 11]), array([12, 13]), array([14, 15])]\n",
      "Array: \n",
      "[[ 1  2  3]\n",
      " [ 4  5  6]\n",
      " [ 7  8  9]\n",
      " [10 11 12]\n",
      " [13 14 15]\n",
      " [16 17 18]]\n",
      "1- Array: [array([[1, 2, 3]]), array([[4, 5, 6]]), array([[7, 8, 9]]), array([[10, 11, 12]]), array([[13, 14, 15]]), array([[16, 17, 18]])]\n",
      "2- Array: [array([[1, 2, 3],\n",
      "       [4, 5, 6]]), array([[7, 8, 9]]), array([[10, 11, 12]]), array([[13, 14, 15]]), array([[16, 17, 18]])]\n",
      "3- Array: [array([[1, 2, 3],\n",
      "       [4, 5, 6]]), array([[ 7,  8,  9],\n",
      "       [10, 11, 12]]), array([[13, 14, 15],\n",
      "       [16, 17, 18]])]\n",
      "4- Array: [array([[ 1],\n",
      "       [ 4],\n",
      "       [ 7],\n",
      "       [10],\n",
      "       [13],\n",
      "       [16]]), array([[ 2],\n",
      "       [ 5],\n",
      "       [ 8],\n",
      "       [11],\n",
      "       [14],\n",
      "       [17]]), array([[ 3],\n",
      "       [ 6],\n",
      "       [ 9],\n",
      "       [12],\n",
      "       [15],\n",
      "       [18]])]\n",
      "5- Array: [array([[ 1],\n",
      "       [ 4],\n",
      "       [ 7],\n",
      "       [10],\n",
      "       [13],\n",
      "       [16]]), array([[ 2],\n",
      "       [ 5],\n",
      "       [ 8],\n",
      "       [11],\n",
      "       [14],\n",
      "       [17]]), array([[ 3],\n",
      "       [ 6],\n",
      "       [ 9],\n",
      "       [12],\n",
      "       [15],\n",
      "       [18]])]\n",
      "6- Array: [array([[1, 2, 3],\n",
      "       [4, 5, 6]]), array([[ 7,  8,  9],\n",
      "       [10, 11, 12]]), array([[13, 14, 15],\n",
      "       [16, 17, 18]])]\n"
     ]
    }
   ],
   "source": [
    "arr = np.array([1, 2, 3, 4, 5, 6, 7, 8, 9, 10, 11, 12, 13, 14, 15])\n",
    "print(f'Array: \\n{arr}')\n",
    "\n",
    "print(f\"1- Array: {np.array_split(arr, 5)}\")\n",
    "print(f\"2- Array: {np.array_split(arr, 3)}\")\n",
    "print(f\"3- Array: {np.array_split(arr, 4)}\")\n",
    "print(f\"4- Array: {np.array_split(arr, 2)}\")\n",
    "print(f\"5- Array: {np.array_split(arr, 6)}\")\n",
    "\n",
    "\n",
    "arr = np.array([[1, 2, 3], [4, 5, 6], [7, 8, 9], [10, 11, 12], [13, 14, 15], [16, 17, 18]])\n",
    "print(f\"Array: \\n{arr}\")\n",
    "\n",
    "print(f\"1- Array: {np.array_split(arr, 6)}\")\n",
    "print(f\"2- Array: {np.array_split(arr, 5)}\")\n",
    "print(f\"3- Array: {np.array_split(arr, 3, axis=0)}\")\n",
    "print(f\"4- Array: {np.array_split(arr, 3, axis=1)}\")\n",
    "print(f\"5- Array: {np.hsplit(arr, 3)}\")\n",
    "print(f\"6- Array: {np.vsplit(arr, 3)}\")"
   ]
  },
  {
   "cell_type": "markdown",
   "id": "2aff95dc",
   "metadata": {},
   "source": [
    "## NumPy Searching Arrays"
   ]
  },
  {
   "cell_type": "code",
   "execution_count": 20,
   "id": "73cf994e",
   "metadata": {},
   "outputs": [
    {
     "name": "stdout",
     "output_type": "stream",
     "text": [
      "1- (array([5]),)\n",
      "2- (array([4]),)\n",
      "3- (array([0, 2, 4, 6, 8]),)\n",
      "4- (array([1, 3, 5, 7, 9]),)\n",
      "5- (array([0, 1, 2, 3, 4, 6, 7, 8, 9]),)\n",
      "6- (array([6, 7, 8, 9]),)\n",
      "1- (array([1]), array([2]))\n",
      "2- (array([1]), array([1]))\n",
      "3- (array([0, 0, 1, 2, 2]), array([0, 2, 1, 0, 2]))\n",
      "4- (array([0, 1, 1, 2]), array([1, 0, 2, 1]))\n",
      "5- (array([0, 0, 0, 1, 1, 2, 2, 2]), array([0, 1, 2, 0, 1, 0, 1, 2]))\n",
      "6- (array([2, 2, 2]), array([0, 1, 2]))\n"
     ]
    }
   ],
   "source": [
    "arr = np.array([0, 1, 2, 3, 4, 5, 6, 7, 8, 9])\n",
    "\n",
    "print(f\"1- {np.where(arr == 5)}\")\n",
    "print(f\"2- {np.where(arr == 4)}\")\n",
    "print(f\"3- {np.where(arr % 2 == 0)}\")\n",
    "print(f\"4- {np.where(arr % 2 != 0)}\")\n",
    "print(f\"5- {np.where(arr != 5)}\")\n",
    "print(f\"6- {np.where(arr > 5)}\")\n",
    "\n",
    "\n",
    "arr = np.array([[0, 1, 2], [3, 4, 5], [6, 7, 8]])\n",
    "\n",
    "print(f\"1- {np.where(arr == 5)}\")\n",
    "print(f\"2- {np.where(arr == 4)}\")\n",
    "print(f\"3- {np.where(arr % 2 == 0)}\")\n",
    "print(f\"4- {np.where(arr % 2 != 0)}\")\n",
    "print(f\"5- {np.where(arr != 5)}\")\n",
    "print(f\"6- {np.where(arr > 5)}\")\n"
   ]
  },
  {
   "cell_type": "code",
   "execution_count": 21,
   "id": "897910e1",
   "metadata": {},
   "outputs": [
    {
     "name": "stdout",
     "output_type": "stream",
     "text": [
      "1- 2\n",
      "2- 4\n",
      "3- 4\n",
      "4- [0 1 3]\n",
      "1- 0\n",
      "2- 2\n",
      "3- [0 2 3]\n"
     ]
    }
   ],
   "source": [
    "arr = np.array([1, 2, 3, 4, 5, 5])\n",
    "\n",
    "print(f\"1- {np.searchsorted(arr, 3)}\")\n",
    "print(f\"2- {np.searchsorted(arr, 4, side='rigth')}\")\n",
    "print(f\"3- {np.searchsorted(arr, 5)}\")\n",
    "print(f\"4- {np.searchsorted(arr, [1, 2, 4])}\")\n",
    "\n",
    "arr = np.array([2, 1, 3, 5])\n",
    "\n",
    "print(f\"1- {np.searchsorted(arr, 1)}\")\n",
    "print(f\"2- {np.searchsorted(arr, 2)}\")\n",
    "print(f\"3- {np.searchsorted(arr, [1, 2, 5])}\")"
   ]
  },
  {
   "cell_type": "markdown",
   "id": "a8d37fb0",
   "metadata": {},
   "source": [
    "## NumPy Sorting Arrays"
   ]
  },
  {
   "cell_type": "code",
   "execution_count": 23,
   "id": "6f71f4f8",
   "metadata": {},
   "outputs": [
    {
     "name": "stdout",
     "output_type": "stream",
     "text": [
      "[1 2 3 4 5]\n",
      "[4 1 5 2 3]\n",
      "None\n",
      "[False False  True  True]\n",
      "['C' 'Java' 'Python' 'SQL']\n"
     ]
    }
   ],
   "source": [
    "arr = np.array([4, 1, 5, 2, 3])\n",
    "\n",
    "print(np.sort(arr))\n",
    "print(arr)\n",
    "print(np.sort(arr).base)\n",
    "\n",
    "arr = np.array([True, False, True, False])\n",
    "print(np.sort(arr))\n",
    "\n",
    "arr = np.array(['Python', 'C', 'Java', 'SQL'])\n",
    "print(np.sort(arr))"
   ]
  },
  {
   "cell_type": "markdown",
   "id": "9cf94de8",
   "metadata": {},
   "source": [
    "## NumPy Filter Array"
   ]
  },
  {
   "cell_type": "code",
   "execution_count": null,
   "id": "95e4c048",
   "metadata": {},
   "outputs": [],
   "source": [
    "# 1- \n",
    "arr = np.array([1, 2, 3, 4, 5])\n",
    "\n",
    "filter = [True, False, False, True, True]\n",
    "new_arr = arr[filter]\n",
    "print(new_arr)\n"
   ]
  },
  {
   "cell_type": "code",
   "execution_count": 27,
   "id": "ca2fb9fe",
   "metadata": {},
   "outputs": [
    {
     "name": "stdout",
     "output_type": "stream",
     "text": [
      "[ 2  4  6  8 10]\n",
      "[1 3 5 7 9]\n"
     ]
    }
   ],
   "source": [
    "# 2- Creating the Filter Array\n",
    "\n",
    "arr = np.array([1, 2, 3, 4, 5, 6, 7, 8, 9, 10])\n",
    "\n",
    "filter = []\n",
    "\n",
    "for i in arr:\n",
    "    if i % 2 == 0:\n",
    "        filter.append(True)\n",
    "    else:\n",
    "        filter.append(False)\n",
    "\n",
    "new_arr = arr[filter]\n",
    "print(new_arr)\n",
    "\n",
    "\n",
    "filter = []\n",
    "\n",
    "for i in arr:\n",
    "    if i % 2 != 0:\n",
    "        filter.append(True)\n",
    "    else:\n",
    "        filter.append(False)\n",
    "\n",
    "new_arr = arr[filter]\n",
    "print(new_arr)\n"
   ]
  },
  {
   "cell_type": "code",
   "execution_count": 29,
   "id": "fefcb20f",
   "metadata": {},
   "outputs": [
    {
     "name": "stdout",
     "output_type": "stream",
     "text": [
      "[ 2  4  6  8 10]\n",
      "[ 6  7  8  9 10]\n",
      "[1 2 3 4]\n"
     ]
    }
   ],
   "source": [
    "# 3- Creating Filter Directly From Array\n",
    "new_arr = arr[arr % 2 == 0]\n",
    "print(new_arr)\n",
    "\n",
    "new_arr = arr[arr > 5]\n",
    "print(new_arr)\n",
    "\n",
    "new_arr = arr[arr < 5]\n",
    "print(new_arr)"
   ]
  },
  {
   "cell_type": "markdown",
   "id": "7237190a",
   "metadata": {},
   "source": [
    "## Some different things !!"
   ]
  },
  {
   "cell_type": "code",
   "execution_count": 2,
   "id": "a05bfbf0",
   "metadata": {},
   "outputs": [
    {
     "name": "stdout",
     "output_type": "stream",
     "text": [
      "[1 2 3 4 5]\n",
      "2\n",
      "5\n",
      "10\n",
      "10\n",
      "[[[1 2]\n",
      "  [3 4]]\n",
      "\n",
      " [[5 6]\n",
      "  [7 8]]]\n",
      "1\n",
      "[[[0 2]\n",
      "  [3 4]]\n",
      "\n",
      " [[5 6]\n",
      "  [7 8]]]\n",
      "[[[0 2]\n",
      "  [8 8]]\n",
      "\n",
      " [[5 6]\n",
      "  [9 9]]]\n",
      "[[0. 0. 0. 0. 0.]\n",
      " [0. 0. 0. 0. 0.]]\n",
      "[[1. 1. 1. 1. 1.]\n",
      " [1. 1. 1. 1. 1.]]\n",
      "[[95 95 95 95 95]\n",
      " [95 95 95 95 95]]\n",
      "[[[95 95]\n",
      "  [95 95]]\n",
      "\n",
      " [[95 95]\n",
      "  [95 95]]]\n",
      "[[[77 77]\n",
      "  [77 77]]\n",
      "\n",
      " [[77 77]\n",
      "  [77 77]]]\n",
      "[[[0.08536058 0.900779  ]\n",
      "  [0.49812708 0.64803173]]\n",
      "\n",
      " [[0.99073712 0.84184492]\n",
      "  [0.93368566 0.18321817]]]\n",
      "[[1. 0. 0. 0. 0.]\n",
      " [0. 1. 0. 0. 0.]\n",
      " [0. 0. 1. 0. 0.]\n",
      " [0. 0. 0. 1. 0.]\n",
      " [0. 0. 0. 0. 1.]]\n",
      "[[[0 2]\n",
      "  [8 8]]\n",
      "\n",
      " [[0 2]\n",
      "  [8 8]]\n",
      "\n",
      " [[0 2]\n",
      "  [8 8]]\n",
      "\n",
      " [[5 6]\n",
      "  [9 9]]\n",
      "\n",
      " [[5 6]\n",
      "  [9 9]]\n",
      "\n",
      " [[5 6]\n",
      "  [9 9]]]\n",
      "[3 4 5 6 7]\n",
      "[-1  0  1  2  3]\n",
      "[0.5 1.  1.5 2.  2.5]\n",
      "[ 2  4  6  8 10]\n",
      "[ 6  8 10 12]\n",
      "[-4 -4 -4 -4]\n",
      "[ 5 12 21 32]\n",
      "[0.2        0.33333333 0.42857143 0.5       ]\n",
      "[    1    64  2187 65536]\n",
      "1\n",
      "5\n",
      "[False False  True  True  True]\n",
      "[False  True False  True False]\n",
      "[[[1 2 9]\n",
      "  [3 4 9]]\n",
      "\n",
      " [[5 6 7]\n",
      "  [8 7 8]]]\n",
      "[[False False  True]\n",
      " [ True  True  True]]\n",
      "[[False False  True]\n",
      " [False  True  True]]\n",
      "[[[False False False]\n",
      "  [False False False]]\n",
      "\n",
      " [[ True  True  True]\n",
      "  [ True  True  True]]]\n"
     ]
    }
   ],
   "source": [
    "a = np.array([1, 2, 3, 4, 5], dtype='int16')\n",
    "\n",
    "print(a)\n",
    "\n",
    "print(a.itemsize) # 2byte > int16: 1byte = 8bet\n",
    "\n",
    "print(a.size) # Nembers of items array\n",
    "\n",
    "print(a.itemsize * a.size) # Totl Size of bytes\n",
    "\n",
    "print(a.nbytes) # Total Size of bytes\n",
    "\n",
    "\n",
    "\n",
    "b = np.array([[[1, 2], [3, 4]], [[5, 6], [7, 8]]])\n",
    "print(b)\n",
    "\n",
    "print(b[0, 0, 0])\n",
    "b[0, 0, 0] = 0\n",
    "print(b)\n",
    "\n",
    "b[:, 1, :] = [[8,8], [9,9]]\n",
    "print(b)\n",
    "\n",
    "z = np.zeros((2, 5))\n",
    "print(z)\n",
    "\n",
    "o = np.ones((2, 5))\n",
    "print(o)\n",
    "\n",
    "f = np.full((2, 5), 95)\n",
    "print(f)\n",
    "\n",
    "f = np.full(b.shape, 95)\n",
    "print(f)\n",
    "\n",
    "fl = np.full_like(b, 77)\n",
    "print(fl)\n",
    "\n",
    "r = np.random.random_sample(b.shape)\n",
    "print(r)\n",
    "\n",
    "i = np.identity(5)\n",
    "print(i)\n",
    "\n",
    "r = np.repeat(b, 3, axis=0)\n",
    "print(r)\n",
    "\n",
    "a = np.array([1, 2, 3, 4, 5])\n",
    "print(a + 2) # a += 2\n",
    "print(a - 2) # a -= 2\n",
    "print(a / 2) # a /= 2\n",
    "print(a * 2) # a *= 2\n",
    "\n",
    "a = np.array([1, 2, 3, 4])\n",
    "b = np.array([5, 6, 7, 8])\n",
    "print(a + b)\n",
    "print(a - b)\n",
    "print(a * b)\n",
    "print(a / b)\n",
    "print(a ** b)\n",
    "\n",
    "a = np.array([1, 2, 3, 4, 5])\n",
    "print(np.min(a)) # axis=(0,1,-1,-2) in array > 1 dimantion\n",
    "print(np.max(a)) # axis=(0,1,-1,-2) in array > 1 dimantion\n",
    "\n",
    "print(a > 2)\n",
    "print(a%2 == 0)\n",
    "\n",
    "\n",
    "b = np.array([[[1, 2, 9], [3, 4, 9]], [[5, 6, 7], [8, 7, 8]]])\n",
    "print(b)\n",
    "\n",
    "print(np.any(b > 5, axis=1))\n",
    "print(np.all(b > 5, axis=1))\n",
    "print((b >= 5) & (b < 9)) # ~((b >= 5) & (b < 9))\n",
    "\n",
    "\n",
    "\n",
    "## read data from file\n",
    "## text = np.genfromtext('path.extation', delimiter=',')\n",
    "## cv = np.loadtext('path.extaion', dtype='O', delimiter=',', unpack=True, skiprows=1)\n"
   ]
  },
  {
   "cell_type": "markdown",
   "id": "5710b678",
   "metadata": {},
   "source": [
    "# 2- Random Data Sets"
   ]
  },
  {
   "cell_type": "markdown",
   "id": "f2d1770c",
   "metadata": {},
   "source": [
    "## Random Numbers in NumPy"
   ]
  },
  {
   "cell_type": "code",
   "execution_count": 2,
   "id": "159f8eb0",
   "metadata": {},
   "outputs": [
    {
     "name": "stdout",
     "output_type": "stream",
     "text": [
      "1- Random Number: 0.4425581162085721\n",
      "2- Random Number: 2\n",
      "3- Random Number: 2\n"
     ]
    }
   ],
   "source": [
    "## 1- Create Random Number\n",
    "\n",
    "# 1- Random Number Between 0 and 1\n",
    "arr = np.random.rand()\n",
    "print(f\"1- Random Number: {arr}\")\n",
    "\n",
    "# 2- Random Number Between 0 and any Number\n",
    "arr = np.random.randint(10)\n",
    "print(f\"2- Random Number: {arr}\")\n",
    "\n",
    "# 3- Choice Random Number from list, tuple,...\n",
    "arr = np.random.choice([1, 2, 3, 4, 5])\n",
    "print(f\"3- Random Number: {arr}\")"
   ]
  },
  {
   "cell_type": "code",
   "execution_count": 3,
   "id": "ad51b3a6",
   "metadata": {},
   "outputs": [
    {
     "name": "stdout",
     "output_type": "stream",
     "text": [
      "1- Array: [0.87807769 0.41469996 0.48670259 0.05422561 0.75045076]\n",
      "2- Array: [[0.66063851 0.72000296 0.82022833 0.27787334 0.35043628]\n",
      " [0.51516601 0.67401115 0.95693337 0.58650524 0.05241093]]\n",
      "3- Array: [1 7 4 6 9]\n",
      "4- Array: [[82 96 79 32 70]\n",
      " [21 22 70  2 41]]\n",
      "5- Array: [ 9  2 10 10  2]\n",
      "6- Array: [[760 628 416  49 925]\n",
      " [628 459 760 282 452]]\n"
     ]
    }
   ],
   "source": [
    "## 2- Crate Array \n",
    "\n",
    "# 1- \n",
    "arr = np.random.rand(5)\n",
    "print(f\"1- Array: {arr}\")\n",
    "\n",
    "arr = np.random.rand(2, 5)\n",
    "print(f\"2- Array: {arr}\")\n",
    "\n",
    "# 2- \n",
    "arr = np.random.randint(10, size=5)\n",
    "print(f\"3- Array: {arr}\")\n",
    "\n",
    "arr = np.random.randint(100, size=(2, 5))\n",
    "print(f\"4- Array: {arr}\")\n",
    "\n",
    "# 3- \n",
    "arr = np.random.choice([1, 2, 3, 4, 5, 6, 7, 8, 9, 10], size=5)\n",
    "print(f\"5- Array: {arr}\")\n",
    "\n",
    "arr = np.random.choice(np.random.randint(1000, size=100), size=(2, 5))\n",
    "print(f\"6- Array: {arr}\")"
   ]
  },
  {
   "cell_type": "markdown",
   "id": "e6d336c3",
   "metadata": {},
   "source": [
    "## Random Data Distribution"
   ]
  },
  {
   "cell_type": "code",
   "execution_count": 6,
   "id": "e1ad645a",
   "metadata": {},
   "outputs": [
    {
     "name": "stdout",
     "output_type": "stream",
     "text": [
      "Array: [2 1 1 4 5 4 1 1 1 5 4 2 1 5 1 1 1 4 4 1 5 5 5 5 2 5 5 5 1 1 1 2 4 1 2 2 4\n",
      " 1 2 1 5 5 2 1 1 2 4 2 1 5 2 1 2 1 5 4 4 1 1 5 2 1 5 1 1 1 1 1 2 5 1 1 1 1\n",
      " 1 1 2 2 1 1 4 2 1 2 2 5 5 1 4 1 2 5 1 2 4 1 4 1 4 1]\n"
     ]
    }
   ],
   "source": [
    "arr = np.random.choice([1, 2, 3, 4, 5], p=[0.4, 0.2, 0.0, 0.2, 0.2], size=100)\n",
    "\n",
    "print(f\"Array: {arr}\")"
   ]
  },
  {
   "cell_type": "markdown",
   "id": "1e0de930",
   "metadata": {},
   "source": [
    "## Random Permutations"
   ]
  },
  {
   "cell_type": "code",
   "execution_count": 7,
   "id": "7dc3bbf3",
   "metadata": {},
   "outputs": [
    {
     "name": "stdout",
     "output_type": "stream",
     "text": [
      "shuffle: None\n",
      "Array: [3 4 2 5 1]\n",
      "permutation: [3 5 4 2 1]\n",
      "Array: [1 2 3 4 5]\n"
     ]
    }
   ],
   "source": [
    "import numpy as np\n",
    "\n",
    "## 1- Shuffle\n",
    "arr = np.array([1, 2, 3, 4, 5])\n",
    "\n",
    "print(f\"shuffle: {np.random.shuffle(arr)}\")\n",
    "print(f\"Array: {arr}\")\n",
    "\n",
    "## 2- permutation\n",
    "arr = np.array([1, 2, 3, 4, 5])\n",
    "\n",
    "print(f\"permutation: {np.random.permutation(arr)}\")\n",
    "print(f\"Array: {arr}\")"
   ]
  },
  {
   "cell_type": "markdown",
   "id": "8b38f5b1",
   "metadata": {},
   "source": [
    "## Normal (Gaussian) Distribution"
   ]
  },
  {
   "cell_type": "code",
   "execution_count": 18,
   "id": "79b74526",
   "metadata": {},
   "outputs": [
    {
     "name": "stdout",
     "output_type": "stream",
     "text": [
      "[-0.25760859  0.82218558  0.08698598  0.08361018 -0.75532692  0.14274386\n",
      "  0.45048303 -0.00489822 -1.69069072  1.50453058 -0.98173971  1.4130213\n",
      " -1.06946635 -0.57486004  0.89228367 -0.09334229 -0.19421978  0.34798129\n",
      "  0.04013674  0.71946477  0.70466404 -1.23072278  0.38520578 -0.8619556\n",
      " -2.3868373   1.32355822  0.86765024 -0.74404105 -0.67737508 -0.38259313\n",
      "  1.45006054  1.21237816 -2.69462426  0.49425784 -1.20323536  0.41785056\n",
      " -0.49865327  2.17470096  0.78262013  1.38283589 -1.48490543 -0.06326692\n",
      "  1.0091796  -1.95951595 -0.84890546  0.19981649 -0.77092189 -1.22979347\n",
      "  1.88548556 -0.51650901  0.24540033 -0.0106949  -0.65608525 -0.52810439\n",
      "  0.3902728   2.02370834 -0.16299004 -0.18908335  1.25992073 -0.70293281\n",
      " -0.42603667 -0.53051755  0.25561089  0.53456417 -0.51132844 -0.17985147\n",
      "  1.62263681 -1.27550069  0.52193977 -1.44236916 -0.27745435  0.34802244\n",
      "  0.40166329 -0.56666513  0.21666749 -0.41348037  0.1413823  -1.45358912\n",
      " -1.53695646 -1.67574721 -0.51146711 -0.30563989  2.62293506 -0.71001483\n",
      "  0.91849354  0.02109376  1.48903139 -0.07184375 -0.2763039   0.68904139\n",
      "  0.89668106  1.54876282 -0.30698733  2.59319429 -0.15867931  0.26651855\n",
      "  1.07823641  0.63284033 -2.3082251   1.57114079]\n"
     ]
    },
    {
     "name": "stderr",
     "output_type": "stream",
     "text": [
      "/home/blackheart/.local/lib/python3.10/site-packages/seaborn/distributions.py:2619: FutureWarning: `distplot` is a deprecated function and will be removed in a future version. Please adapt your code to use either `displot` (a figure-level function with similar flexibility) or `kdeplot` (an axes-level function for kernel density plots).\n",
      "  warnings.warn(msg, FutureWarning)\n"
     ]
    },
    {
     "data": {
      "image/png": "[encoded data removed]",
      "text/plain": [
       "<Figure size 432x288 with 1 Axes>"
      ]
     },
     "metadata": {
      "needs_background": "light"
     },
     "output_type": "display_data"
    }
   ],
   "source": [
    "normal = np.random.normal(loc=0, scale=1, size=100)\n",
    "print(normal)\n",
    "\n",
    "# Visualization of Normal Distribution\n",
    "normal = np.random.normal(size=1000)\n",
    "\n",
    "sns.distplot(normal, hist=False)\n",
    "plt.show()"
   ]
  },
  {
   "cell_type": "markdown",
   "id": "d6483502",
   "metadata": {},
   "source": [
    "## Binomial Distribution"
   ]
  },
  {
   "cell_type": "code",
   "execution_count": 15,
   "id": "c3133c07",
   "metadata": {},
   "outputs": [
    {
     "name": "stdout",
     "output_type": "stream",
     "text": [
      "[51 54 46 48 42 61 55 46 53 60]\n"
     ]
    },
    {
     "data": {
      "image/png": "[encoded data removed]",
      "text/plain": [
       "<Figure size 432x288 with 1 Axes>"
      ]
     },
     "metadata": {
      "needs_background": "light"
     },
     "output_type": "display_data"
    }
   ],
   "source": [
    "binomial = np.random.binomial(n=100, p=0.5, size=10)\n",
    "print(binomial)\n",
    "\n",
    "# Visualization of Binomial Distribution\n",
    "binomial = np.random.binomial(n=10000, p=0.5, size=1000)\n",
    "\n",
    "sns.distplot(binomial, kde=False)\n",
    "plt.show()"
   ]
  },
  {
   "cell_type": "markdown",
   "id": "fe776ae2",
   "metadata": {},
   "source": [
    "## Poisson Distribution"
   ]
  },
  {
   "cell_type": "code",
   "execution_count": 19,
   "id": "db3d4f16",
   "metadata": {},
   "outputs": [
    {
     "name": "stdout",
     "output_type": "stream",
     "text": [
      "[1 4 0 1 2 3 3 1 2 3]\n"
     ]
    },
    {
     "name": "stderr",
     "output_type": "stream",
     "text": [
      "/home/blackheart/.local/lib/python3.10/site-packages/seaborn/distributions.py:2619: FutureWarning: `distplot` is a deprecated function and will be removed in a future version. Please adapt your code to use either `displot` (a figure-level function with similar flexibility) or `kdeplot` (an axes-level function for kernel density plots).\n",
      "  warnings.warn(msg, FutureWarning)\n"
     ]
    },
    {
     "data": {
      "image/png": "[encoded data removed]",
      "text/plain": [
       "<Figure size 432x288 with 1 Axes>"
      ]
     },
     "metadata": {
      "needs_background": "light"
     },
     "output_type": "display_data"
    }
   ],
   "source": [
    "poisson = np.random.poisson(lam=2, size=10)\n",
    "print(poisson)\n",
    "\n",
    "# Visualization of Poisson Distribution\n",
    "\n",
    "poisson = np.random.poisson(lam=2, size=1000)\n",
    "\n",
    "sns.distplot(poisson, hist=False)\n",
    "plt.show()"
   ]
  },
  {
   "cell_type": "markdown",
   "id": "86fd6967",
   "metadata": {},
   "source": [
    "## Uniform Distribution"
   ]
  },
  {
   "cell_type": "code",
   "execution_count": 20,
   "id": "4d4d2ccf",
   "metadata": {},
   "outputs": [
    {
     "name": "stdout",
     "output_type": "stream",
     "text": [
      "[450.4840992   50.32781495 707.82709457 893.30411639 348.50528499\n",
      " 410.63789825 702.72833008 158.68366518 653.49736251 130.89566369\n",
      " 170.39406486 306.42715156 868.79550065 661.16810428 874.37773894\n",
      " 907.61729657 665.27755247 441.29738171 533.52500285 782.47607207\n",
      " 370.14965583 816.50560437 405.08000033 381.21369047 924.62199651\n",
      " 959.93596078 189.66799935 939.18686152 519.26419578 759.52368111\n",
      " 345.71021723 111.02752158  59.67311038 721.74287517 217.62905658\n",
      " 766.65450045 478.04034859 160.73054965   9.04436586 163.58336071\n",
      " 888.01441123 233.72884069 259.71404699 582.19345628 416.19216189\n",
      " 915.37235776 663.80238716 451.6459581  202.11809761 632.95883446\n",
      " 674.81705664 644.98453196 868.26127931 987.97194353  38.52513486\n",
      " 149.6428939  317.39792314 596.65377382 116.86228517 862.79115014\n",
      "  68.53142478 139.53361219 503.69280211 304.18930498 510.28041288\n",
      " 331.12408911  12.78933759 199.01583708 890.88947387 979.44773724\n",
      " 365.06744739 116.53532898 998.1417489    1.13180278 950.37289167\n",
      " 826.29066475 125.43748738 452.62391946 377.96394055 715.15279199\n",
      " 656.17366117 516.90346069 269.05884919 447.19319201 356.16550074\n",
      " 324.23089741 582.52051642 434.05934118 539.54451723 708.7025017\n",
      " 738.00591258 880.12640725 986.52980458 366.51374691 469.6995578\n",
      " 717.70145943 392.83308098   3.33063696 411.17429054 266.50126341]\n"
     ]
    },
    {
     "name": "stderr",
     "output_type": "stream",
     "text": [
      "/home/blackheart/.local/lib/python3.10/site-packages/seaborn/distributions.py:2619: FutureWarning: `distplot` is a deprecated function and will be removed in a future version. Please adapt your code to use either `displot` (a figure-level function with similar flexibility) or `kdeplot` (an axes-level function for kernel density plots).\n",
      "  warnings.warn(msg, FutureWarning)\n"
     ]
    },
    {
     "data": {
      "image/png": "[encoded data removed]",
      "text/plain": [
       "<Figure size 432x288 with 1 Axes>"
      ]
     },
     "metadata": {
      "needs_background": "light"
     },
     "output_type": "display_data"
    }
   ],
   "source": [
    "uniform = np.random.uniform(low=0, high=1000, size=100)\n",
    "print(uniform)\n",
    "\n",
    "# Visualization of Uniform Distribution\n",
    "\n",
    "uniform= np.random.uniform(low=0, high=10000, size=1000)\n",
    "\n",
    "sns.distplot(uniform, hist=False)\n",
    "plt.show()"
   ]
  },
  {
   "cell_type": "markdown",
   "id": "f5ea82e9",
   "metadata": {},
   "source": [
    "## Logistic Distribution"
   ]
  },
  {
   "cell_type": "code",
   "execution_count": 21,
   "id": "dde8e872",
   "metadata": {},
   "outputs": [
    {
     "name": "stdout",
     "output_type": "stream",
     "text": [
      "[ 0.04566556  1.84739475  0.98517835  1.22359107 -1.73746227 -1.2774571\n",
      "  2.22771877  0.07655758 -2.51734601 -1.0746121   1.30892357  1.96910846\n",
      " -0.30003052 -0.72782056  0.32098323  1.0016808   0.1208867  -0.39612643\n",
      "  1.06656102 -1.28065456 -2.03745388  0.32403466  0.43749588  0.90724092\n",
      "  5.69024506 -0.07946306  0.14140625 -0.55982881  0.17871632  0.26826383\n",
      " -0.46548381  1.84649434  3.07333763 -0.5927447   3.08572263 -1.41140632\n",
      " -5.22512077 -2.88365355  0.30804465 -3.56856945 -1.55468397  0.53389883\n",
      " -1.53067157  3.14500355 -0.41270665  0.6118908   0.83904102 -1.32800861\n",
      "  0.73812924  0.847848    2.02392529 -0.30102869 -0.28685574 -0.8883961\n",
      "  2.37111684  0.11802057  1.21351779  0.1411338  -0.07286786  0.82534114\n",
      "  1.59342921  0.4053432  -1.50541649  0.54152313 -0.9236067  -0.4233291\n",
      " -3.13165655 -2.68980477  0.29157542 -0.44530448  1.43661404  0.66456441\n",
      " -1.94943144 -0.1082743   0.02903346  0.30766449 -0.40417402  0.73756126\n",
      "  4.00088575  0.33943168  0.45450457 -1.31791119  0.08552755  0.50012664\n",
      "  0.57265679  0.01076792  0.03662223  0.94663712 -0.3981171  -0.23292766\n",
      " -0.83876038 -3.13258213  0.13465445 -3.31622626 -1.19883734 -0.40772686\n",
      "  0.16848156  1.70803065 -0.87677525  1.13035223]\n"
     ]
    },
    {
     "name": "stderr",
     "output_type": "stream",
     "text": [
      "/home/blackheart/.local/lib/python3.10/site-packages/seaborn/distributions.py:2619: FutureWarning: `distplot` is a deprecated function and will be removed in a future version. Please adapt your code to use either `displot` (a figure-level function with similar flexibility) or `kdeplot` (an axes-level function for kernel density plots).\n",
      "  warnings.warn(msg, FutureWarning)\n"
     ]
    },
    {
     "data": {
      "image/png": "[encoded data removed]",
      "text/plain": [
       "<Figure size 432x288 with 1 Axes>"
      ]
     },
     "metadata": {
      "needs_background": "light"
     },
     "output_type": "display_data"
    }
   ],
   "source": [
    "logistic = np.random.logistic(loc=0, scale=1, size=100)\n",
    "print(logistic)\n",
    "\n",
    "# Visualization of Logistic Distribution\n",
    "\n",
    "logistic = np.random.logistic(loc=0, scale=1, size=1000)\n",
    "\n",
    "sns.distplot(logistic, hist=False)\n",
    "plt.show()"
   ]
  },
  {
   "cell_type": "markdown",
   "id": "08b72110",
   "metadata": {},
   "source": [
    "## Multinomial Distribution"
   ]
  },
  {
   "cell_type": "code",
   "execution_count": 23,
   "id": "67e8d61b",
   "metadata": {},
   "outputs": [
    {
     "name": "stdout",
     "output_type": "stream",
     "text": [
      "[1 0 2 2 1 0]\n"
     ]
    },
    {
     "name": "stderr",
     "output_type": "stream",
     "text": [
      "/home/blackheart/.local/lib/python3.10/site-packages/seaborn/distributions.py:2619: FutureWarning: `distplot` is a deprecated function and will be removed in a future version. Please adapt your code to use either `displot` (a figure-level function with similar flexibility) or `kdeplot` (an axes-level function for kernel density plots).\n",
      "  warnings.warn(msg, FutureWarning)\n"
     ]
    },
    {
     "data": {
      "image/png": "[encoded data removed]",
      "text/plain": [
       "<Figure size 432x288 with 1 Axes>"
      ]
     },
     "metadata": {
      "needs_background": "light"
     },
     "output_type": "display_data"
    }
   ],
   "source": [
    "multinomial = np.random.multinomial(n=6, pvals=[1/6, 1/6, 1/6, 1/6, 1/6, 1/6])\n",
    "print(multinomial)\n",
    "\n",
    "# Visualization of Multinomial Distribution\n",
    "\n",
    "sns.distplot(multinomial, hist=False)\n",
    "plt.show()"
   ]
  },
  {
   "cell_type": "markdown",
   "id": "dcfaa58c",
   "metadata": {},
   "source": [
    "## Exponential Distribution"
   ]
  },
  {
   "cell_type": "code",
   "execution_count": 25,
   "id": "ce3bad02",
   "metadata": {},
   "outputs": [
    {
     "name": "stdout",
     "output_type": "stream",
     "text": [
      "[1.10864586 0.47277534 2.08200296 0.07782071 0.0679595  0.65312495\n",
      " 1.68745125 0.66375609 1.68252015 0.99123543 1.60151812 0.01038025\n",
      " 1.01164452 3.83017124 1.92577297 1.40806131 1.33278839 0.38883173\n",
      " 0.31086552 1.48899482 0.16219599 0.1224066  0.51380638 0.33135699\n",
      " 0.02220235 0.65511952 0.30401882 1.16534128 0.43917757 0.06975018\n",
      " 1.81537599 1.23934716 3.18941742 1.32740112 0.12252809 0.04712919\n",
      " 1.15787468 0.31546995 1.57475174 0.2493505  0.3181965  0.15066606\n",
      " 1.6657307  0.27174362 0.02022337 2.5919089  2.1528817  3.97785025\n",
      " 1.11012937 0.13670939 1.79367659 0.46350838 3.92379109 1.44465542\n",
      " 0.08876248 1.00506113 0.98844049 1.16142142 0.29043296 0.32021872\n",
      " 1.42882953 0.20564416 0.46759147 0.27996969 0.41150349 1.05463853\n",
      " 0.24611817 0.00935556 0.56369624 0.08340769 0.16992708 2.23495533\n",
      " 0.28730102 1.30295097 0.05054201 0.07573765 0.29632653 0.73450591\n",
      " 0.14327461 0.20811625 2.84898741 0.76233544 0.05402754 0.26038156\n",
      " 0.87931362 0.08215949 0.32444825 0.86884598 0.35116283 1.32241958\n",
      " 1.26787086 0.05204955 0.63148463 1.00607839 1.25768664 1.40146924\n",
      " 0.78980427 0.63643414 0.31455861 0.7555404 ]\n"
     ]
    },
    {
     "name": "stderr",
     "output_type": "stream",
     "text": [
      "/home/blackheart/.local/lib/python3.10/site-packages/seaborn/distributions.py:2619: FutureWarning: `distplot` is a deprecated function and will be removed in a future version. Please adapt your code to use either `displot` (a figure-level function with similar flexibility) or `kdeplot` (an axes-level function for kernel density plots).\n",
      "  warnings.warn(msg, FutureWarning)\n"
     ]
    },
    {
     "data": {
      "image/png": "[encoded data removed]",
      "text/plain": [
       "<Figure size 432x288 with 1 Axes>"
      ]
     },
     "metadata": {
      "needs_background": "light"
     },
     "output_type": "display_data"
    }
   ],
   "source": [
    "exponential = np.random.exponential(scale=1, size=100)\n",
    "print(exponential)\n",
    "\n",
    "\n",
    "# Visualization of Exponential Distribution\n",
    "exponential = np.random.exponential(scale=1, size=1000)\n",
    "\n",
    "sns.distplot(exponential, hist=False)\n",
    "plt.show()"
   ]
  },
  {
   "cell_type": "markdown",
   "id": "a6c85bc5",
   "metadata": {},
   "source": [
    "## Chi Square Distribution"
   ]
  },
  {
   "cell_type": "code",
   "execution_count": 26,
   "id": "0e190e0b",
   "metadata": {},
   "outputs": [
    {
     "name": "stdout",
     "output_type": "stream",
     "text": [
      "[2.68003701 3.84969766 2.81217146 0.20879691 2.21424095 2.4634331\n",
      " 0.07178404 2.86352567 1.24804762 1.52164659]\n"
     ]
    },
    {
     "name": "stderr",
     "output_type": "stream",
     "text": [
      "/home/blackheart/.local/lib/python3.10/site-packages/seaborn/distributions.py:2619: FutureWarning: `distplot` is a deprecated function and will be removed in a future version. Please adapt your code to use either `displot` (a figure-level function with similar flexibility) or `kdeplot` (an axes-level function for kernel density plots).\n",
      "  warnings.warn(msg, FutureWarning)\n"
     ]
    },
    {
     "data": {
      "image/png": "[encoded data removed]",
      "text/plain": [
       "<Figure size 432x288 with 1 Axes>"
      ]
     },
     "metadata": {
      "needs_background": "light"
     },
     "output_type": "display_data"
    }
   ],
   "source": [
    "chisquare = np.random.chisquare(df=3, size=10)\n",
    "print(chisquare)\n",
    "\n",
    "# Visualization of Chi Square Distribution\n",
    "chisquare = np.random.chisquare(df=2, size=1000)\n",
    "\n",
    "sns.distplot(chisquare, hist=False)\n",
    "plt.show()"
   ]
  },
  {
   "cell_type": "markdown",
   "id": "f7ac9272",
   "metadata": {},
   "source": [
    "## Rayleigh Distribution"
   ]
  },
  {
   "cell_type": "code",
   "execution_count": 27,
   "id": "572d74a1",
   "metadata": {},
   "outputs": [
    {
     "name": "stdout",
     "output_type": "stream",
     "text": [
      "[0.69556546 1.51738238 1.0748313  1.15106934 0.34315579 1.47972872\n",
      " 2.69928711 0.13738823 2.12476232 1.74327403]\n"
     ]
    },
    {
     "name": "stderr",
     "output_type": "stream",
     "text": [
      "/home/blackheart/.local/lib/python3.10/site-packages/seaborn/distributions.py:2619: FutureWarning: `distplot` is a deprecated function and will be removed in a future version. Please adapt your code to use either `displot` (a figure-level function with similar flexibility) or `kdeplot` (an axes-level function for kernel density plots).\n",
      "  warnings.warn(msg, FutureWarning)\n"
     ]
    },
    {
     "data": {
      "image/png": "[encoded data removed]",
      "text/plain": [
       "<Figure size 432x288 with 1 Axes>"
      ]
     },
     "metadata": {
      "needs_background": "light"
     },
     "output_type": "display_data"
    }
   ],
   "source": [
    "rayleigh = np.random.rayleigh(scale=1, size=10)\n",
    "print(rayleigh)\n",
    "\n",
    "# Visualization of Rayleigh Distribution\n",
    "\n",
    "rayleigh = np.random.rayleigh(scale=1.0, size=1000)\n",
    "\n",
    "sns.distplot(rayleigh, hist=False)\n",
    "plt.show()"
   ]
  },
  {
   "cell_type": "markdown",
   "id": "0d929215",
   "metadata": {},
   "source": [
    "## Pareto Distribution"
   ]
  },
  {
   "cell_type": "code",
   "execution_count": 28,
   "id": "b8c81ad0",
   "metadata": {},
   "outputs": [
    {
     "name": "stdout",
     "output_type": "stream",
     "text": [
      "[0.16420444 0.05795147 0.52099874 0.45412827 1.52838204 2.83038718\n",
      " 0.96745545 0.44137281 0.55979648 0.57605098]\n"
     ]
    },
    {
     "name": "stderr",
     "output_type": "stream",
     "text": [
      "/home/blackheart/.local/lib/python3.10/site-packages/seaborn/distributions.py:2619: FutureWarning: `distplot` is a deprecated function and will be removed in a future version. Please adapt your code to use either `displot` (a figure-level function with similar flexibility) or `kdeplot` (an axes-level function for kernel density plots).\n",
      "  warnings.warn(msg, FutureWarning)\n"
     ]
    },
    {
     "data": {
      "image/png": "[encoded data removed]",
      "text/plain": [
       "<Figure size 432x288 with 1 Axes>"
      ]
     },
     "metadata": {
      "needs_background": "light"
     },
     "output_type": "display_data"
    }
   ],
   "source": [
    "pareto = np.random.pareto(a=2, size=10)\n",
    "print(pareto)\n",
    "\n",
    "# Visualization of Pareto Distribution\n",
    "pareto = np.random.pareto(a=3, size=1000)\n",
    "\n",
    "sns.distplot(pareto, hist=False)\n",
    "plt.show()\n"
   ]
  },
  {
   "cell_type": "markdown",
   "id": "c28a7bb2",
   "metadata": {},
   "source": [
    "## Zipf Distribution"
   ]
  },
  {
   "cell_type": "code",
   "execution_count": 29,
   "id": "08374a0c",
   "metadata": {},
   "outputs": [
    {
     "name": "stdout",
     "output_type": "stream",
     "text": [
      "[1 1 1 1 1 4 1 1 2 2]\n"
     ]
    },
    {
     "name": "stderr",
     "output_type": "stream",
     "text": [
      "/home/blackheart/.local/lib/python3.10/site-packages/seaborn/distributions.py:2619: FutureWarning: `distplot` is a deprecated function and will be removed in a future version. Please adapt your code to use either `displot` (a figure-level function with similar flexibility) or `kdeplot` (an axes-level function for kernel density plots).\n",
      "  warnings.warn(msg, FutureWarning)\n"
     ]
    },
    {
     "data": {
      "image/png": "[encoded data removed]",
      "text/plain": [
       "<Figure size 432x288 with 1 Axes>"
      ]
     },
     "metadata": {
      "needs_background": "light"
     },
     "output_type": "display_data"
    }
   ],
   "source": [
    "zipf = np.random.zipf(a=3, size=10)\n",
    "print(zipf)\n",
    "\n",
    "# Visualization of Zipf Distribution\n",
    "zipf = np.random.zipf(a=2, size=1000)\n",
    "\n",
    "sns.distplot(zipf, hist=False)\n",
    "plt.show()"
   ]
  },
  {
   "cell_type": "markdown",
   "id": "86dd8b0b",
   "metadata": {},
   "source": [
    "# 3- NumPy ufunc"
   ]
  },
  {
   "cell_type": "markdown",
   "id": "d53cb59a",
   "metadata": {},
   "source": [
    "## Create Your Own ufunc"
   ]
  },
  {
   "cell_type": "code",
   "execution_count": 2,
   "id": "b2e132d0",
   "metadata": {},
   "outputs": [
    {
     "name": "stdout",
     "output_type": "stream",
     "text": [
      "[5 7 9]\n",
      "<class 'numpy.ufunc'>\n",
      "<class 'numpy.ufunc'>\n",
      "<class 'numpy.ufunc'>\n",
      "<class 'function'>\n"
     ]
    }
   ],
   "source": [
    "# 1- Create Ufunc\n",
    "def add_num(x, y):\n",
    "    return x + y\n",
    "\n",
    "add_num = np.frompyfunc(add_num, 2, 1)\n",
    "\n",
    "a = [1, 2, 3]\n",
    "b = [4, 5, 6]\n",
    "\n",
    "c = add_num(a, b)\n",
    "print(c)\n",
    "\n",
    "# 2- check if a function or ufunc\n",
    "print(np.ufunc)\n",
    "\n",
    "print(type(np.add))\n",
    "print(type(add_num))\n",
    "\n",
    "print(type(np.where))\n"
   ]
  },
  {
   "cell_type": "markdown",
   "id": "874b7929",
   "metadata": {},
   "source": [
    "## Simple Arithmetic"
   ]
  },
  {
   "cell_type": "code",
   "execution_count": 3,
   "id": "76464693",
   "metadata": {},
   "outputs": [
    {
     "name": "stdout",
     "output_type": "stream",
     "text": [
      "Addition: [12  9  8]\n",
      "Subtraction: [6 1 4]\n",
      "Multiplication: [27 20 12]\n",
      "Division: [3.   1.25 3.  ]\n",
      "Mod: [0 1 0]\n",
      "Remainder: [0 1 0]\n",
      "Quotient and Mod: (array([3, 1, 3]), array([0, 1, 0]))\n",
      "Power: [729 625  36]\n",
      "Absolute Values: [9 5 6]\n"
     ]
    }
   ],
   "source": [
    "a = np.array([9, 5, 6])\n",
    "b = np.array([3, 4, 2])\n",
    "\n",
    "# 1- Addition\n",
    "c = np.add(a, b)\n",
    "print(f\"Addition: {c}\")\n",
    "\n",
    "# 2- Subtraction\n",
    "c = np.subtract(a, b)\n",
    "print(f\"Subtraction: {c}\")\n",
    "\n",
    "\n",
    "# 3- Multiplication\n",
    "c = np.multiply(a, b)\n",
    "print(f\"Multiplication: {c}\")\n",
    "\n",
    "\n",
    "# 4- Division\n",
    "c = np.divide(a, b)\n",
    "print(f\"Division: {c}\")\n",
    "\n",
    "\n",
    "# 5- Remainder\n",
    "c = np.mod(a, b)\n",
    "print(f\"Mod: {c}\")\n",
    "\n",
    "c = np.remainder(a, b)\n",
    "print(f\"Remainder: {c}\")\n",
    "\n",
    "# 6- Quotient and Mod\n",
    "c = np.divmod(a, b)\n",
    "print(f\"Quotient and Mod: {c}\")\n",
    "\n",
    "# 7- Power\n",
    "c = np.power(a, b)\n",
    "print(f\"Power: {c}\")\n",
    "\n",
    "\n",
    "# 8- Absolute Values\n",
    "c = np.absolute(a, b)\n",
    "print(f\"Absolute Values: {c}\")"
   ]
  },
  {
   "cell_type": "markdown",
   "id": "fb24309b",
   "metadata": {},
   "source": [
    "## Rounding Decimals"
   ]
  },
  {
   "cell_type": "code",
   "execution_count": 4,
   "id": "52006734",
   "metadata": {},
   "outputs": [
    {
     "name": "stdout",
     "output_type": "stream",
     "text": [
      "Trunc: [ 1.  1. -1. -1.]\n",
      "Fix: [ 1.  1. -1. -1.]\n",
      "Round: [ 1.  2. -1. -2.]\n",
      "Floor: [ 1.  1. -2. -2.]\n",
      "Ceil: [ 2.  2. -1. -1.]\n"
     ]
    }
   ],
   "source": [
    "a = np.array([1.4, 1.5, -1.4, -1.5])\n",
    "\n",
    "# 1- Truncation and Fix\n",
    "c = np.trunc(a)\n",
    "print(f\"Trunc: {c}\")\n",
    "\n",
    "c = np.fix(a)\n",
    "print(f\"Fix: {c}\")\n",
    "\n",
    "# 2- Rounding\n",
    "c = np.around(a)\n",
    "print(f\"Round: {c}\")\n",
    "\n",
    "# 3- Floor\n",
    "c = np.floor(a)\n",
    "print(f\"Floor: {c}\")\n",
    "\n",
    "# 4- Ceil\n",
    "c = np.ceil(a)\n",
    "print(f\"Ceil: {c}\")"
   ]
  },
  {
   "cell_type": "markdown",
   "id": "8f26dfc8",
   "metadata": {},
   "source": [
    "## NumPy Logs"
   ]
  },
  {
   "cell_type": "code",
   "execution_count": 5,
   "id": "48dac5cf",
   "metadata": {},
   "outputs": [
    {
     "name": "stdout",
     "output_type": "stream",
     "text": [
      "Log at Base 2: [0.         1.         1.5849625  2.         2.32192809]\n",
      "Log at Base 10: [      -inf 0.         0.20001899 0.30103    0.36584877]\n",
      "Log at Base e: [        nan        -inf -1.60934296 -1.20054537 -1.00553524]\n",
      "Log at Any Base: [0.0 0.43067655807339306 0.6826061944859854 0.8613531161467861 1.0]\n"
     ]
    },
    {
     "name": "stderr",
     "output_type": "stream",
     "text": [
      "/tmp/ipykernel_11186/3941975172.py:10: RuntimeWarning: divide by zero encountered in log10\n",
      "  c = np.log10(c)\n",
      "/tmp/ipykernel_11186/3941975172.py:14: RuntimeWarning: divide by zero encountered in log\n",
      "  c = np.log(c)\n",
      "/tmp/ipykernel_11186/3941975172.py:14: RuntimeWarning: invalid value encountered in log\n",
      "  c = np.log(c)\n"
     ]
    }
   ],
   "source": [
    "import math\n",
    "\n",
    "a = np.array([1, 2, 3, 4, 5])\n",
    "\n",
    "# 1- Log at Base 2\n",
    "c = np.log2(a)\n",
    "print(f\"Log at Base 2: {c}\")\n",
    "\n",
    "# 2- Log at Base 10\n",
    "c = np.log10(c)\n",
    "print(f\"Log at Base 10: {c}\")\n",
    "\n",
    "# 3- Log at Base e\n",
    "c = np.log(c)\n",
    "print(f\"Log at Base e: {c}\")\n",
    "\n",
    "# 4- Log at Any Base\n",
    "log = np.frompyfunc(math.log, 2, 1)\n",
    "c = log(a, 5)\n",
    "print(f\"Log at Any Base: {c}\")\n"
   ]
  },
  {
   "cell_type": "markdown",
   "id": "f6988b97",
   "metadata": {},
   "source": [
    "## NumPy Summations"
   ]
  },
  {
   "cell_type": "code",
   "execution_count": 7,
   "id": "a2391e66",
   "metadata": {},
   "outputs": [
    {
     "name": "stdout",
     "output_type": "stream",
     "text": [
      "[ 6  8 10 12]\n",
      "10\n",
      "26\n",
      "36\n",
      "[ 6  8 10 12]\n",
      "[10 26]\n",
      "[ 1  3  6 10]\n",
      "[ 5 11 18 26]\n"
     ]
    }
   ],
   "source": [
    "# Summations\n",
    "# What is the difference between summation and addition?\n",
    "# Addition is done between two arguments whereas summation happens over n elements.\n",
    "\n",
    "a = np.array([1, 2, 3, 4])\n",
    "b = np.array([5, 6, 7, 8])\n",
    "\n",
    "c = np.add(a, b)\n",
    "print(c)\n",
    "\n",
    "c = np.sum(a)\n",
    "print(c)\n",
    "\n",
    "c = np.sum(b)\n",
    "print(c)\n",
    "\n",
    "c = np.sum((a, b))\n",
    "print(c)\n",
    "\n",
    "c = np.sum([a, b], axis=0)\n",
    "print(c)\n",
    "\n",
    "c = np.sum([a, b], axis=1)\n",
    "print(c)\n",
    "\n",
    "\n",
    "c = np.cumsum(a)\n",
    "print(c)\n",
    "\n",
    "c = np.cumsum(b)\n",
    "print(c)"
   ]
  },
  {
   "cell_type": "markdown",
   "id": "27d529b2",
   "metadata": {},
   "source": [
    "## NumPy Products"
   ]
  },
  {
   "cell_type": "code",
   "execution_count": 8,
   "id": "806a06f8",
   "metadata": {},
   "outputs": [
    {
     "name": "stdout",
     "output_type": "stream",
     "text": [
      "24\n",
      "1680\n",
      "40320\n",
      "[ 5 12 21 32]\n",
      "[  24 1680]\n",
      "[ 1  2  6 24]\n",
      "[   5   30  210 1680]\n"
     ]
    }
   ],
   "source": [
    "a = np.array([1, 2, 3, 4])\n",
    "b = np.array([5, 6, 7, 8])\n",
    "\n",
    "c = np.prod(a)\n",
    "print(c)\n",
    "\n",
    "c = np.prod(b)\n",
    "print(c)\n",
    "\n",
    "\n",
    "c = np.prod([a, b])\n",
    "print(c)\n",
    "\n",
    "c = np.prod([a, b], axis=0)\n",
    "print(c)\n",
    "\n",
    "c = np.prod([a, b], axis=1)\n",
    "print(c)\n",
    "\n",
    "c = np.cumprod(a)\n",
    "print(c)\n",
    "\n",
    "c = np.cumprod(b)\n",
    "print(c)"
   ]
  },
  {
   "cell_type": "markdown",
   "id": "2ff77d43",
   "metadata": {},
   "source": [
    "## NumPy Differences"
   ]
  },
  {
   "cell_type": "code",
   "execution_count": 9,
   "id": "2c3d088c",
   "metadata": {},
   "outputs": [
    {
     "name": "stdout",
     "output_type": "stream",
     "text": [
      "[ 5  1 -5]\n",
      "[-4 -6]\n",
      "[-2]\n"
     ]
    }
   ],
   "source": [
    "a = np.array([4, 9, 10, 5])\n",
    "\n",
    "c = np.diff(a)\n",
    "print(c)\n",
    "\n",
    "c = np.diff(a, 2)\n",
    "print(c)\n",
    "\n",
    "c = np.diff(a, 3)\n",
    "print(c)"
   ]
  },
  {
   "cell_type": "markdown",
   "id": "5c59d2c6",
   "metadata": {},
   "source": [
    "## NumPy LCM Lowest Common Multiple"
   ]
  },
  {
   "cell_type": "code",
   "execution_count": 10,
   "id": "cfc33ac0",
   "metadata": {},
   "outputs": [
    {
     "name": "stdout",
     "output_type": "stream",
     "text": [
      "36\n",
      "20\n"
     ]
    }
   ],
   "source": [
    "a = 4\n",
    "b = 9\n",
    "\n",
    "c = np.lcm(a, b)\n",
    "print(c)\n",
    "\n",
    "\n",
    "a = np.array([1, 2, 4, 5])\n",
    "\n",
    "c = np.lcm.reduce(a)\n",
    "print(c)"
   ]
  },
  {
   "cell_type": "markdown",
   "id": "ac99b069",
   "metadata": {},
   "source": [
    "## NumPy GCD Greatest Common Denominator"
   ]
  },
  {
   "cell_type": "code",
   "execution_count": 11,
   "id": "baaa55cc",
   "metadata": {},
   "outputs": [
    {
     "name": "stdout",
     "output_type": "stream",
     "text": [
      "5\n",
      "7\n"
     ]
    }
   ],
   "source": [
    "a = 25\n",
    "b = 35\n",
    "\n",
    "c = np.gcd(a, b)\n",
    "print(c)\n",
    "\n",
    "\n",
    "a = np.array([21, 77, 35, 28, 70])\n",
    "\n",
    "c = np.gcd.reduce(a)\n",
    "print(c)\n"
   ]
  },
  {
   "cell_type": "markdown",
   "id": "18e2a688",
   "metadata": {},
   "source": [
    "## NumPy Trigonometric Functions"
   ]
  },
  {
   "cell_type": "code",
   "execution_count": 4,
   "id": "5da27daa",
   "metadata": {},
   "outputs": [
    {
     "name": "stdout",
     "output_type": "stream",
     "text": [
      "Sin 1.5707963267948966: 1.0\n",
      "Tan 1.5707963267948966: 1.633123935319537e+16\n",
      "Cos 1.5707963267948966: 6.123233995736766e-17\n",
      "Sin [1.57079633 1.04719755 0.78539816 0.62831853]: [1.         0.8660254  0.70710678 0.58778525]\n",
      "Tan [1.57079633 1.04719755 0.78539816 0.62831853]: [1.63312394e+16 1.73205081e+00 1.00000000e+00 7.26542528e-01]\n",
      "Cos [1.57079633 1.04719755 0.78539816 0.62831853]: [6.12323400e-17 5.00000000e-01 7.07106781e-01 8.09016994e-01]\n",
      "deg2rad 1.5707963267948966: 0.027415567780803774\n",
      "deg2rad [1.57079633 1.04719755 0.78539816 0.62831853]: [0.02741557 0.01827705 0.01370778 0.01096623]\n",
      "rad2deg 1.633123935319537e+16: 9.35711089156055e+17\n",
      "rad2deg [6.12323400e-17 5.00000000e-01 7.07106781e-01 8.09016994e-01]: [3.50835465e-15 2.86478898e+01 4.05142342e+01 4.63532593e+01]\n",
      "Sin 1.0: 1.5707963267948966\n",
      "Tan 1.0: 0.7853981633974483\n",
      "Cos 1.0: 0.0\n",
      "Sin [6.12323400e-17 5.00000000e-01 7.07106781e-01 8.09016994e-01]: [6.12323400e-17 5.23598776e-01 7.85398163e-01 9.42477795e-01]\n",
      "Tan [6.12323400e-17 5.00000000e-01 7.07106781e-01 8.09016994e-01]: [6.12323400e-17 4.63647609e-01 6.15479709e-01 6.80214977e-01]\n",
      "Cos [6.12323400e-17 5.00000000e-01 7.07106781e-01 8.09016994e-01]: [1.57079633 1.04719755 0.78539816 0.62831853]\n",
      "Hypot :6.4031242374328485\n"
     ]
    }
   ],
   "source": [
    "arr = np.array([np.pi/2, np.pi/3, np.pi/4, np.pi/5])\n",
    "a = np.pi/2\n",
    "\n",
    "c = np.sin(a)\n",
    "print(f\"Sin {a}: {c}\")\n",
    "\n",
    "c = np.tan(a)\n",
    "print(f\"Tan {a}: {c}\")\n",
    "\n",
    "c = np.cos(a)\n",
    "print(f\"Cos {a}: {c}\")\n",
    "\n",
    "\n",
    "c = np.sin(arr)\n",
    "print(f\"Sin {arr}: {c}\")\n",
    "\n",
    "c = np.tan(arr)\n",
    "print(f\"Tan {arr}: {c}\")\n",
    "\n",
    "c = np.cos(arr)\n",
    "print(f\"Cos {arr}: {c}\")\n",
    "\n",
    "\n",
    "# Convert Degrees Into Radians\n",
    "\n",
    "c = np.deg2rad(a)\n",
    "print(f\"deg2rad {a}: {c}\")\n",
    "\n",
    "c = np.deg2rad(arr)\n",
    "print(f\"deg2rad {arr}: {c}\")\n",
    "\n",
    "\n",
    "# Radians to Degrees\n",
    "a = 1.633123935319537e+16\n",
    "arr = np.array([6.12323400e-17, 5.00000000e-01, 7.07106781e-01, 8.09016994e-01])\n",
    "\n",
    "c = np.rad2deg(a)\n",
    "print(f\"rad2deg {a}: {c}\")\n",
    "\n",
    "c = np.rad2deg(arr)\n",
    "print(f\"rad2deg {arr}: {c}\")\n",
    "\n",
    "# Finding Angles\n",
    "a = 1.0\n",
    "arr = np.array([6.12323400e-17, 5.00000000e-01, 7.07106781e-01, 8.09016994e-01])\n",
    "\n",
    "c = np.arcsin(a)\n",
    "print(f\"Sin {a}: {c}\")\n",
    "\n",
    "c = np.arctan(a)\n",
    "print(f\"Tan {a}: {c}\")\n",
    "\n",
    "c = np.arccos(a)\n",
    "print(f\"Cos {a}: {c}\")\n",
    "\n",
    "\n",
    "c = np.arcsin(arr)\n",
    "print(f\"Sin {arr}: {c}\")\n",
    "\n",
    "c = np.arctan(arr)\n",
    "print(f\"Tan {arr}: {c}\")\n",
    "\n",
    "c = np.arccos(arr)\n",
    "print(f\"Cos {arr}: {c}\")\n",
    "\n",
    "hypot = np.hypot(4, 5)\n",
    "print(f\"Hypot :{hypot}\")"
   ]
  },
  {
   "cell_type": "markdown",
   "id": "06bf841e",
   "metadata": {},
   "source": [
    "## NumPy Hyperbolic Functions"
   ]
  },
  {
   "cell_type": "code",
   "execution_count": 5,
   "id": "b10e435b",
   "metadata": {},
   "outputs": [
    {
     "name": "stdout",
     "output_type": "stream",
     "text": [
      "Sinh 1.5707963267948966: 2.3012989023072947\n",
      "Tanh 1.5707963267948966: 0.9171523356672744\n",
      "Cosh 1.5707963267948966: 2.5091784786580567\n",
      "Sinh [1.57079633 1.04719755 0.78539816 0.62831853]: [2.3012989  1.24936705 0.86867096 0.670484  ]\n",
      "Tanh [1.57079633 1.04719755 0.78539816 0.62831853]: [0.91715234 0.78071444 0.6557942  0.55689331]\n",
      "Cosh [1.57079633 1.04719755 0.78539816 0.62831853]: [2.50917848 1.60028686 1.32460909 1.20397209]\n",
      "arcSinh 1.5707963267948966: 1.233403117511217\n",
      "arcTanh 1.5707963267948966: nan\n",
      "arcCosh 1.5707963267948966: 1.0232274785475506\n",
      "Sinh [0.1 0.2 0.3]: [0.09983408 0.19869011 0.29567305]\n",
      "Tanh [0.1 0.2 0.3]: [0.10033535 0.20273255 0.3095196 ]\n",
      "Cosh [0.1 0.2 0.3]: [nan nan nan]\n"
     ]
    },
    {
     "name": "stderr",
     "output_type": "stream",
     "text": [
      "/tmp/ipykernel_5106/1349905293.py:33: RuntimeWarning: invalid value encountered in arctanh\n",
      "  c = np.arctanh(a)\n",
      "/tmp/ipykernel_5106/1349905293.py:46: RuntimeWarning: invalid value encountered in arccosh\n",
      "  c = np.arccosh(arr)\n"
     ]
    }
   ],
   "source": [
    "# Hyperbolic Functions\n",
    "arr = np.array([np.pi/2, np.pi/3, np.pi/4, np.pi/5])\n",
    "a = np.pi/2\n",
    "\n",
    "c = np.sinh(a)\n",
    "print(f\"Sinh {a}: {c}\")\n",
    "\n",
    "c = np.tanh(a)\n",
    "print(f\"Tanh {a}: {c}\")\n",
    "\n",
    "c = np.cosh(a)\n",
    "print(f\"Cosh {a}: {c}\")\n",
    "\n",
    "\n",
    "c = np.sinh(arr)\n",
    "print(f\"Sinh {arr}: {c}\")\n",
    "\n",
    "c = np.tanh(arr)\n",
    "print(f\"Tanh {arr}: {c}\")\n",
    "\n",
    "c = np.cosh(arr)\n",
    "print(f\"Cosh {arr}: {c}\")\n",
    "\n",
    "# Finding Angles\n",
    "\n",
    "a = np.pi/2\n",
    "\n",
    "arr = np.array([0.1, 0.2, 0.3])\n",
    "\n",
    "c = np.arcsinh(a)\n",
    "print(f\"arcSinh {a}: {c}\")\n",
    "\n",
    "c = np.arctanh(a)\n",
    "print(f\"arcTanh {a}: {c}\")\n",
    "\n",
    "c = np.arccosh(a)\n",
    "print(f\"arcCosh {a}: {c}\")\n",
    "\n",
    "\n",
    "c = np.arcsinh(arr)\n",
    "print(f\"Sinh {arr}: {c}\")\n",
    "\n",
    "c = np.arctanh(arr)\n",
    "print(f\"Tanh {arr}: {c}\")\n",
    "\n",
    "c = np.arccosh(arr)\n",
    "print(f\"Cosh {arr}: {c}\")"
   ]
  },
  {
   "cell_type": "markdown",
   "id": "120aaf84",
   "metadata": {},
   "source": [
    "## Hmmmm(=_=)"
   ]
  },
  {
   "cell_type": "code",
   "execution_count": null,
   "id": "91b13dc8",
   "metadata": {},
   "outputs": [],
   "source": []
  }
 ],
 "metadata": {
  "kernelspec": {
   "display_name": "Python 3 (ipykernel)",
   "language": "python",
   "name": "python3"
  },
  "language_info": {
   "codemirror_mode": {
    "name": "ipython",
    "version": 3
   },
   "file_extension": ".py",
   "mimetype": "text/x-python",
   "name": "python",
   "nbconvert_exporter": "python",
   "pygments_lexer": "ipython3",
   "version": "3.10.0"
  }
 },
 "nbformat": 4,
 "nbformat_minor": 5
}
